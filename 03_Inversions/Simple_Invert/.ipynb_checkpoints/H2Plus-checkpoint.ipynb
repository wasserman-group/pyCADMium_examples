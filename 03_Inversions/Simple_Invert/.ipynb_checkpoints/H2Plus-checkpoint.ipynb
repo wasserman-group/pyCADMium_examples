{
 "cells": [
  {
   "cell_type": "code",
   "execution_count": 1,
   "id": "44bcf6f0",
   "metadata": {},
   "outputs": [
    {
     "name": "stdout",
     "output_type": "stream",
     "text": [
      "----> Begin SCF calculation for *Isolated* Fragments\n",
      "\n",
      "                Total Energy (a.u.)       \n",
      "\n",
      "                __________________        \n",
      "\n",
      "Iteration         A            B              res     \n",
      "\n",
      "_______________________________________________________\n",
      "\n",
      "    1           -0.25000     -0.25000       1.000e+00 \n",
      "    2           -0.25000     -0.25000       4.100e-10 \n"
     ]
    }
   ],
   "source": [
    "import numpy as np\n",
    "import matplotlib.pyplot as plt\n",
    "\n",
    "from CADMium import Pssolver\n",
    "from CADMium import Psgrid\n",
    "from CADMium import Partition\n",
    "from CADMium import Inverter\n",
    "\n",
    "a = 2.0/2\n",
    "#Nuclear charge for fragments A and B\n",
    "Za, Zb = 1,1\n",
    "#Set polarization 1-Unpolarized, 2-Polarized|\n",
    "pol = 2\n",
    "#Fragment a electrons [alpha, beta]\n",
    "Nmo_a = [[1  ,0]] #Number of molecular orbitals to calculate\n",
    "N_a   = [[0.5,0]]\n",
    "#Ensemble mix\n",
    "nu_a = 1\n",
    "#Fragment b electrons\n",
    "Nmo_b = [[1  ,0]]\n",
    "N_b   = [[0.5,0]]\n",
    "#Ensemble mix\n",
    "nu_b = 1\n",
    "\n",
    "#Molecular elctron configuration\n",
    "Nmo_m = [[1,1]]\n",
    "N_m   = [[1,1]]\n",
    "\n",
    "#Set up grid\n",
    "NP = 7\n",
    "NM = [4,4]\n",
    "L = np.arccosh(10/a)\n",
    "loc = np.array(range(-4,5)) #Stencil outline\n",
    "\n",
    "grid = Psgrid(NP, NM, a, L, loc)\n",
    "grid.initialize()\n",
    "\n",
    "part = Partition(grid, Za, Zb, pol, Nmo_a, N_a, nu_a, Nmo_b, N_b, nu_b, {  \"ab_sym\"            : True,\n",
    "                                                                           \"ens_spin_sym\"      : False,  \n",
    "                                                                           \"kinetic_part_type\" : \"libxcke\",\n",
    "                                                                           \"k_family\"          : \"gga\",\n",
    "                                                                           \"ke_func_id\"        : 500,\n",
    "                                                                           \"interaction_type\"  : \"ni\",\n",
    "                                                                           \"fractional\"        : True,\n",
    "                                                                            })\n",
    "\n",
    "#Setup inverter object\n",
    "mol_solver = Pssolver(grid, Nmo_m, N_m)\n",
    "part.inverter = Inverter(grid, mol_solver, {  \"AB_SYM\"         : True,\n",
    "                                              \"ENS_SPIN_SYM\"   : False,  \n",
    "                                              \"use_iterative\"  : False,\n",
    "                                              \"invert_type\"    : \"wuyang\",\n",
    "                                              \"Tol_lin_solver\" : 1e-3,\n",
    "                                              \"disp\"           : True,  \n",
    "                                            })\n",
    "\n",
    "\n",
    "part.optPartition.isolated = True\n",
    "part.scf({\"disp\"     : True,\n",
    "          \"e_tol\"    : 1e-7})"
   ]
  },
  {
   "cell_type": "code",
   "execution_count": 2,
   "id": "76411bec",
   "metadata": {},
   "outputs": [
    {
     "name": "stdout",
     "output_type": "stream",
     "text": [
      "----> Begin SCF calculation for *Interacting* Fragments\n",
      "\n",
      "                Total Energy (a.u.)       \n",
      "\n",
      "                __________________        \n",
      "\n",
      "Iteration         A            B              res     \n",
      "\n",
      "_______________________________________________________\n",
      "\n",
      "    1           -0.20949     -0.20949       1.000e+00 \n",
      "    2           -0.21997     -0.21997       7.238e-02 \n",
      "    3           -0.22295     -0.22295       1.886e-02 \n",
      "    4           -0.22339     -0.22339       2.846e-03 \n",
      "    5           -0.22347     -0.22347       5.259e-04 \n",
      "    6           -0.22348     -0.22348       9.523e-05 \n",
      "    7           -0.22349     -0.22349       1.723e-05 \n",
      "    8           -0.22349     -0.22349       3.114e-06 \n",
      "    9           -0.22349     -0.22349       5.623e-07 \n",
      "   10           -0.22349     -0.22349       1.015e-07 \n",
      "   11           -0.22349     -0.22349       1.831e-08 \n"
     ]
    }
   ],
   "source": [
    "na0 = part.KSa.n\n",
    "nb0 = part.KSb.n\n",
    "\n",
    "part.optPartition.isolated = False\n",
    "part.scf({'iterative' : False,\n",
    "          'disp'      : True,\n",
    "           'continuing' : True})"
   ]
  },
  {
   "cell_type": "code",
   "execution_count": 3,
   "id": "35c1d275",
   "metadata": {},
   "outputs": [
    {
     "data": {
      "text/plain": [
       "{'Ea': -0.22348683901190802,\n",
       " 'Eb': -0.22348683901190802,\n",
       " 'Ef': -0.44697367802381605,\n",
       " 'Tsf': 0.6872831483177428,\n",
       " 'Eksf': array([[-1.10263421,  0.        ]]),\n",
       " 'Enucf': -1.1342568263415589,\n",
       " 'Exf': 0.0,\n",
       " 'Ecf': 0.0,\n",
       " 'Ehf': 0.0,\n",
       " 'Vhxcf': 0.0,\n",
       " 'Ep': -0.6556597136039147,\n",
       " 'Ep_pot': -0.5704371578257039,\n",
       " 'Ep_kin': -0.0852225557782108,\n",
       " 'Ep_hxc': 0,\n",
       " 'Et': -1.1026333916277307,\n",
       " 'Vnn': 0.5,\n",
       " 'E': -0.6026333916277307,\n",
       " 'evals_a': array([-1.10263421e+00, -4.50359963e+15]),\n",
       " 'evals_b': array([-1.10263421e+00, -4.50359963e+15]),\n",
       " 'Ep_h': 0,\n",
       " 'Ep_x': 0,\n",
       " 'Ep_c': 0}"
      ]
     },
     "execution_count": 3,
     "metadata": {},
     "output_type": "execute_result"
    }
   ],
   "source": [
    "# Look at all of the energy components\n",
    "vars(part.E)"
   ]
  },
  {
   "cell_type": "code",
   "execution_count": 5,
   "id": "329db4cd",
   "metadata": {},
   "outputs": [
    {
     "data": {
      "text/plain": [
       "[<matplotlib.lines.Line2D at 0x7f35ace9ef70>]"
      ]
     },
     "execution_count": 5,
     "metadata": {},
     "output_type": "execute_result"
    },
    {
     "data": {
      "image/png": "[encoded data removed]",
      "text/plain": [
       "<Figure size 432x288 with 1 Axes>"
      ]
     },
     "metadata": {
      "needs_background": "light"
     },
     "output_type": "display_data"
    }
   ],
   "source": [
    "# Plot partition potential in one-dimension. \n",
    "\n",
    "full, x,y = grid.plotter(part.V.vp[:,0] + part.V.vp[:,1])\n",
    "x_axis,vp = grid.axis_plot(part.V.vp[:,0] + part.V.vp[:,1])\n",
    "plt.plot(x_axis, vp)"
   ]
  }
 ],
 "metadata": {
  "kernelspec": {
   "display_name": "Python 3 (ipykernel)",
   "language": "python",
   "name": "python3"
  },
  "language_info": {
   "codemirror_mode": {
    "name": "ipython",
    "version": 3
   },
   "file_extension": ".py",
   "mimetype": "text/x-python",
   "name": "python",
   "nbconvert_exporter": "python",
   "pygments_lexer": "ipython3",
   "version": "3.8.5"
  }
 },
 "nbformat": 4,
 "nbformat_minor": 5
}

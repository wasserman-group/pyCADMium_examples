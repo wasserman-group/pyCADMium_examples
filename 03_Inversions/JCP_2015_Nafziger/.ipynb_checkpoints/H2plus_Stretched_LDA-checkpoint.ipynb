{
 "cells": [
  {
   "cell_type": "code",
   "execution_count": null,
   "metadata": {},
   "outputs": [],
   "source": [
    "import numpy as np\n",
    "from CADMium import Psgrid\n",
    "from CADMium import Kohnsham\n",
    "\n",
    "distances   = np.linspace(1.5, 8, 10)\n",
    "lda_energy  = []\n",
    "\n",
    "Za, Zb = 1,1\n",
    "Nmo = [[1,0]]\n",
    "N   = [[1,0]]\n",
    "pol = 2\n",
    "NP, NM = 7, [4,4] \n",
    "optKS = {}\n",
    "\n",
    "\n",
    "for d in distances:\n",
    "    #Initialize Grid and Separation\n",
    "    a =  d/2\n",
    "    L = np.arccosh(15./a) \n",
    "    loc = np.array(range(-4,5))\n",
    "    grid = Psgrid(NP, NM, a, L, loc)\n",
    "    grid.initialize()\n",
    "\n",
    "    #Kohn Sham Object. SCF Calcualtion\n",
    "    KS = Kohnsham(grid, Za, Zb, pol, Nmo, N, optKS)\n",
    "    KS.scf({\"disp\" : False})\n",
    "    lda_energy.append(KS.E.E)\n",
    "    print(KS.E.E)"
   ]
  },
  {
   "cell_type": "code",
   "execution_count": 4,
   "metadata": {},
   "outputs": [
    {
     "data": {
      "text/plain": [
       "-0.5838544975092781"
      ]
     },
     "execution_count": 4,
     "metadata": {},
     "output_type": "execute_result"
    }
   ],
   "source": [
    "KS.E.E"
   ]
  },
  {
   "cell_type": "code",
   "execution_count": null,
   "metadata": {},
   "outputs": [],
   "source": []
  }
 ],
 "metadata": {
  "kernelspec": {
   "display_name": "Python 3",
   "language": "python",
   "name": "python3"
  },
  "language_info": {
   "codemirror_mode": {
    "name": "ipython",
    "version": 3
   },
   "file_extension": ".py",
   "mimetype": "text/x-python",
   "name": "python",
   "nbconvert_exporter": "python",
   "pygments_lexer": "ipython3",
   "version": "3.8.5"
  }
 },
 "nbformat": 4,
 "nbformat_minor": 4
}

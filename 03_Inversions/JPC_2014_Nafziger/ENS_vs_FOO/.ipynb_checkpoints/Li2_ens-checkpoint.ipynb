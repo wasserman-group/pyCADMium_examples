{
 "cells": [
  {
   "cell_type": "code",
   "execution_count": 1,
   "metadata": {},
   "outputs": [
    {
     "name": "stdout",
     "output_type": "stream",
     "text": [
      "----> Active Ensemble: \n",
      "\n",
      "      Fragment A electrons bewteen: [[1, 2]] and [[2, 1]]\n",
      "      Fragment B electrons between: [[1, 2]] and [[2, 1]]\n",
      "\n",
      "\n",
      "be careful! Treating ensembles with nu_x=1.0 will break things\n",
      "----> Begin SCF calculation for *Isolated* Fragments\n",
      "\n",
      "                Total Energy (a.u.)                                Inversion                \n",
      "\n",
      "                __________________                ____________________________________     \n",
      "\n",
      "Iteration         A              B                  iters      optimality        res       \n",
      "\n",
      "___________________________________________________________________________________________ \n",
      "\n",
      "    1           -8.62301     -8.62301       1.000e+00 \n",
      "    2           -7.59515     -7.59515       1.530e-01 \n",
      "    3           -7.38724     -7.38724       5.758e-02 \n",
      "    4           -7.34928     -7.34928       2.753e-02 \n",
      "    5           -7.34331     -7.34331       1.291e-02 \n",
      "    6           -7.34300     -7.34300       6.027e-03 \n",
      "    7           -7.34348     -7.34348       2.683e-03 \n",
      "    8           -7.34364     -7.34364       1.377e-03 \n",
      "    9           -7.34379     -7.34379       6.411e-04 \n",
      "   10           -7.34386     -7.34386       2.991e-04 \n",
      "   11           -7.34388     -7.34388       1.403e-04 \n",
      "   12           -7.34390     -7.34390       6.598e-05 \n",
      "   13           -7.34390     -7.34390       3.116e-05 \n",
      "   14           -7.34390     -7.34390       1.481e-05 \n",
      "   15           -7.34390     -7.34390       7.069e-06 \n",
      "   16           -7.34390     -7.34390       3.397e-06 \n",
      "   17           -7.34390     -7.34390       1.641e-06 \n",
      "   18           -7.34390     -7.34390       7.943e-07 \n",
      "   19           -7.34390     -7.34390       3.854e-07 \n",
      "   20           -7.34390     -7.34390       1.874e-07 \n",
      "   21           -7.34390     -7.34390       9.139e-08 \n",
      "   22           -7.34390     -7.34390       4.474e-08 \n",
      "   23           -7.34390     -7.34390       2.198e-08 \n",
      "   24           -7.34390     -7.34390       1.082e-08 \n",
      "   25           -7.34390     -7.34390       5.334e-09 \n",
      "----> Begin SCF calculation for *Interacting* Fragments\n",
      "\n",
      "                Total Energy (a.u.)                                Inversion                \n",
      "\n",
      "                __________________                ____________________________________     \n",
      "\n",
      "Iteration         A              B                  iters      optimality        res       \n",
      "\n",
      "___________________________________________________________________________________________ \n",
      "\n",
      "    1            -7.32470        -7.32470            10       +6.834e-15      +1.000e+00\n",
      "    2            -7.32892        -7.32892            11       +4.831e-15      +4.577e-02\n",
      "    3            -7.34091        -7.34091             9       +6.310e-15      +2.897e-02\n",
      "    4            -7.34086        -7.34086            10       +9.529e-15      +2.348e-02\n",
      "    5            -7.33601        -7.33601             8       +1.155e-13      +9.184e-03\n",
      "    6            -7.33587        -7.33587             7       +9.774e-13      +1.038e-02\n",
      "    7            -7.33853        -7.33853             7       +4.793e-15      +1.744e-03\n",
      "    8            -7.33926        -7.33926             6       +6.650e-15      +4.218e-03\n",
      "    9            -7.33811        -7.33811             6       +3.544e-14      +1.495e-03\n",
      "   10            -7.33739        -7.33739             6       +5.803e-15      +1.895e-03\n",
      "   11            -7.33772        -7.33772             6       +6.173e-15      +7.635e-04\n",
      "   12            -7.33819        -7.33819             5       +9.031e-15      +6.080e-04\n",
      "   13            -7.33821        -7.33821             5       +5.694e-15      +5.148e-04\n",
      "   14            -7.33801        -7.33801             5       +5.388e-15      +1.349e-04\n",
      "   15            -7.33791        -7.33791             4       +8.040e-14      +2.092e-04\n",
      "   16            -7.33795        -7.33795             4       +9.135e-14      +4.116e-05\n",
      "   17            -7.33801        -7.33801             4       +4.603e-15      +7.296e-05\n",
      "   18            -7.33802        -7.33802             4       +5.367e-15      +2.668e-05\n",
      "   19            -7.33801        -7.33801             4       +8.860e-15      +2.499e-05\n",
      "   20            -7.33800        -7.33800             4       +5.073e-15      +1.361e-05\n",
      "   21            -7.33800        -7.33800             4       +8.555e-15      +8.586e-06\n",
      "   22            -7.33800        -7.33800             4       +4.351e-15      +7.432e-06\n",
      "   23            -7.33800        -7.33800             3       +6.117e-15      +1.865e-06\n",
      "   24            -7.33800        -7.33800             3       +4.176e-15      +3.569e-06\n",
      "   25            -7.33800        -7.33800             3       +7.579e-15      +7.636e-07\n",
      "   26            -7.33800        -7.33800             3       +6.308e-15      +1.358e-06\n",
      "   27            -7.33800        -7.33800             3       +7.539e-15      +4.485e-07\n",
      "   28            -7.33800        -7.33800             2       +5.002e-13      +4.670e-07\n",
      "   29            -7.33800        -7.33800             2       +2.265e-13      +2.700e-07\n",
      "   30            -7.33800        -7.33800             2       +1.558e-13      +1.276e-07\n",
      "   31            -7.33800        -7.33800             2       +3.133e-14      +1.397e-07\n",
      "   32            -7.33800        -7.33800             2       +1.202e-14      +2.971e-08\n",
      "   33            -7.33800        -7.33800             2       +9.028e-15      +6.000e-08\n",
      "   34            -7.33800        -7.33800             2       +5.350e-15      +1.438e-08\n"
     ]
    }
   ],
   "source": [
    "import numpy as np\n",
    "import matplotlib.pyplot as plt\n",
    "from CADMium import Pssolver, Psgrid, Partition, Inverter\n",
    "import CADMium\n",
    "\n",
    "a = 5.122/2\n",
    "Za, Zb = 3,3\n",
    "pol = 2\n",
    "\n",
    "#Set up grid\n",
    "NP = 7\n",
    "NM = [4,]\n",
    "L = np.arccosh(15/a)\n",
    "loc = np.array(range(-4,5)) #Stencil outline\n",
    "grid = Psgrid(NP, NM, a, L, loc)\n",
    "grid.initialize()\n",
    "\n",
    "\n",
    "# ALPHA FRAGMENT\n",
    "Nmo_a = [[1,2]]; Nmo_A = [[2,1]]\n",
    "N_a   = [[1,2]]; N_A   = [[2,1]]\n",
    "nu_a = 0.5\n",
    "\n",
    "#Fragment b electrons\n",
    "Nmo_b = [[1,2]]; Nmo_B = [[2,1]]\n",
    "N_b   = [[1,2]]; N_B   = [[2,1]] \n",
    "nu_b = 0.5\n",
    "\n",
    "#Molecular elctron configuration\n",
    "Nmo_m = [[3,3]]\n",
    "N_m   = [[3,3]]\n",
    "\n",
    "\n",
    "part = Partition(grid, Za, Zb, pol, [Nmo_a, Nmo_A], [N_a, N_A], nu_a, [Nmo_b, Nmo_B], [N_b, N_B], nu_b, {  \"AB_SYM\"            : True,\n",
    "#                                                                                                            \"ENS_SPIN_SYM\"      : False,  \n",
    "                                                                                                           \"interaction_type\"  : \"dft\", \n",
    "                                                                                                           \"kinetic_part_type\" : \"inversion\",\n",
    "                                                                                                           \"hxc_part_type\"     : \"exact\",\n",
    "#                                                                                                            \"k_family\"          : \"gga\", \n",
    "#                                                                                                            \"ke_func_id\"        : 500,\n",
    "                                                                                                            })\n",
    "\n",
    "print(\"be careful! Treating ensembles with nu_x=1.0 will break things\")\n",
    "\n",
    "#Setup inverter object\n",
    "mol_solver = Pssolver(grid, Nmo_m, N_m)\n",
    "part.inverter = Inverter(grid, mol_solver, {  \"AB_SYM\"         : True,\n",
    "#                                               \"ENS_SPIN_SYM\"   : False,  \n",
    "                                              \"use_iterative\"  : False,\n",
    "                                              \"invert_type\"    : \"orbitalinvert\",\n",
    "                                              \"DISP\"           : False,  \n",
    "                                            })\n",
    "\n",
    "part.optPartition.isolated = True\n",
    "part.scf({\"disp\"  : True,\n",
    "          \"alpha\" : [0.6],\n",
    "          \"e_tol\" : 1e-8})\n",
    "\n",
    "part.optPartition.isolated   = False\n",
    "part.scf({\"disp\"       : True,\n",
    "          \"alpha\"      : [0.6],\n",
    "          \"max_iter\"   : 200,\n",
    "          \"e_tol\"      : 2e-8,\n",
    "          \"iterative\"  : False,\n",
    "          \"continuing\" : True})"
   ]
  },
  {
   "cell_type": "code",
   "execution_count": 3,
   "metadata": {},
   "outputs": [
    {
     "data": {
      "text/plain": [
       "{'Ea': -7.337997817573338,\n",
       " 'Eb': -7.337997817573338,\n",
       " 'Ef': -14.675995635146675,\n",
       " 'Tsf': 14.478663015082898,\n",
       " 'Eksf': array([[-3.74810349, -3.74810349]]),\n",
       " 'Enucf': -33.85164381986458,\n",
       " 'Exf': -3.038087236763304,\n",
       " 'Ecf': -0.30094318968270795,\n",
       " 'Ehf': 8.036015596081018,\n",
       " 'Vhxcf': 11.68271608817106,\n",
       " 'Ep': -1.807112114125753,\n",
       " 'Ep_pot': -3.678564396523133,\n",
       " 'Ep_kin': 0.0048664129515323395,\n",
       " 'Ep_hxc': 1.866585869445848,\n",
       " 'Et': -16.483107749272428,\n",
       " 'Vnn': 1.757126122608356,\n",
       " 'E': -14.72598162666407,\n",
       " 'evals_a': array([-1.81105644, -1.81834276, -0.11870429, -1.81834276, -0.11870429,\n",
       "        -1.81105644]),\n",
       " 'evals_b': array([-1.81105644, -1.81834276, -0.11870429, -1.81834276, -0.11870429,\n",
       "        -1.81105644]),\n",
       " 'Ep_h': 1.8866761379622101,\n",
       " 'Ep_x': 0.0071095806325667255,\n",
       " 'Ep_c': -0.027199849148928812}"
      ]
     },
     "execution_count": 3,
     "metadata": {},
     "output_type": "execute_result"
    }
   ],
   "source": [
    "vars(part.E)"
   ]
  },
  {
   "cell_type": "code",
   "execution_count": null,
   "metadata": {},
   "outputs": [],
   "source": [
    "print(\"Separation Distance:\", 2*a)\n",
    "print(\"Fragment Energy:\", part.E.Ef)\n",
    "print(\"Partition Energy:\", part.E.Ep)\n",
    "print(\"Vnn Energy\", part.E.Vnn)\n",
    "print(\"Total Energy:\", part.E.E)\n"
   ]
  },
  {
   "cell_type": "code",
   "execution_count": null,
   "metadata": {},
   "outputs": [],
   "source": [
    "pst = np.empty((grid.Nelem,0))"
   ]
  },
  {
   "cell_type": "code",
   "execution_count": null,
   "metadata": {},
   "outputs": [],
   "source": [
    "pst.shape\n",
    "pst"
   ]
  },
  {
   "cell_type": "code",
   "execution_count": null,
   "metadata": {},
   "outputs": [],
   "source": [
    "hello = np.array((([1,2,3]))"
   ]
  },
  {
   "cell_type": "code",
   "execution_count": null,
   "metadata": {},
   "outputs": [],
   "source": []
  },
  {
   "cell_type": "code",
   "execution_count": null,
   "metadata": {},
   "outputs": [],
   "source": [
    "np.append(pst, hello, axis=0).shape"
   ]
  },
  {
   "cell_type": "code",
   "execution_count": null,
   "metadata": {},
   "outputs": [],
   "source": []
  }
 ],
 "metadata": {
  "kernelspec": {
   "display_name": "Python 3",
   "language": "python",
   "name": "python3"
  },
  "language_info": {
   "codemirror_mode": {
    "name": "ipython",
    "version": 3
   },
   "file_extension": ".py",
   "mimetype": "text/x-python",
   "name": "python",
   "nbconvert_exporter": "python",
   "pygments_lexer": "ipython3",
   "version": "3.8.5"
  }
 },
 "nbformat": 4,
 "nbformat_minor": 4
}

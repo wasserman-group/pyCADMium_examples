{
 "cells": [
  {
   "cell_type": "code",
   "execution_count": 1,
   "metadata": {},
   "outputs": [
    {
     "name": "stdout",
     "output_type": "stream",
     "text": [
      "----> Begin SCF calculation for *Isolated* Fragments\n",
      "\n",
      "                Total Energy (a.u.)       \n",
      "\n",
      "                __________________        \n",
      "\n",
      "Iteration         A            B              res     \n",
      "\n",
      "_______________________________________________________\n",
      "\n",
      "    1            0.00000      0.00000       1.000e+00 \n",
      "    2            0.00000      0.00000       0.000e+00 \n",
      "----> Begin SCF calculation for *Interacting* Fragments\n",
      "\n",
      "                Total Energy (a.u.)       \n",
      "\n",
      "                __________________        \n",
      "\n",
      "Iteration         A            B              res     \n",
      "\n",
      "_______________________________________________________\n",
      "\n",
      "    1            0.00000      0.00000       1.000e+00 \n",
      "    2            0.00000      0.00000       0.000e+00 \n"
     ]
    }
   ],
   "source": [
    "import numpy as np\n",
    "import matplotlib.pyplot as plt\n",
    "from CADMium import Pssolver, Psgrid, Partition, Inverter\n",
    "import CADMium\n",
    "\n",
    "a = 2/2\n",
    "Za, Zb = 1,1\n",
    "pol = 2\n",
    "\n",
    "#Set up grid\n",
    "NP = 7\n",
    "NM = [4,4]\n",
    "L = np.arccosh(10/a)\n",
    "loc = np.array(range(-4,5)) #Stencil outline\n",
    "grid = Psgrid(NP, NM, a, L, loc)\n",
    "grid.initialize()\n",
    "\n",
    "\n",
    "# ALPHA FRAGMENT\n",
    "Nmo_a = [[1  ,0]];\n",
    "N_a   = [[0.5,0]]; \n",
    "nu_a = 1.0\n",
    "\n",
    "#Fragment b electrons\n",
    "Nmo_b = [[1  ,0]]; \n",
    "N_b   = [[0.5,0]];  \n",
    "nu_b = 1.0\n",
    "\n",
    "#Molecular elctron configuration\n",
    "Nmo_m = [[1,0]]\n",
    "N_m   = [[1,0]]\n",
    "\n",
    "\n",
    "part = Partition(grid, Za, Zb, pol, Nmo_a, N_a, nu_a, Nmo_b, N_b, nu_b, {  \"AB_SYM\"            : True,\n",
    "                                                                           \"fractional\"        : True,\n",
    "#                                                                          \"ENS_SPIN_SYM\"      : False,  \n",
    "                                                                           \"interaction_type\"  : \"dft\", \n",
    "                                                                           \"kinetic_part_type\" : \"libxcke\",\n",
    "                                                                           \"hxc_part_type\"     : \"exact\",\n",
    "                                                                           \"k_family\"          : \"gga\", \n",
    "                                                                           \"ke_func_id\"        : 500,\n",
    "                                                                            })\n",
    "\n",
    "#Setup inverter object\n",
    "mol_solver = Pssolver(grid, Nmo_m, N_m)\n",
    "part.inverter = Inverter(grid, mol_solver, {  \"AB_SYM\"         : True,\n",
    "#                                               \"ENS_SPIN_SYM\"   : False,  \n",
    "                                              \"use_iterative\"  : False,\n",
    "                                              \"invert_type\"    : \"wuyang\",\n",
    "                                              \"DISP\"           : False,  \n",
    "                                            })\n",
    "\n",
    "part.optPartition.isolated = True\n",
    "part.scf({\"disp\"  : True,\n",
    "          \"alpha\" : [0.6],\n",
    "          \"e_tol\" : 1e-8})\n",
    "\n",
    "part.optPartition.isolated   = False\n",
    "part.scf({\"disp\"       : True,\n",
    "          \"alpha\"      : [0.6],\n",
    "          \"max_iter\"   : 200,\n",
    "          \"e_tol\"      : 2e-8,\n",
    "          \"iterative\"  : False,\n",
    "          \"continuing\" : True})"
   ]
  },
  {
   "cell_type": "code",
   "execution_count": 3,
   "metadata": {},
   "outputs": [
    {
     "data": {
      "text/plain": [
       "0"
      ]
     },
     "execution_count": 3,
     "metadata": {},
     "output_type": "execute_result"
    }
   ],
   "source": [
    "np.mod(3,1)"
   ]
  },
  {
   "cell_type": "code",
   "execution_count": null,
   "metadata": {},
   "outputs": [],
   "source": []
  }
 ],
 "metadata": {
  "kernelspec": {
   "display_name": "Python 3",
   "language": "python",
   "name": "python3"
  },
  "language_info": {
   "codemirror_mode": {
    "name": "ipython",
    "version": 3
   },
   "file_extension": ".py",
   "mimetype": "text/x-python",
   "name": "python",
   "nbconvert_exporter": "python",
   "pygments_lexer": "ipython3",
   "version": "3.8.5"
  }
 },
 "nbformat": 4,
 "nbformat_minor": 4
}

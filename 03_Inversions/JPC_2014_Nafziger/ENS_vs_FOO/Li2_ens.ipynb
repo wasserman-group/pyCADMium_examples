{
 "cells": [
  {
   "cell_type": "code",
   "execution_count": 1,
   "metadata": {},
   "outputs": [
    {
     "ename": "ModuleNotFoundError",
     "evalue": "No module named 'CADMium'",
     "output_type": "error",
     "traceback": [
      "\u001b[0;31m---------------------------------------------------------------------------\u001b[0m",
      "\u001b[0;31mModuleNotFoundError\u001b[0m                       Traceback (most recent call last)",
      "\u001b[0;32m<ipython-input-1-5a1a947ab3c9>\u001b[0m in \u001b[0;36m<module>\u001b[0;34m\u001b[0m\n\u001b[1;32m      1\u001b[0m \u001b[0;32mimport\u001b[0m \u001b[0mnumpy\u001b[0m \u001b[0;32mas\u001b[0m \u001b[0mnp\u001b[0m\u001b[0;34m\u001b[0m\u001b[0;34m\u001b[0m\u001b[0m\n\u001b[1;32m      2\u001b[0m \u001b[0;32mimport\u001b[0m \u001b[0mmatplotlib\u001b[0m\u001b[0;34m.\u001b[0m\u001b[0mpyplot\u001b[0m \u001b[0;32mas\u001b[0m \u001b[0mplt\u001b[0m\u001b[0;34m\u001b[0m\u001b[0;34m\u001b[0m\u001b[0m\n\u001b[0;32m----> 3\u001b[0;31m \u001b[0;32mfrom\u001b[0m \u001b[0mCADMium\u001b[0m \u001b[0;32mimport\u001b[0m \u001b[0mPssolver\u001b[0m\u001b[0;34m,\u001b[0m \u001b[0mPsgrid\u001b[0m\u001b[0;34m,\u001b[0m \u001b[0mPartition\u001b[0m\u001b[0;34m,\u001b[0m \u001b[0mInverter\u001b[0m\u001b[0;34m\u001b[0m\u001b[0;34m\u001b[0m\u001b[0m\n\u001b[0m\u001b[1;32m      4\u001b[0m \u001b[0;32mimport\u001b[0m \u001b[0mCADMium\u001b[0m\u001b[0;34m\u001b[0m\u001b[0;34m\u001b[0m\u001b[0m\n\u001b[1;32m      5\u001b[0m \u001b[0;34m\u001b[0m\u001b[0m\n",
      "\u001b[0;31mModuleNotFoundError\u001b[0m: No module named 'CADMium'"
     ]
    }
   ],
   "source": [
    "import numpy as np\n",
    "import matplotlib.pyplot as plt\n",
    "from CADMium import Pssolver, Psgrid, Partition, Inverter\n",
    "import CADMium\n",
    "\n",
    "a = 5.122/2\n",
    "Za, Zb = 3,3\n",
    "pol = 2\n",
    "\n",
    "#Set up grid\n",
    "NP = 7\n",
    "NM = [4,4]\n",
    "L = np.arccosh(15/a)\n",
    "loc = np.array(range(-4,5)) #Stencil outline\n",
    "grid = Psgrid(NP, NM, a, L, loc)\n",
    "grid.initialize()\n",
    "\n",
    "\n",
    "# ALPHA FRAGMENT\n",
    "Nmo_a = [[1,2]]; Nmo_A = [[2,1]]\n",
    "N_a   = [[1,2]]; N_A   = [[2,1]]\n",
    "nu_a = 0.5\n",
    "\n",
    "#Fragment b electrons\n",
    "Nmo_b = [[1,2]]; Nmo_B = [[2,1]]\n",
    "N_b   = [[1,2]]; N_B   = [[2,1]] \n",
    "nu_b = 0.5\n",
    "\n",
    "#Molecular elctron configuration\n",
    "Nmo_m = [[3,3]]\n",
    "N_m   = [[3,3]]\n",
    "\n",
    "\n",
    "part = Partition(grid, Za, Zb, pol, [Nmo_a, Nmo_A], [N_a, N_A], nu_a, [Nmo_b, Nmo_B], [N_b, N_B], nu_b, {  \"AB_SYM\"            : True,\n",
    "#                                                                                                            \"ENS_SPIN_SYM\"      : False,  \n",
    "                                                                                                           \"interaction_type\"  : \"dft\", \n",
    "                                                                                                           \"kinetic_part_type\" : \"inversion\",\n",
    "                                                                                                           \"hxc_part_type\"     : \"exact\",\n",
    "#                                                                                                            \"k_family\"          : \"gga\", \n",
    "#                                                                                                            \"ke_func_id\"        : 500,\n",
    "                                                                                                            })\n",
    "\n",
    "print(\"be careful! Treating ensembles with nu_x=1.0 will break things\")\n",
    "\n",
    "#Setup inverter object\n",
    "mol_solver = Pssolver(grid, Nmo_m, N_m)\n",
    "part.inverter = Inverter(grid, mol_solver, {  \"AB_SYM\"         : True,\n",
    "#                                               \"ENS_SPIN_SYM\"   : False,  \n",
    "                                              \"use_iterative\"  : False,\n",
    "                                              \"invert_type\"    : \"orbitalinvert\",\n",
    "                                              \"DISP\"           : False,  \n",
    "                                            })\n",
    "\n",
    "part.optPartition.isolated = True\n",
    "part.scf({\"disp\"  : True,\n",
    "          \"alpha\" : [0.6],\n",
    "          \"e_tol\" : 1e-8})\n",
    "\n",
    "part.optPartition.isolated   = False\n",
    "part.scf({\"disp\"       : True,\n",
    "          \"alpha\"      : [0.6],\n",
    "          \"max_iter\"   : 200,\n",
    "          \"e_tol\"      : 2e-8,\n",
    "          \"iterative\"  : False,\n",
    "          \"continuing\" : True})"
   ]
  },
  {
   "cell_type": "code",
   "execution_count": null,
   "metadata": {},
   "outputs": [],
   "source": [
    "vars(part.E)"
   ]
  },
  {
   "cell_type": "code",
   "execution_count": null,
   "metadata": {},
   "outputs": [],
   "source": [
    "print(\"Separation Distance:\", 2*a)\n",
    "print(\"Fragment Energy:\", part.E.Ef)\n",
    "print(\"Partition Energy:\", part.E.Ep)\n",
    "print(\"Vnn Energy\", part.E.Vnn)\n",
    "print(\"Total Energy:\", part.E.E)\n"
   ]
  },
  {
   "cell_type": "code",
   "execution_count": null,
   "metadata": {},
   "outputs": [],
   "source": [
    "pst = np.empty((grid.Nelem,0))"
   ]
  },
  {
   "cell_type": "code",
   "execution_count": null,
   "metadata": {},
   "outputs": [],
   "source": [
    "pst.shape\n",
    "pst"
   ]
  },
  {
   "cell_type": "code",
   "execution_count": null,
   "metadata": {},
   "outputs": [],
   "source": [
    "hello = np.array((([1,2,3]))"
   ]
  },
  {
   "cell_type": "code",
   "execution_count": null,
   "metadata": {},
   "outputs": [],
   "source": []
  },
  {
   "cell_type": "code",
   "execution_count": null,
   "metadata": {},
   "outputs": [],
   "source": [
    "np.append(pst, hello, axis=0).shape"
   ]
  },
  {
   "cell_type": "code",
   "execution_count": null,
   "metadata": {},
   "outputs": [],
   "source": []
  }
 ],
 "metadata": {
  "kernelspec": {
   "display_name": "Python 3",
   "language": "python",
   "name": "python3"
  },
  "language_info": {
   "codemirror_mode": {
    "name": "ipython",
    "version": 3
   },
   "file_extension": ".py",
   "mimetype": "text/x-python",
   "name": "python",
   "nbconvert_exporter": "python",
   "pygments_lexer": "ipython3",
   "version": "3.8.5"
  }
 },
 "nbformat": 4,
 "nbformat_minor": 4
}

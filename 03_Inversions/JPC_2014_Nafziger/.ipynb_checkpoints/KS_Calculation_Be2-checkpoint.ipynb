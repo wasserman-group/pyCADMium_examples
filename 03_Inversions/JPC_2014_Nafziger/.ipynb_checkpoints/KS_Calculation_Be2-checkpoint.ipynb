{
 "cells": [
  {
   "cell_type": "code",
   "execution_count": 1,
   "metadata": {},
   "outputs": [],
   "source": [
    "import numpy as np\n",
    "import matplotlib.pyplot as plt\n",
    "from CADMium import Pssolver, Psgrid, Partition, Inverter"
   ]
  },
  {
   "cell_type": "code",
   "execution_count": 2,
   "metadata": {},
   "outputs": [],
   "source": [
    "a = 4.522/2\n",
    "#Nuclear charge for fragments A and B\n",
    "Za, Zb = 4,4\n",
    "#Set polarization 1-Unpolarized, 2-Polarized\n",
    "pol = 1\n",
    "\n",
    "#Molecular elctron configuration\n",
    "Nmo_m = [[4]]\n",
    "N_m   = [[8]]\n",
    "\n",
    "#Set up grid\n",
    "NP = 7\n",
    "NM = [12,12]\n",
    "L = np.arccosh(15/a)\n",
    "loc = np.array(range(-4,5)) #Stencil outline\n",
    "\n",
    "grid = Psgrid(NP, NM, a, L, loc)\n",
    "grid.initialize()"
   ]
  },
  {
   "cell_type": "code",
   "execution_count": null,
   "metadata": {},
   "outputs": [],
   "source": []
  }
 ],
 "metadata": {
  "kernelspec": {
   "display_name": "Python 3",
   "language": "python",
   "name": "python3"
  },
  "language_info": {
   "codemirror_mode": {
    "name": "ipython",
    "version": 3
   },
   "file_extension": ".py",
   "mimetype": "text/x-python",
   "name": "python",
   "nbconvert_exporter": "python",
   "pygments_lexer": "ipython3",
   "version": "3.8.5"
  }
 },
 "nbformat": 4,
 "nbformat_minor": 4
}

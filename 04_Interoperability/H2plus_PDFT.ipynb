{
 "cells": [
  {
   "cell_type": "code",
   "execution_count": 1,
   "metadata": {},
   "outputs": [],
   "source": [
    "import psi4\n",
    "\n",
    "psi4.set_options({\"reference\" : \"uhf\"})\n",
    "\n",
    "import CADMium as cad\n",
    "import numpy as np\n",
    "import matplotlib.pyplot as plt"
   ]
  },
  {
   "cell_type": "code",
   "execution_count": 3,
   "metadata": {},
   "outputs": [],
   "source": [
    "h2p = psi4.geometry(\"\"\"\n",
    "1 2\n",
    "H 0.0 0.0 -1.0\n",
    "H 0.0 0.0  1.0\n",
    "units bohr\n",
    "symmetry c1\n",
    "noreorient\n",
    "\"\"\")\n",
    "\n",
    "e, wfn = psi4.energy(\"ccsd/aug-cc-pvqz\", return_wfn=True)"
   ]
  },
  {
   "cell_type": "code",
   "execution_count": 4,
   "metadata": {},
   "outputs": [
    {
     "name": "stdout",
     "output_type": "stream",
     "text": [
      " Constructing integration weights ... \n",
      "\n",
      " Building finite difference opperators ... \n",
      "\n",
      " Factorizing Laplacian ... \n",
      "\n",
      " Done\n"
     ]
    }
   ],
   "source": [
    "#Get grid from CADMIUM\n",
    "a = 2.0\n",
    "NP = 7\n",
    "NM = [4,4]\n",
    "L = np.arccosh(12/a)\n",
    "loc = np.array(range(-4,5)) #Stencil outline\n",
    "grid = cad.Psgrid(NP, NM, a, L, loc)\n",
    "grid.initialize()"
   ]
  },
  {
   "cell_type": "code",
   "execution_count": 5,
   "metadata": {},
   "outputs": [],
   "source": [
    "y = grid.Y\n",
    "z = grid.Z\n",
    "x = np.zeros_like(y)\n",
    "npoints = x.shape[0]\n",
    "\n",
    "#Build PSI4 GRID\n",
    "epsilon = psi4.core.get_global_option(\"CUBIC_BASIS_TOLERANCE\")\n",
    "basis   = wfn.basisset()\n",
    "extens  = psi4.core.BasisExtents(basis, epsilon) \n",
    "\n",
    "x = psi4.core.Vector.from_array(x)\n",
    "y = psi4.core.Vector.from_array(y)\n",
    "z = psi4.core.Vector.from_array(z)\n",
    "block = psi4.core.BlockOPoints(x,y,z,x, extens)\n",
    "\n",
    "max_functions = 0 if 0 > len(block.functions_local_to_global()) else len(block.functions_local_to_global())\n",
    "\n",
    "points = psi4.core.RKSFunctions(basis, int(npoints), int(max_functions))\n",
    "points.set_ansatz(0)\n",
    "points.set_pointers(wfn.Da())\n",
    "points.compute_points(block)\n",
    "out_density = points.point_values()[\"RHO_A\"].np"
   ]
  },
  {
   "cell_type": "code",
   "execution_count": 25,
   "metadata": {},
   "outputs": [
    {
     "data": {
      "text/plain": [
       "[<matplotlib.lines.Line2D at 0x7f36e1bcb950>]"
      ]
     },
     "execution_count": 25,
     "metadata": {},
     "output_type": "execute_result"
    },
    {
     "data": {
      "image/png": "[encoded data removed]",
      "text/plain": [
       "<Figure size 432x288 with 1 Axes>"
      ]
     },
     "metadata": {
      "needs_background": "light"
     },
     "output_type": "display_data"
    }
   ],
   "source": [
    "x, y_tar = grid.axis_plot(out_density)\n",
    "plt.title(\"Exact H2+ Density\")\n",
    "plt.plot(x,y_tar)"
   ]
  },
  {
   "cell_type": "code",
   "execution_count": 37,
   "metadata": {},
   "outputs": [
    {
     "name": "stderr",
     "output_type": "stream",
     "text": [
      "/mnt/c/Users/victo/Dropbox/PHD/Cadmium/CADMium/CADMium/partition/partition.py:317: RuntimeWarning: invalid value encountered in true_divide\n",
      "  self.KSa.Q = self.KSa.scale * self.KSa.n / self.nf\n",
      "/mnt/c/Users/victo/Dropbox/PHD/Cadmium/CADMium/CADMium/partition/partition.py:318: RuntimeWarning: invalid value encountered in true_divide\n",
      "  self.KSb.Q = self.KSb.scale * self.KSb.n / self.nf\n",
      "/mnt/c/Users/victo/Dropbox/PHD/Cadmium/CADMium/CADMium/partition/scf.py:172: RuntimeWarning: invalid value encountered in true_divide\n",
      "  dif_nf = np.max(self.grid.integrate(np.abs(self.nf-old_nf)) / self.grid.integrate(np.abs(self.nf)))\n"
     ]
    }
   ],
   "source": [
    "#Set up a CADMium inversion algorithm\n",
    "\n",
    "a   = 2.0\n",
    "Za  = 1\n",
    "Zb  = 1\n",
    "\n",
    "pol = 2\n",
    "\n",
    "Nma = [[1]]\n",
    "Nmb = [[1]]\n",
    "Nmo  = [[1,1]]\n",
    "\n",
    "Na  = [[0.5]]\n",
    "Nb  = [[0.5]]\n",
    "Nm   = [[1,1]]\n",
    "\n",
    "nua = 1.0\n",
    "nub = 1.0\n",
    "\n",
    "optPartition = {\"Fractional\" : True}\n",
    "optInversion = {\"invert_type\" : \"wuyang\", \n",
    "                \"DISP\" : True}\n",
    "\n",
    "#Set up partition object for initial guess\n",
    "part = cad.Partition( grid, Za, Zb, pol, Nma, Na, nua, Nmb, Nb, nub, optPartition)\n",
    "\n",
    "#Set up solver for inversion \n",
    "P    = cad.Pssolver( grid, Nmo, Nm )\n",
    "# part.inverter = cad.Inverter(grid, P ,optInversion)\n",
    "part.optPartition[\"ISOLATED\"] = True\n",
    "part.scf()\n",
    "\n",
    "target_density = out_density\n",
    "\n",
    "phi0, e0, v0 = part.initialguessinvert(ispin=0) \n",
    "WY = cad.Inverter(grid, P, optInversion)\n",
    "\n",
    "_, _ = WY.invert( target_density, v0, phi0, e0 )\n",
    "\n",
    "\n",
    "\n",
    "\n",
    "\n",
    "# part.optPartition[\"ISOLATED\"] = False\n",
    "# part.scf()"
   ]
  },
  {
   "cell_type": "code",
   "execution_count": 41,
   "metadata": {},
   "outputs": [
    {
     "data": {
      "text/plain": [
       "array([[0., 0.],\n",
       "       [0., 0.],\n",
       "       [0., 0.],\n",
       "       ...,\n",
       "       [0., 0.],\n",
       "       [0., 0.],\n",
       "       [0., 0.]])"
      ]
     },
     "execution_count": 41,
     "metadata": {},
     "output_type": "execute_result"
    }
   ],
   "source": [
    "part."
   ]
  },
  {
   "cell_type": "code",
   "execution_count": 40,
   "metadata": {},
   "outputs": [
    {
     "data": {
      "text/plain": [
       "[<matplotlib.lines.Line2D at 0x7f36e17f9b10>]"
      ]
     },
     "execution_count": 40,
     "metadata": {},
     "output_type": "execute_result"
    },
    {
     "data": {
      "image/png": "[encoded data removed]",
      "text/plain": [
       "<Figure size 432x288 with 1 Axes>"
      ]
     },
     "metadata": {
      "needs_background": "light"
     },
     "output_type": "display_data"
    }
   ],
   "source": [
    "x, y = grid.axis_plot(WY.vs[:,0])\n",
    "plt.plot(x,y)"
   ]
  },
  {
   "cell_type": "code",
   "execution_count": 27,
   "metadata": {},
   "outputs": [
    {
     "name": "stdout",
     "output_type": "stream",
     "text": [
      " iter    Total Energy     HOMO Eigenvalue         Res       \n",
      "\n",
      "----------------------------------------------------------- \n",
      "\n",
      "   1         -1.035          -0.231            1.0\n",
      "   2         -0.994          -0.253            0.04947998321252075\n",
      "   3         -0.977          -0.262            0.01975328577380907\n",
      "   4         -0.970          -0.265            0.007905316655149099\n",
      "   5         -0.967          -0.267            0.003185285323629025\n",
      "   6         -0.966          -0.267            0.001298787718620433\n",
      "   7         -0.966          -0.268            0.0005360354528077051\n",
      "   8         -0.966          -0.268            0.00022492189251366104\n",
      "   9         -0.966          -0.268            9.711469130751837e-05\n",
      "   10         -0.966          -0.268            4.338297957692595e-05\n",
      "   11         -0.966          -0.268            2.0416947449076614e-05\n",
      "   12         -0.966          -0.268            9.931319738770498e-06\n"
     ]
    }
   ],
   "source": [
    "ks = cad.Kohnsham(grid, Za, Zb, pol, Nmo, Nm, {})\n",
    "ks.scf({})\n",
    "# vs = WY.vs[:,0]\n",
    "# ks.set_veff_external(vs)\n",
    "# n_inv = ks.calc_density()"
   ]
  },
  {
   "cell_type": "code",
   "execution_count": 26,
   "metadata": {},
   "outputs": [
    {
     "data": {
      "text/plain": [
       "[<matplotlib.lines.Line2D at 0x7f36e1dd7510>]"
      ]
     },
     "execution_count": 26,
     "metadata": {},
     "output_type": "execute_result"
    },
    {
     "data": {
      "image/png": "[encoded data removed]",
      "text/plain": [
       "<Figure size 432x288 with 1 Axes>"
      ]
     },
     "metadata": {
      "needs_background": "light"
     },
     "output_type": "display_data"
    }
   ],
   "source": [
    "x, y_inv = grid.axis_plot(n_inv[:,0] + n_inv[:,1])\n",
    "plt.plot(x,y_tar)\n",
    "plt.plot(x, y_inv)"
   ]
  },
  {
   "cell_type": "code",
   "execution_count": null,
   "metadata": {},
   "outputs": [],
   "source": [
    "functional = psi4.proc.dft.build_superfunctional_from_dictionary(\"svwn\", )\n",
    "vpot = psi4.core.VBase.build(basis, \"svwn\", \"UV\")"
   ]
  },
  {
   "cell_type": "code",
   "execution_count": null,
   "metadata": {},
   "outputs": [],
   "source": [
    "block"
   ]
  },
  {
   "cell_type": "code",
   "execution_count": null,
   "metadata": {},
   "outputs": [],
   "source": []
  }
 ],
 "metadata": {
  "kernelspec": {
   "display_name": "Python 3",
   "language": "python",
   "name": "python3"
  },
  "language_info": {
   "codemirror_mode": {
    "name": "ipython",
    "version": 3
   },
   "file_extension": ".py",
   "mimetype": "text/x-python",
   "name": "python",
   "nbconvert_exporter": "python",
   "pygments_lexer": "ipython3",
   "version": "3.7.8"
  }
 },
 "nbformat": 4,
 "nbformat_minor": 4
}

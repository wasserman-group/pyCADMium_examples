{
 "cells": [
  {
   "cell_type": "code",
   "execution_count": 6,
   "metadata": {},
   "outputs": [
    {
     "name": "stdout",
     "output_type": "stream",
     "text": [
      " Constructing integration weights ... \n",
      "\n",
      " Building finite difference opperators ... \n",
      "\n",
      " Factorizing Laplacian ... \n",
      "\n",
      " Done\n",
      " iter    Total Energy     HOMO Eigenvalue         Res       \n",
      "\n",
      "----------------------------------------------------------- \n",
      "\n",
      "   1         -155.905          -0.302            1.0\n",
      "   2         -132.823          -0.482            0.17378110155999477\n",
      "   3         -127.774          -0.474            0.03951899272062844\n",
      "   4         -126.335          -0.459            0.011388690215098134\n",
      "   5         -125.862          -0.449            0.0037565561775022233\n",
      "   6         -125.710          -0.447            0.0012092871574608192\n",
      "   7         -125.620          -0.439            0.0007120150903945156\n",
      "   8         -125.594          -0.436            0.0002482587240772059\n",
      "   9         -125.583          -0.435            0.00013037203647001637\n",
      "   10         -125.579          -0.434            6.837563724884406e-05\n",
      "   11         -125.577          -0.434            3.559781118271245e-05\n",
      "   12         -125.576          -0.434            1.8517774931072974e-05\n",
      "   13         -125.576          -0.434            9.56152048866445e-06\n",
      " Total Energy: -125.57602222045108\n"
     ]
    }
   ],
   "source": [
    "import numpy as np\n",
    "from CADMium import Psgrid\n",
    "from CADMium import Kohnsham\n",
    "\n",
    "#Distance of the nucley from grid center\n",
    "a =  1.0\n",
    "\n",
    "#Nuclear charges on centers AB\n",
    "Za  = 10\n",
    "Zb = 0\n",
    "\n",
    "#Set polaization. 1 Unpolarized, 2 Polarized\n",
    "pol = 1\n",
    "\n",
    "Nmo = [[2],[3]]\n",
    "N   = [[4],[6]]\n",
    "# Nmo = [[2,2],[3,3]]\n",
    "# N   = [[2,2],[3,3]]\n",
    "\n",
    "optKS = {\n",
    "        \"interaction_type\" : \"dft\",\n",
    "        \"SYM\" : False,\n",
    "        \"FRACTIONAL\" : False,\n",
    "        }\n",
    "\n",
    "#Grid Options\n",
    "NP = 7 #Number of points per block\n",
    "NM =  [4,4] #Number of blocks [angular, radial]\n",
    "L = np.arccosh(15./a)#Maximum radial coordinate value\n",
    "loc = np.array(range(-4,5)) #Non inclusive on upper bound\n",
    "\n",
    "#Create and initialize grid object\n",
    "grid = Psgrid(NP, NM, a, L, loc)\n",
    "grid.initialize()\n",
    "\n",
    "#Kohn Sham object\n",
    "KS = Kohnsham(grid, Za, Zb, pol, Nmo, N, optKS)\n",
    "KS.scf(optKS)\n",
    "\n",
    "print(f\" Total Energy: {KS.E.E}\")"
   ]
  },
  {
   "cell_type": "code",
   "execution_count": null,
   "metadata": {},
   "outputs": [],
   "source": []
  }
 ],
 "metadata": {
  "kernelspec": {
   "display_name": "Python 3",
   "language": "python",
   "name": "python3"
  },
  "language_info": {
   "codemirror_mode": {
    "name": "ipython",
    "version": 3
   },
   "file_extension": ".py",
   "mimetype": "text/x-python",
   "name": "python",
   "nbconvert_exporter": "python",
   "pygments_lexer": "ipython3",
   "version": "3.8.5"
  }
 },
 "nbformat": 4,
 "nbformat_minor": 4
}

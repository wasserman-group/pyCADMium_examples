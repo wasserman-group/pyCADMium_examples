{
 "cells": [
  {
   "cell_type": "code",
   "execution_count": 1,
   "metadata": {},
   "outputs": [
    {
     "name": "stdout",
     "output_type": "stream",
     "text": [
      " Constructing integration weights ... \n",
      "\n",
      " Building finite difference opperators ... \n",
      "\n",
      " Factorizing Laplacian ... \n",
      "\n",
      " Done\n",
      " iter    Total Energy     HOMO Eigenvalue         Res       \n",
      "\n",
      "----------------------------------------------------------- \n",
      "\n",
      "   1         -8.955          -0.003            1.0\n",
      "   2         -7.863          -0.082            0.13894526140483868\n",
      "   3         -7.499          -0.100            0.04855708149062484\n",
      "   4         -7.384          -0.106            0.015563475400697847\n",
      "   5         -7.348          -0.107            0.0048899124864964\n",
      "   6         -7.338          -0.106            0.0013617187054535275\n",
      "   7         -7.334          -0.106            0.0005269516454184043\n",
      "   8         -7.334          -0.106            0.0002775392675234885\n",
      "   9         -7.334          -0.106            0.0001524326416932107\n",
      "   10         -7.334          -0.106            8.133010880327467e-05\n",
      "   11         -7.334          -0.106            4.257522641723768e-05\n",
      "   12         -7.334          -0.106            2.203836115302981e-05\n",
      "   13         -7.335          -0.106            1.1354818801111237e-05\n",
      "   14         -7.335          -0.106            5.843824409981553e-06\n",
      " Total Energy: -7.33456629101146\n"
     ]
    }
   ],
   "source": [
    "import numpy as np\n",
    "from CADMium import Psgrid\n",
    "from CADMium import Kohnsham\n",
    "\n",
    "#Distance of the nucley from grid center\n",
    "a =  1.0\n",
    "\n",
    "#Nuclear charges on centers AB\n",
    "Za  = 3\n",
    "Zb = 0\n",
    "\n",
    "#Set polaization. 1 Unpolarized, 2 Polarized\n",
    "pol = 1\n",
    "\n",
    "Nmo = [[2]]\n",
    "N   = [[3]]\n",
    "\n",
    "optKS = {\n",
    "        \"interaction_type\" : \"dft\",\n",
    "        \"SYM\" : False,\n",
    "        \"FRACTIONAL\" : True,\n",
    "        }\n",
    "\n",
    "#Grid Options\n",
    "NP = 7 #Number of points per block\n",
    "NM =  [10,10] #Number of blocks [angular, radial]\n",
    "L = np.arccosh(15./a) #Maximum radial coordinate value\n",
    "loc = np.array(range(-4,5)) #Non inclusive on upper bound\n",
    "\n",
    "#Create and initialize grid object\n",
    "grid = Psgrid(NP, NM, a, L, loc)\n",
    "grid.initialize()\n",
    "\n",
    "#Kohn Sham object\n",
    "KS = Kohnsham(grid, Za, Zb, pol, Nmo, N, optKS)\n",
    "KS.scf(optKS)\n",
    "\n",
    "print(f\" Total Energy: {KS.E.E}\")"
   ]
  },
  {
   "cell_type": "code",
   "execution_count": 2,
   "metadata": {},
   "outputs": [
    {
     "data": {
      "text/plain": [
       "mappingproxy({'__module__': 'CADMium.kohnsham.kohnsham',\n",
       "              '__dict__': <attribute '__dict__' of 'E' objects>,\n",
       "              '__weakref__': <attribute '__weakref__' of 'E' objects>,\n",
       "              '__doc__': None,\n",
       "              'Ex': -1.491609258692229,\n",
       "              'Ec': -0.16023275749951235,\n",
       "              'Eks': array([[-3.86165891]]),\n",
       "              'Vks': array([[-11.09890114]]),\n",
       "              'Ts': 7.237242222976485,\n",
       "              'evals': array([], dtype=float64),\n",
       "              'Enuc': -16.91100751729168,\n",
       "              'Vext': 0.0,\n",
       "              'Vhxc': 5.812131165144214,\n",
       "              'Eh': 3.9910410194954773,\n",
       "              'Et': -7.33456629101146,\n",
       "              'Vnn': 0.0,\n",
       "              'E': -7.33456629101146})"
      ]
     },
     "execution_count": 2,
     "metadata": {},
     "output_type": "execute_result"
    }
   ],
   "source": [
    "KS.E.__dict__"
   ]
  },
  {
   "cell_type": "code",
   "execution_count": null,
   "metadata": {},
   "outputs": [],
   "source": []
  }
 ],
 "metadata": {
  "kernelspec": {
   "display_name": "Python 3",
   "language": "python",
   "name": "python3"
  },
  "language_info": {
   "codemirror_mode": {
    "name": "ipython",
    "version": 3
   },
   "file_extension": ".py",
   "mimetype": "text/x-python",
   "name": "python",
   "nbconvert_exporter": "python",
   "pygments_lexer": "ipython3",
   "version": "3.8.5"
  }
 },
 "nbformat": 4,
 "nbformat_minor": 4
}

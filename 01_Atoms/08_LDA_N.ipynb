{
 "cells": [
  {
   "cell_type": "code",
   "execution_count": 2,
   "metadata": {},
   "outputs": [
    {
     "name": "stdout",
     "output_type": "stream",
     "text": [
      " iter    Total Energy     HOMO Eigenvalue         Res       \n",
      "\n",
      "----------------------------------------------------------- \n",
      "\n",
      "    1      -69.38569      +4.01641e-02       +1.00000e+00\n",
      "    2      -56.25425      -7.58625e-01       +2.33430e-01\n",
      "    3      -55.25403      -4.72147e-01       +1.81022e-02\n",
      "    4      -54.56027      -3.52708e-01       +1.27155e-02\n",
      "    5      -54.22580      -3.00448e-01       +6.16807e-03\n",
      "    6      -54.13960      -2.76526e-01       +1.59216e-03\n",
      "    7      -54.02925      -2.65433e-01       +2.04240e-03\n",
      "    8      -54.01256      -2.60201e-01       +4.15945e-04\n",
      "    9      -54.00604      -2.57871e-01       +2.27964e-04\n",
      "   10      -54.00420      -2.56775e-01       +1.21735e-04\n",
      "   11      -54.00385      -2.56260e-01       +6.37766e-05\n",
      "   12      -54.00391      -2.56018e-01       +3.29519e-05\n",
      "   13      -54.00404      -2.55903e-01       +1.68620e-05\n",
      "   14      -54.00414      -2.55850e-01       +8.55163e-06\n",
      " Total Energy: -54.00414088382817\n"
     ]
    }
   ],
   "source": [
    "import numpy as np\n",
    "from CADMium import Psgrid\n",
    "from CADMium import Kohnsham\n",
    "\n",
    "#Distance of the nucley from grid center\n",
    "a =  1.0\n",
    "\n",
    "#Nuclear charges on centers AB\n",
    "Za  = 7\n",
    "Zb = 0\n",
    "\n",
    "#Set polaization. 1 Unpolarized, 2 Polarized\n",
    "pol = 1\n",
    "\n",
    "Nmo = [[2],[2]]\n",
    "N   = [[4],[3]]\n",
    "\n",
    "optKS = {\n",
    "        \"interaction_type\" : \"dft\",\n",
    "        \"SYM\" : False,\n",
    "        \"FRACTIONAL\" : True,\n",
    "        }\n",
    "\n",
    "#Grid Options\n",
    "NP = 7 #Number of points per block\n",
    "NM =  [10,10] #Number of blocks [angular, radial]\n",
    "L = np.arccosh(15./a) #Maximum radial coordinate value\n",
    "loc = np.array(range(-4,5)) #Non inclusive on upper bound\n",
    "\n",
    "#Create and initialize grid object\n",
    "grid = Psgrid(NP, NM, a, L, loc)\n",
    "grid.initialize()\n",
    "\n",
    "#Kohn Sham object\n",
    "KS = Kohnsham(grid, Za, Zb, pol, Nmo, N, optKS)\n",
    "KS.scf()\n",
    "\n",
    "print(f\" Total Energy: {KS.E.E}\")"
   ]
  },
  {
   "cell_type": "markdown",
   "metadata": {},
   "source": [
    "# Value for Nist: Etot = -54.025016\t"
   ]
  },
  {
   "cell_type": "code",
   "execution_count": null,
   "metadata": {},
   "outputs": [],
   "source": []
  }
 ],
 "metadata": {
  "kernelspec": {
   "display_name": "Python 3",
   "language": "python",
   "name": "python3"
  },
  "language_info": {
   "codemirror_mode": {
    "name": "ipython",
    "version": 3
   },
   "file_extension": ".py",
   "mimetype": "text/x-python",
   "name": "python",
   "nbconvert_exporter": "python",
   "pygments_lexer": "ipython3",
   "version": "3.8.5"
  }
 },
 "nbformat": 4,
 "nbformat_minor": 4
}

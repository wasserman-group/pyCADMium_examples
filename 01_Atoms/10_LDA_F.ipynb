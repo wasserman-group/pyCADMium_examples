{
 "cells": [
  {
   "cell_type": "code",
   "execution_count": 6,
   "metadata": {
    "scrolled": false
   },
   "outputs": [
    {
     "name": "stdout",
     "output_type": "stream",
     "text": [
      " Constructing integration weights ... \n",
      "\n",
      " Building finite difference opperators ... \n",
      "\n",
      " Factorizing Laplacian ... \n",
      "\n",
      " Done\n",
      " iter    Total Energy     HOMO Eigenvalue         Res       \n",
      "\n",
      "----------------------------------------------------------- \n",
      "\n",
      "   1         -127.758          0.071            1.0\n",
      "   2         -100.571          -0.348            0.27033205387668086\n",
      "   3         -100.250          -0.135            0.01133294999688652\n",
      "   4         -99.327          -0.075            0.009292686223579297\n",
      "   5         -98.935          -0.071            0.003965506701350813\n",
      "   6         -98.577          -0.050            0.0036272077354094893\n",
      "   7         -98.481          -0.050            0.0009748159225617505\n",
      "   8         -98.442          -0.050            0.0003937073499999576\n",
      "   9         -98.430          -0.051            0.00019037395796158208\n",
      "   10         -98.426          -0.051            0.00010020535782322276\n",
      "   11         -98.424          -0.051            5.20770302132843e-05\n",
      "   12         -98.424          -0.051            2.679184466173473e-05\n",
      "   13         -98.424          -0.051            1.3670531139687258e-05\n",
      "   14         -98.424          -0.051            6.928682900014442e-06\n",
      " Total Energy: -98.42369196708596\n"
     ]
    }
   ],
   "source": [
    "import numpy as np\n",
    "from CADMium import Psgrid\n",
    "from CADMium import Kohnsham\n",
    "\n",
    "#Distance of the nucley from grid center\n",
    "a =  1.0\n",
    "\n",
    "#Nuclear charges on centers AB\n",
    "Za  = 9\n",
    "Zb = 0\n",
    "\n",
    "#Set polaization. 1 Unpolarized, 2 Polarized\n",
    "pol = 1\n",
    "\n",
    "Nmo = [[2],[3]]\n",
    "N   = [[4],[5]]\n",
    "\n",
    "optKS = {\n",
    "        \"interaction_type\" : \"dft\",\n",
    "        \"SYM\" : False,\n",
    "        \"FRACTIONAL\" : True,\n",
    "        }\n",
    "\n",
    "#Grid Options\n",
    "NP = 7 #Number of points per block\n",
    "NM =  [10,10] #Number of blocks [angular, radial]\n",
    "L = np.arccosh(15./a)#Maximum radial coordinate value\n",
    "loc = np.array(range(-4,5)) #Non inclusive on upper bound\n",
    "\n",
    "#Create and initialize grid object\n",
    "grid = Psgrid(NP, NM, a, L, loc)\n",
    "grid.initialize()\n",
    "\n",
    "#Kohn Sham object\n",
    "KS = Kohnsham(grid, Za, Zb, pol, Nmo, N, optKS)\n",
    "KS.scf(optKS)\n",
    "\n",
    "print(f\" Total Energy: {KS.E.E}\")"
   ]
  },
  {
   "cell_type": "code",
   "execution_count": null,
   "metadata": {},
   "outputs": [],
   "source": []
  }
 ],
 "metadata": {
  "kernelspec": {
   "display_name": "Python 3",
   "language": "python",
   "name": "python3"
  },
  "language_info": {
   "codemirror_mode": {
    "name": "ipython",
    "version": 3
   },
   "file_extension": ".py",
   "mimetype": "text/x-python",
   "name": "python",
   "nbconvert_exporter": "python",
   "pygments_lexer": "ipython3",
   "version": "3.8.5"
  }
 },
 "nbformat": 4,
 "nbformat_minor": 4
}

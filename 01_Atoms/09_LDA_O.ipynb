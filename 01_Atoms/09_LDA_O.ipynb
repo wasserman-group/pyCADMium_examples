{
 "cells": [
  {
   "cell_type": "code",
   "execution_count": 1,
   "metadata": {},
   "outputs": [
    {
     "name": "stdout",
     "output_type": "stream",
     "text": [
      " Constructing integration weights ... \n",
      "\n",
      " Building finite difference opperators ... \n",
      "\n",
      " Factorizing Laplacian ... \n",
      "\n",
      " Done\n",
      " iter    Total Energy     HOMO Eigenvalue         Res       \n",
      "\n",
      "----------------------------------------------------------- \n",
      "\n",
      "   1         -97.385          0.041            1.0\n",
      "   2         -76.763          -1.199            0.26864984874023107\n",
      "   3         -76.254          -0.674            0.013017912117741991\n",
      "   4         -75.290          -0.476            0.012803350333194978\n",
      "   5         -74.769          -0.392            0.006971113311341485\n",
      "   6         -74.639          -0.354            0.0017408703310723035\n",
      "   7         -74.464          -0.336            0.002346753112284627\n",
      "   8         -74.439          -0.328            0.0004491721643436301\n",
      "   9         -74.428          -0.324            0.00024241901948945246\n",
      "   10         -74.426          -0.323            0.00012809278385020735\n",
      "   11         -74.425          -0.322            6.667243368988973e-05\n",
      "   12         -74.425          -0.321            3.428282500255177e-05\n",
      "   13         -74.425          -0.321            1.7447151816586467e-05\n",
      "   14         -74.425          -0.321            8.807950793010727e-06\n",
      " Total Energy: -74.42549267810789\n"
     ]
    }
   ],
   "source": [
    "import numpy as np\n",
    "from CADMium import Psgrid\n",
    "from CADMium import Kohnsham\n",
    "\n",
    "#Distance of the nucley from grid center\n",
    "a =  1.0\n",
    "\n",
    "#Nuclear charges on centers AB\n",
    "Za  = 8\n",
    "Zb = 0\n",
    "\n",
    "#Set polaization. 1 Unpolarized, 2 Polarized\n",
    "pol = 1\n",
    "\n",
    "Nmo = [[2],[2]]\n",
    "N   = [[4],[4]]\n",
    "\n",
    "optKS = {\n",
    "        \"interaction_type\" : \"dft\",\n",
    "        \"SYM\" : False,\n",
    "        \"FRACTIONAL\" : True,\n",
    "        }\n",
    "\n",
    "#Grid Options\n",
    "NP = 7 #Number of points per block\n",
    "NM =  [10,10] #Number of blocks [angular, radial]\n",
    "L = np.arccosh(15./a) #Maximum radial coordinate value\n",
    "loc = np.array(range(-4,5)) #Non inclusive on upper bound\n",
    "\n",
    "#Create and initialize grid object\n",
    "grid = Psgrid(NP, NM, a, L, loc)\n",
    "grid.initialize()\n",
    "\n",
    "#Kohn Sham object\n",
    "KS = Kohnsham(grid, Za, Zb, pol, Nmo, N, optKS)\n",
    "KS.scf(optKS)\n",
    "\n",
    "print(f\" Total Energy: {KS.E.E}\")"
   ]
  }
 ],
 "metadata": {
  "kernelspec": {
   "display_name": "Python 3",
   "language": "python",
   "name": "python3"
  },
  "language_info": {
   "codemirror_mode": {
    "name": "ipython",
    "version": 3
   },
   "file_extension": ".py",
   "mimetype": "text/x-python",
   "name": "python",
   "nbconvert_exporter": "python",
   "pygments_lexer": "ipython3",
   "version": "3.8.5"
  }
 },
 "nbformat": 4,
 "nbformat_minor": 4
}

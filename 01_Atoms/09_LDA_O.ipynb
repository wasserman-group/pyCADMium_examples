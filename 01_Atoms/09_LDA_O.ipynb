{
 "cells": [
  {
   "cell_type": "code",
   "execution_count": 2,
   "metadata": {},
   "outputs": [
    {
     "name": "stdout",
     "output_type": "stream",
     "text": [
      " Constructing integration weights ... \n",
      "\n",
      " Building finite difference opperators ... \n",
      "\n",
      " Factorizing Laplacian ... \n",
      "\n",
      " Done\n",
      " iter    Total Energy     HOMO Eigenvalue         Res       \n",
      "\n",
      "----------------------------------------------------------- \n",
      "\n",
      "   1         -91.155          0.044            1.0\n",
      "   2         -75.830          -0.306            0.2020926430877889\n",
      "   3         -74.583          -0.207            0.016731264880821998\n",
      "   4         -73.877          -0.167            0.009549979379234545\n",
      "   5         -73.655          -0.165            0.0033008210941895566\n",
      "   6         -73.371          -0.145            0.0038635720354135597\n",
      "   7         -73.303          -0.143            0.0009272321782733845\n",
      "   8         -73.272          -0.143            0.0004274024017801823\n",
      "   9         -73.259          -0.143            0.00017438996148112855\n",
      "   10         -73.254          -0.142            7.281068528595923e-05\n",
      "   11         -73.252          -0.142            3.092824978894974e-05\n",
      "   12         -73.251          -0.142            1.3281636793809788e-05\n",
      "   13         -73.250          -0.142            5.74336119332766e-06\n",
      " Total Energy: -73.25018191977412\n"
     ]
    }
   ],
   "source": [
    "import numpy as np\n",
    "from CADMium import Psgrid\n",
    "from CADMium import Kohnsham\n",
    "\n",
    "#Distance of the nucley from grid center\n",
    "a =  1.0\n",
    "\n",
    "#Nuclear charges on centers AB\n",
    "Za  = 8\n",
    "Zb = 0\n",
    "\n",
    "#Set polaization. 1 Unpolarized, 2 Polarized\n",
    "pol = 1\n",
    "\n",
    "Nmo = [[4]]\n",
    "N   = [[8]]\n",
    "\n",
    "optKS = {\n",
    "        \"interaction_type\" : \"dft\",\n",
    "        \"SYM\" : False,\n",
    "        \"FRACTIONAL\" : True,\n",
    "        }\n",
    "\n",
    "#Grid Options\n",
    "NP = 7 #Number of points per block\n",
    "NM =  [10,10] #Number of blocks [angular, radial]\n",
    "L = np.arccosh(15./a) #Maximum radial coordinate value\n",
    "loc = np.array(range(-4,5)) #Non inclusive on upper bound\n",
    "\n",
    "#Create and initialize grid object\n",
    "grid = Psgrid(NP, NM, a, L, loc)\n",
    "grid.initialize()\n",
    "\n",
    "#Kohn Sham object\n",
    "KS = Kohnsham(grid, Za, Zb, pol, Nmo, N, optKS)\n",
    "KS.scf(optKS)\n",
    "\n",
    "print(f\" Total Energy: {KS.E.E}\")"
   ]
  },
  {
   "cell_type": "code",
   "execution_count": null,
   "metadata": {},
   "outputs": [],
   "source": []
  }
 ],
 "metadata": {
  "kernelspec": {
   "display_name": "Python 3",
   "language": "python",
   "name": "python3"
  },
  "language_info": {
   "codemirror_mode": {
    "name": "ipython",
    "version": 3
   },
   "file_extension": ".py",
   "mimetype": "text/x-python",
   "name": "python",
   "nbconvert_exporter": "python",
   "pygments_lexer": "ipython3",
   "version": "3.8.5"
  }
 },
 "nbformat": 4,
 "nbformat_minor": 4
}

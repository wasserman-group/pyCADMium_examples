{
 "cells": [
  {
   "cell_type": "code",
   "execution_count": 1,
   "metadata": {},
   "outputs": [
    {
     "name": "stdout",
     "output_type": "stream",
     "text": [
      " Constructing integration weights ... \n",
      "\n",
      " Building finite difference opperators ... \n",
      "\n",
      " Factorizing Laplacian ... \n",
      "\n",
      " Done\n",
      " iter    Total Energy     HOMO Eigenvalue         Res       \n",
      "\n",
      "----------------------------------------------------------- \n",
      "\n",
      "   1         -3.626          -0.380            1.0\n",
      "   2         -3.056          -0.522            0.18631080113106754\n",
      "   3         -2.899          -0.558            0.05428420964102348\n",
      "   4         -2.854          -0.568            0.015719624614882282\n",
      "   5         -2.841          -0.570            0.004713600613578844\n",
      "   6         -2.837          -0.570            0.0014709971993326699\n",
      "   7         -2.835          -0.570            0.0004833807038438923\n",
      "   8         -2.835          -0.570            0.00017508835584712645\n",
      "   9         -2.835          -0.570            8.002801470614648e-05\n",
      "   10         -2.835          -0.570            3.777153847579694e-05\n",
      "   11         -2.834          -0.570            1.819393003285804e-05\n",
      "   12         -2.834          -0.570            8.872826555152844e-06\n",
      " Total Energy: -2.834468599167583\n"
     ]
    }
   ],
   "source": [
    "import numpy as np\n",
    "from CADMium import Psgrid\n",
    "from CADMium import Kohnsham\n",
    "\n",
    "#Distance of the nucley from grid center\n",
    "a =  1.0\n",
    "\n",
    "#Nuclear charges on centers AB\n",
    "Za  = 2\n",
    "Zb = 0\n",
    "\n",
    "#Set polaization. 1 Unpolarized, 2 Polarized\n",
    "pol = 1\n",
    "\n",
    "Nmo = [[1]]\n",
    "N   = [[2]]\n",
    "\n",
    "optKS = {\n",
    "        \"interaction_type\" : \"dft\",\n",
    "        \"SYM\" : False,\n",
    "        \"FRACTIONAL\" : True,\n",
    "        }\n",
    "\n",
    "#Grid Options\n",
    "NP = 7 #Number of points per block\n",
    "NM =  [10,10] #Number of blocks [angular, radial]\n",
    "L = np.arccosh(15./a) #Maximum radial coordinate value\n",
    "loc = np.array(range(-4,5)) #Non inclusive on upper bound\n",
    "\n",
    "#Create and initialize grid object\n",
    "grid = Psgrid(NP, NM, a, L, loc)\n",
    "grid.initialize()\n",
    "\n",
    "#Kohn Sham object\n",
    "KS = Kohnsham(grid, Za, Zb, pol, Nmo, N, optKS)\n",
    "KS.scf(optKS)\n",
    "\n",
    "print(f\" Total Energy: {KS.E.E}\")"
   ]
  },
  {
   "cell_type": "code",
   "execution_count": 3,
   "metadata": {},
   "outputs": [
    {
     "data": {
      "text/plain": [
       "mappingproxy({'__module__': 'CADMium.kohnsham.kohnsham',\n",
       "              '__dict__': <attribute '__dict__' of 'E' objects>,\n",
       "              '__weakref__': <attribute '__weakref__' of 'E' objects>,\n",
       "              '__doc__': None,\n",
       "              'Ex': -0.8617386169757824,\n",
       "              'Ec': -0.1110800752220179,\n",
       "              'Eks': array([[-1.1405246]]),\n",
       "              'Vks': array([[-3.90791291]]),\n",
       "              'Ts': 2.767388305816419,\n",
       "              'evals': array([], dtype=float64),\n",
       "              'Enuc': -6.6248924986971565,\n",
       "              'Vext': 0.0,\n",
       "              'Vhxc': 2.71696616862344,\n",
       "              'Eh': 1.995854285910955,\n",
       "              'Et': -2.834468599167583,\n",
       "              'Vnn': 0.0,\n",
       "              'E': -2.834468599167583})"
      ]
     },
     "execution_count": 3,
     "metadata": {},
     "output_type": "execute_result"
    }
   ],
   "source": [
    "KS.E.__dict__"
   ]
  },
  {
   "cell_type": "code",
   "execution_count": null,
   "metadata": {},
   "outputs": [],
   "source": []
  }
 ],
 "metadata": {
  "kernelspec": {
   "display_name": "Python 3",
   "language": "python",
   "name": "python3"
  },
  "language_info": {
   "codemirror_mode": {
    "name": "ipython",
    "version": 3
   },
   "file_extension": ".py",
   "mimetype": "text/x-python",
   "name": "python",
   "nbconvert_exporter": "python",
   "pygments_lexer": "ipython3",
   "version": "3.8.5"
  }
 },
 "nbformat": 4,
 "nbformat_minor": 4
}

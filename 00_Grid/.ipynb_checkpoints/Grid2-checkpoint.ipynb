{
 "cells": [
  {
   "cell_type": "markdown",
   "metadata": {},
   "source": [
    "Grid.ipynb\n",
    "\n",
    "- Creates a basic grid by specifying the number of points. Each grid depends on the number of radial/angular blocks that is multiplied by the number of points per block. \n",
    "\n",
    "- Naturally, with a greater number of points, the calculation is more accurate and expensive. \n",
    "\n",
    "- Here, we do an example with the Boron atom. Additionally, we include a 2D plot to see how the points are distributed in space. \n",
    "\n",
    "- Lastly, we create a 3D plot showing the convergence of the energy with respect to the number of points."
   ]
  },
  {
   "cell_type": "code",
   "execution_count": null,
   "metadata": {},
   "outputs": [],
   "source": [
    "import numpy as np\n",
    "import matplotlib.pyplot as plt\n",
    "import plotly.graph_objects as go\n",
    "from CADMium import Psgrid\n",
    "from CADMium import Kohnsham\n",
    "\n",
    "#Distance of the nucley from grid center\n",
    "a =  5\n",
    "\n",
    "#Grid Options\n",
    "NP = 5 #Number of points per block\n",
    "NM =  [3,3] #Number of blocks [angular, radial]\n",
    "L = np.arccosh(15./a)#Maximum radial coordinate value\n",
    "loc = np.array(range(-4,5)) #Non inclusive on upper bound\n",
    "\n",
    "#Create and initialize grid object\n",
    "grid = Psgrid(NP, NM, a, L, loc)\n",
    "grid.initialize()"
   ]
  },
  {
   "cell_type": "code",
   "execution_count": null,
   "metadata": {},
   "outputs": [],
   "source": [
    "fig, ax = plt.subplots(dpi=100)\n",
    "\n",
    "ax.scatter(np.vstack((-np.flip(grid.Z), grid.Z)), \n",
    "            np.vstack((-np.flip(grid.Y), grid.Y)))\n",
    "\n",
    "# The Boron atom is located at one of the dense areas.\n",
    "# If two atoms are present, each one is located at each foci. \n",
    "# The separation distance translate into the distance between foci. "
   ]
  },
  {
   "cell_type": "markdown",
   "metadata": {},
   "source": [
    "### How much would our grid affect a calculation?\n",
    "Let us redo the previous procedure with the ability of changing both the number of blocks and points per block. \n",
    "Don't fret too much on each of the small details of the calculation, you'll be able to abstract them as you follow more examples. \n"
   ]
  },
  {
   "cell_type": "code",
   "execution_count": null,
   "metadata": {},
   "outputs": [],
   "source": [
    "# Define the number of points that we are going to explore. \n",
    "\n",
    "points_per_block = [7]\n",
    "ang_points = [5, 7, 9, 12, 15]\n",
    "rad_points = [5, 7, 9, 12, 15]\n",
    "energy = []\n",
    "all_ang = []\n",
    "all_rad = []\n",
    "\n",
    "\n",
    "# Proceed to make the calculation. This may take a while, so time for some coffee. "
   ]
  },
  {
   "cell_type": "code",
   "execution_count": null,
   "metadata": {},
   "outputs": [],
   "source": [
    "#Nuclear charges on centers AB\n",
    "Za  = 5\n",
    "Zb = 0\n",
    "\n",
    "#Set polaization. 1 Unpolarized, 2 Polarized\n",
    "pol = 2\n",
    "\n",
    "#Assign electronic structure\n",
    "Nmo = [[3,3], [1,0]]\n",
    "N   = [[2,2], [1,0]]\n",
    "\n",
    "optKS = {}\n",
    "\n",
    "for i in ang_points:\n",
    "    for j in rad_points:\n",
    "        \n",
    "        #Grid Options\n",
    "        a =  1.0\n",
    "        NP = 7 #Number of points per block\n",
    "        NM =  [i,j] #Number of blocks [angular, radial]\n",
    "        L = np.arccosh(15./a) #Maximum radial coordinate value\n",
    "        loc = np.array(range(-4,5)) #Non inclusive on upper bound\n",
    "\n",
    "        #Create and initialize grid object\n",
    "        grid = Psgrid(NP, NM, a, L, loc)\n",
    "        grid.initialize()\n",
    "\n",
    "        #Kohn Sham object\n",
    "        KS = Kohnsham(grid, Za, Zb, pol, Nmo, N, optKS)\n",
    "        KS.scf(optKS)\n",
    "\n",
    "        energy.append(KS.E.E)\n",
    "        all_ang.append(i)\n",
    "        all_rad.append(j)"
   ]
  },
  {
   "cell_type": "code",
   "execution_count": null,
   "metadata": {},
   "outputs": [],
   "source": [
    "fig = plt.figure()\n",
    "ax = fig.add_subplot(projection='3d')\n",
    "\n",
    "\n",
    "ax.scatter(all_ang, all_rad, energy, marker=m)\n",
    "\n",
    "ax.set_xlabel('X Label')\n",
    "ax.set_ylabel('Y Label')\n",
    "ax.set_zlabel('Z Label')\n",
    "\n",
    "plt.show()"
   ]
  },
  {
   "cell_type": "code",
   "execution_count": null,
   "metadata": {},
   "outputs": [],
   "source": [
    "# Optional. If `plotly` is installed:\n",
    "\n",
    "# fig = go.Figure(data=[go.Scatter3d(\n",
    "#     x=all_ang,\n",
    "#     y=all_rad,\n",
    "#     z=energy,\n",
    "#     mode='markers',\n",
    "#     marker=dict(\n",
    "#         size=5,\n",
    "#         color=energy,                # set color to an array/list of desired values\n",
    "#         colorscale='Viridis',   # choose a colorscale\n",
    "#         opacity=0.8\n",
    "#     )\n",
    "# )])\n",
    "\n",
    "# fig.show()"
   ]
  }
 ],
 "metadata": {
  "kernelspec": {
   "display_name": "Python 3 (ipykernel)",
   "language": "python",
   "name": "python3"
  },
  "language_info": {
   "codemirror_mode": {
    "name": "ipython",
    "version": 3
   },
   "file_extension": ".py",
   "mimetype": "text/x-python",
   "name": "python",
   "nbconvert_exporter": "python",
   "pygments_lexer": "ipython3",
   "version": "3.8.5"
  }
 },
 "nbformat": 4,
 "nbformat_minor": 4
}

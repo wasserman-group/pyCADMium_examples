{
 "cells": [
  {
   "cell_type": "code",
   "execution_count": 9,
   "metadata": {},
   "outputs": [
    {
     "name": "stdout",
     "output_type": "stream",
     "text": [
      " Constructing integration weights ... \n",
      "\n",
      " Building finite difference opperators ... \n",
      "\n",
      " Factorizing Laplacian ... \n",
      "\n",
      " Done\n"
     ]
    }
   ],
   "source": [
    "import numpy as np\n",
    "import matplotlib.pyplot as plt\n",
    "import plotly.graph_objects as go\n",
    "from CADMium import Psgrid\n",
    "from CADMium import Kohnsham\n",
    "\n",
    "#Distance of the nucley from grid center\n",
    "a =  5\n",
    "\n",
    "#Grid Options\n",
    "NP = 5#Number of points per block\n",
    "NM =  [3,3] #Number of blocks [angular, radial]\n",
    "L = np.arccosh(15./a)#Maximum radial coordinate value\n",
    "loc = np.array(range(-4,5)) #Non inclusive on upper bound\n",
    "\n",
    "#Create and initialize grid object\n",
    "grid = Psgrid(NP, NM, a, L, loc)\n",
    "grid.initialize()"
   ]
  },
  {
   "cell_type": "code",
   "execution_count": 2,
   "metadata": {},
   "outputs": [
    {
     "data": {
      "text/plain": [
       "<matplotlib.collections.PathCollection at 0x7fc071b59790>"
      ]
     },
     "execution_count": 2,
     "metadata": {},
     "output_type": "execute_result"
    },
    {
     "data": {
      "image/png": "[encoded data removed]",
      "text/plain": [
       "<Figure size 432x288 with 1 Axes>"
      ]
     },
     "metadata": {
      "needs_background": "light"
     },
     "output_type": "display_data"
    }
   ],
   "source": [
    "plt.scatter(np.vstack((-np.flip(grid.Z), grid.Z)), \n",
    "            np.vstack((-np.flip(grid.Y), grid.Y)))"
   ]
  },
  {
   "cell_type": "markdown",
   "metadata": {},
   "source": [
    "### How much would our grid affect a calculation?\n",
    "Let us redo the previous procedure with the ability of changing both the number of blocks and points per block. \n",
    "\n"
   ]
  },
  {
   "cell_type": "code",
   "execution_count": 17,
   "metadata": {},
   "outputs": [],
   "source": [
    "points_per_block = range(3,12)\n",
    "ang_rad_blocks = range(3,12)\n",
    "energy = []\n",
    "points = []\n",
    "blocks = []"
   ]
  },
  {
   "cell_type": "code",
   "execution_count": 18,
   "metadata": {},
   "outputs": [
    {
     "name": "stdout",
     "output_type": "stream",
     "text": [
      " Constructing integration weights ... \n",
      "\n",
      " Building finite difference opperators ... \n",
      "\n",
      " Factorizing Laplacian ... \n",
      "\n",
      " Done\n",
      "Molecular Orbital equals zero\n",
      "Molecular Orbital equals zero\n",
      "Molecular Orbital equals zero\n",
      "Molecular Orbital equals zero\n",
      "Molecular Orbital equals zero\n",
      "Molecular Orbital equals zero\n",
      "Molecular Orbital equals zero\n",
      "Molecular Orbital equals zero\n",
      "Molecular Orbital equals zero\n",
      " Constructing integration weights ... \n",
      "\n",
      " Building finite difference opperators ... \n",
      "\n",
      " Factorizing Laplacian ... \n",
      "\n",
      " Done\n",
      "Molecular Orbital equals zero\n",
      "Molecular Orbital equals zero\n",
      "Molecular Orbital equals zero\n",
      "Molecular Orbital equals zero\n",
      "Molecular Orbital equals zero\n",
      "Molecular Orbital equals zero\n",
      "Molecular Orbital equals zero\n",
      "Molecular Orbital equals zero\n",
      " Constructing integration weights ... \n",
      "\n",
      " Building finite difference opperators ... \n",
      "\n",
      " Factorizing Laplacian ... \n",
      "\n",
      " Done\n",
      "Molecular Orbital equals zero\n",
      "Molecular Orbital equals zero\n",
      "Molecular Orbital equals zero\n",
      "Molecular Orbital equals zero\n",
      "Molecular Orbital equals zero\n",
      "Molecular Orbital equals zero\n",
      "Molecular Orbital equals zero\n",
      "Molecular Orbital equals zero\n",
      " Constructing integration weights ... \n",
      "\n",
      " Building finite difference opperators ... \n",
      "\n",
      " Factorizing Laplacian ... \n",
      "\n",
      " Done\n",
      "Molecular Orbital equals zero\n",
      "Molecular Orbital equals zero\n",
      "Molecular Orbital equals zero\n",
      "Molecular Orbital equals zero\n",
      "Molecular Orbital equals zero\n",
      "Molecular Orbital equals zero\n",
      "Molecular Orbital equals zero\n",
      "Molecular Orbital equals zero\n",
      " Constructing integration weights ... \n",
      "\n",
      " Building finite difference opperators ... \n",
      "\n",
      " Factorizing Laplacian ... \n",
      "\n",
      " Done\n",
      "Molecular Orbital equals zero\n",
      "Molecular Orbital equals zero\n",
      "Molecular Orbital equals zero\n",
      "Molecular Orbital equals zero\n",
      "Molecular Orbital equals zero\n",
      "Molecular Orbital equals zero\n",
      "Molecular Orbital equals zero\n",
      "Molecular Orbital equals zero\n",
      " Constructing integration weights ... \n",
      "\n",
      " Building finite difference opperators ... \n",
      "\n",
      " Factorizing Laplacian ... \n",
      "\n",
      " Done\n",
      "Molecular Orbital equals zero\n",
      "Molecular Orbital equals zero\n",
      "Molecular Orbital equals zero\n",
      "Molecular Orbital equals zero\n",
      "Molecular Orbital equals zero\n",
      "Molecular Orbital equals zero\n",
      "Molecular Orbital equals zero\n",
      "Molecular Orbital equals zero\n",
      " Constructing integration weights ... \n",
      "\n",
      " Building finite difference opperators ... \n",
      "\n",
      " Factorizing Laplacian ... \n",
      "\n",
      " Done\n",
      "Molecular Orbital equals zero\n",
      "Molecular Orbital equals zero\n",
      "Molecular Orbital equals zero\n",
      "Molecular Orbital equals zero\n",
      "Molecular Orbital equals zero\n",
      "Molecular Orbital equals zero\n",
      "Molecular Orbital equals zero\n",
      "Molecular Orbital equals zero\n",
      " Constructing integration weights ... \n",
      "\n",
      " Building finite difference opperators ... \n",
      "\n",
      " Factorizing Laplacian ... \n",
      "\n",
      " Done\n",
      "Molecular Orbital equals zero\n",
      "Molecular Orbital equals zero\n",
      "Molecular Orbital equals zero\n",
      "Molecular Orbital equals zero\n",
      "Molecular Orbital equals zero\n",
      "Molecular Orbital equals zero\n",
      "Molecular Orbital equals zero\n",
      "Molecular Orbital equals zero\n",
      " Constructing integration weights ... \n",
      "\n",
      " Building finite difference opperators ... \n",
      "\n",
      " Factorizing Laplacian ... \n",
      "\n",
      " Done\n",
      "Molecular Orbital equals zero\n",
      "Molecular Orbital equals zero\n",
      "Molecular Orbital equals zero\n",
      "Molecular Orbital equals zero\n",
      "Molecular Orbital equals zero\n",
      "Molecular Orbital equals zero\n",
      "Molecular Orbital equals zero\n",
      "Molecular Orbital equals zero\n",
      " Constructing integration weights ... \n",
      "\n",
      " Building finite difference opperators ... \n",
      "\n",
      " Factorizing Laplacian ... \n",
      "\n",
      " Done\n",
      "Molecular Orbital equals zero\n",
      "Molecular Orbital equals zero\n",
      "Molecular Orbital equals zero\n",
      "Molecular Orbital equals zero\n",
      "Molecular Orbital equals zero\n",
      "Molecular Orbital equals zero\n",
      "Molecular Orbital equals zero\n",
      "Molecular Orbital equals zero\n",
      " Constructing integration weights ... \n",
      "\n",
      " Building finite difference opperators ... \n",
      "\n",
      " Factorizing Laplacian ... \n",
      "\n",
      " Done\n",
      "Molecular Orbital equals zero\n",
      "Molecular Orbital equals zero\n",
      "Molecular Orbital equals zero\n",
      "Molecular Orbital equals zero\n",
      "Molecular Orbital equals zero\n",
      "Molecular Orbital equals zero\n",
      "Molecular Orbital equals zero\n",
      "Molecular Orbital equals zero\n",
      " Constructing integration weights ... \n",
      "\n",
      " Building finite difference opperators ... \n",
      "\n",
      " Factorizing Laplacian ... \n",
      "\n",
      " Done\n",
      "Molecular Orbital equals zero\n",
      "Molecular Orbital equals zero\n",
      "Molecular Orbital equals zero\n",
      "Molecular Orbital equals zero\n",
      "Molecular Orbital equals zero\n",
      "Molecular Orbital equals zero\n",
      "Molecular Orbital equals zero\n",
      "Molecular Orbital equals zero\n",
      " Constructing integration weights ... \n",
      "\n",
      " Building finite difference opperators ... \n",
      "\n",
      " Factorizing Laplacian ... \n",
      "\n",
      " Done\n",
      "Molecular Orbital equals zero\n",
      "Molecular Orbital equals zero\n",
      "Molecular Orbital equals zero\n",
      "Molecular Orbital equals zero\n",
      "Molecular Orbital equals zero\n",
      "Molecular Orbital equals zero\n",
      "Molecular Orbital equals zero\n",
      "Molecular Orbital equals zero\n",
      " Constructing integration weights ... \n",
      "\n",
      " Building finite difference opperators ... \n",
      "\n",
      " Factorizing Laplacian ... \n",
      "\n",
      " Done\n",
      "Molecular Orbital equals zero\n",
      "Molecular Orbital equals zero\n",
      "Molecular Orbital equals zero\n",
      "Molecular Orbital equals zero\n",
      "Molecular Orbital equals zero\n",
      "Molecular Orbital equals zero\n",
      "Molecular Orbital equals zero\n",
      "Molecular Orbital equals zero\n",
      " Constructing integration weights ... \n",
      "\n",
      " Building finite difference opperators ... \n",
      "\n",
      " Factorizing Laplacian ... \n",
      "\n",
      " Done\n",
      "Molecular Orbital equals zero\n",
      "Molecular Orbital equals zero\n",
      "Molecular Orbital equals zero\n",
      "Molecular Orbital equals zero\n",
      "Molecular Orbital equals zero\n",
      "Molecular Orbital equals zero\n",
      "Molecular Orbital equals zero\n",
      "Molecular Orbital equals zero\n",
      " Constructing integration weights ... \n",
      "\n",
      " Building finite difference opperators ... \n",
      "\n",
      " Factorizing Laplacian ... \n",
      "\n",
      " Done\n",
      "Molecular Orbital equals zero\n",
      "Molecular Orbital equals zero\n",
      "Molecular Orbital equals zero\n",
      "Molecular Orbital equals zero\n",
      "Molecular Orbital equals zero\n",
      "Molecular Orbital equals zero\n",
      "Molecular Orbital equals zero\n",
      "Molecular Orbital equals zero\n",
      " Constructing integration weights ... \n",
      "\n",
      " Building finite difference opperators ... \n",
      "\n",
      " Factorizing Laplacian ... \n",
      "\n",
      " Done\n",
      "Molecular Orbital equals zero\n",
      "Molecular Orbital equals zero\n",
      "Molecular Orbital equals zero\n",
      "Molecular Orbital equals zero\n",
      "Molecular Orbital equals zero\n",
      "Molecular Orbital equals zero\n",
      "Molecular Orbital equals zero\n",
      "Molecular Orbital equals zero\n",
      " Constructing integration weights ... \n",
      "\n",
      " Building finite difference opperators ... \n",
      "\n",
      " Factorizing Laplacian ... \n",
      "\n",
      " Done\n",
      "Molecular Orbital equals zero\n",
      "Molecular Orbital equals zero\n",
      "Molecular Orbital equals zero\n",
      "Molecular Orbital equals zero\n",
      "Molecular Orbital equals zero\n",
      "Molecular Orbital equals zero\n",
      "Molecular Orbital equals zero\n",
      "Molecular Orbital equals zero\n",
      " Constructing integration weights ... \n",
      "\n",
      " Building finite difference opperators ... \n",
      "\n",
      " Factorizing Laplacian ... \n",
      "\n",
      " Done\n",
      "Molecular Orbital equals zero\n",
      "Molecular Orbital equals zero\n",
      "Molecular Orbital equals zero\n",
      "Molecular Orbital equals zero\n",
      "Molecular Orbital equals zero\n",
      "Molecular Orbital equals zero\n",
      "Molecular Orbital equals zero\n",
      "Molecular Orbital equals zero\n",
      " Constructing integration weights ... \n",
      "\n",
      " Building finite difference opperators ... \n",
      "\n",
      " Factorizing Laplacian ... \n",
      "\n",
      " Done\n",
      "Molecular Orbital equals zero\n",
      "Molecular Orbital equals zero\n",
      "Molecular Orbital equals zero\n",
      "Molecular Orbital equals zero\n",
      "Molecular Orbital equals zero\n",
      "Molecular Orbital equals zero\n",
      "Molecular Orbital equals zero\n",
      "Molecular Orbital equals zero\n",
      " Constructing integration weights ... \n",
      "\n",
      " Building finite difference opperators ... \n",
      "\n",
      " Factorizing Laplacian ... \n",
      "\n",
      " Done\n",
      "Molecular Orbital equals zero\n",
      "Molecular Orbital equals zero\n",
      "Molecular Orbital equals zero\n",
      "Molecular Orbital equals zero\n",
      "Molecular Orbital equals zero\n",
      "Molecular Orbital equals zero\n",
      "Molecular Orbital equals zero\n",
      "Molecular Orbital equals zero\n",
      " Constructing integration weights ... \n",
      "\n",
      " Building finite difference opperators ... \n",
      "\n",
      " Factorizing Laplacian ... \n",
      "\n",
      " Done\n",
      "Molecular Orbital equals zero\n",
      "Molecular Orbital equals zero\n",
      "Molecular Orbital equals zero\n",
      "Molecular Orbital equals zero\n",
      "Molecular Orbital equals zero\n",
      "Molecular Orbital equals zero\n",
      "Molecular Orbital equals zero\n",
      "Molecular Orbital equals zero\n",
      " Constructing integration weights ... \n",
      "\n",
      " Building finite difference opperators ... \n",
      "\n",
      " Factorizing Laplacian ... \n",
      "\n",
      " Done\n",
      "Molecular Orbital equals zero\n",
      "Molecular Orbital equals zero\n",
      "Molecular Orbital equals zero\n",
      "Molecular Orbital equals zero\n",
      "Molecular Orbital equals zero\n"
     ]
    },
    {
     "name": "stdout",
     "output_type": "stream",
     "text": [
      "Molecular Orbital equals zero\n",
      "Molecular Orbital equals zero\n",
      "Molecular Orbital equals zero\n",
      " Constructing integration weights ... \n",
      "\n",
      " Building finite difference opperators ... \n",
      "\n",
      " Factorizing Laplacian ... \n",
      "\n",
      " Done\n",
      "Molecular Orbital equals zero\n",
      "Molecular Orbital equals zero\n",
      "Molecular Orbital equals zero\n",
      "Molecular Orbital equals zero\n",
      "Molecular Orbital equals zero\n",
      "Molecular Orbital equals zero\n",
      "Molecular Orbital equals zero\n",
      "Molecular Orbital equals zero\n",
      " Constructing integration weights ... \n",
      "\n",
      " Building finite difference opperators ... \n",
      "\n",
      " Factorizing Laplacian ... \n",
      "\n",
      " Done\n",
      "Molecular Orbital equals zero\n",
      "Molecular Orbital equals zero\n",
      "Molecular Orbital equals zero\n",
      "Molecular Orbital equals zero\n",
      "Molecular Orbital equals zero\n",
      "Molecular Orbital equals zero\n",
      "Molecular Orbital equals zero\n",
      "Molecular Orbital equals zero\n",
      " Constructing integration weights ... \n",
      "\n",
      " Building finite difference opperators ... \n",
      "\n",
      " Factorizing Laplacian ... \n",
      "\n",
      " Done\n",
      "Molecular Orbital equals zero\n",
      "Molecular Orbital equals zero\n",
      "Molecular Orbital equals zero\n",
      "Molecular Orbital equals zero\n",
      "Molecular Orbital equals zero\n",
      "Molecular Orbital equals zero\n",
      "Molecular Orbital equals zero\n",
      "Molecular Orbital equals zero\n",
      " Constructing integration weights ... \n",
      "\n",
      " Building finite difference opperators ... \n",
      "\n",
      " Factorizing Laplacian ... \n",
      "\n",
      " Done\n",
      "Molecular Orbital equals zero\n",
      "Molecular Orbital equals zero\n",
      "Molecular Orbital equals zero\n",
      "Molecular Orbital equals zero\n",
      "Molecular Orbital equals zero\n",
      "Molecular Orbital equals zero\n",
      "Molecular Orbital equals zero\n",
      "Molecular Orbital equals zero\n",
      " Constructing integration weights ... \n",
      "\n",
      " Building finite difference opperators ... \n",
      "\n",
      " Factorizing Laplacian ... \n",
      "\n",
      " Done\n",
      "Molecular Orbital equals zero\n",
      "Molecular Orbital equals zero\n",
      "Molecular Orbital equals zero\n",
      "Molecular Orbital equals zero\n",
      "Molecular Orbital equals zero\n",
      "Molecular Orbital equals zero\n",
      "Molecular Orbital equals zero\n",
      "Molecular Orbital equals zero\n",
      " Constructing integration weights ... \n",
      "\n",
      " Building finite difference opperators ... \n",
      "\n",
      " Factorizing Laplacian ... \n",
      "\n",
      " Done\n",
      "Molecular Orbital equals zero\n",
      "Molecular Orbital equals zero\n",
      "Molecular Orbital equals zero\n",
      "Molecular Orbital equals zero\n",
      "Molecular Orbital equals zero\n",
      "Molecular Orbital equals zero\n",
      "Molecular Orbital equals zero\n",
      "Molecular Orbital equals zero\n",
      " Constructing integration weights ... \n",
      "\n",
      " Building finite difference opperators ... \n",
      "\n",
      " Factorizing Laplacian ... \n",
      "\n",
      " Done\n",
      "Molecular Orbital equals zero\n",
      "Molecular Orbital equals zero\n",
      "Molecular Orbital equals zero\n",
      "Molecular Orbital equals zero\n",
      "Molecular Orbital equals zero\n",
      "Molecular Orbital equals zero\n",
      "Molecular Orbital equals zero\n",
      "Molecular Orbital equals zero\n",
      " Constructing integration weights ... \n",
      "\n",
      " Building finite difference opperators ... \n",
      "\n",
      " Factorizing Laplacian ... \n",
      "\n",
      " Done\n",
      "Molecular Orbital equals zero\n",
      "Molecular Orbital equals zero\n",
      "Molecular Orbital equals zero\n",
      "Molecular Orbital equals zero\n",
      "Molecular Orbital equals zero\n",
      "Molecular Orbital equals zero\n",
      "Molecular Orbital equals zero\n",
      "Molecular Orbital equals zero\n",
      " Constructing integration weights ... \n",
      "\n",
      " Building finite difference opperators ... \n",
      "\n",
      " Factorizing Laplacian ... \n",
      "\n",
      " Done\n",
      "Molecular Orbital equals zero\n",
      "Molecular Orbital equals zero\n",
      "Molecular Orbital equals zero\n",
      "Molecular Orbital equals zero\n",
      "Molecular Orbital equals zero\n",
      "Molecular Orbital equals zero\n",
      "Molecular Orbital equals zero\n",
      "Molecular Orbital equals zero\n",
      " Constructing integration weights ... \n",
      "\n",
      " Building finite difference opperators ... \n",
      "\n",
      " Factorizing Laplacian ... \n",
      "\n",
      " Done\n",
      "Molecular Orbital equals zero\n",
      "Molecular Orbital equals zero\n",
      "Molecular Orbital equals zero\n",
      "Molecular Orbital equals zero\n",
      "Molecular Orbital equals zero\n",
      "Molecular Orbital equals zero\n",
      "Molecular Orbital equals zero\n",
      "Molecular Orbital equals zero\n",
      " Constructing integration weights ... \n",
      "\n",
      " Building finite difference opperators ... \n",
      "\n",
      " Factorizing Laplacian ... \n",
      "\n",
      " Done\n",
      "Molecular Orbital equals zero\n",
      "Molecular Orbital equals zero\n",
      "Molecular Orbital equals zero\n",
      "Molecular Orbital equals zero\n",
      "Molecular Orbital equals zero\n",
      "Molecular Orbital equals zero\n",
      "Molecular Orbital equals zero\n",
      "Molecular Orbital equals zero\n",
      " Constructing integration weights ... \n",
      "\n",
      " Building finite difference opperators ... \n",
      "\n",
      " Factorizing Laplacian ... \n",
      "\n",
      " Done\n",
      "Molecular Orbital equals zero\n",
      "Molecular Orbital equals zero\n",
      "Molecular Orbital equals zero\n",
      "Molecular Orbital equals zero\n",
      "Molecular Orbital equals zero\n",
      "Molecular Orbital equals zero\n",
      "Molecular Orbital equals zero\n",
      "Molecular Orbital equals zero\n",
      " Constructing integration weights ... \n",
      "\n",
      " Building finite difference opperators ... \n",
      "\n",
      " Factorizing Laplacian ... \n",
      "\n",
      " Done\n",
      "Molecular Orbital equals zero\n",
      "Molecular Orbital equals zero\n",
      "Molecular Orbital equals zero\n",
      "Molecular Orbital equals zero\n",
      "Molecular Orbital equals zero\n",
      "Molecular Orbital equals zero\n",
      "Molecular Orbital equals zero\n",
      "Molecular Orbital equals zero\n",
      " Constructing integration weights ... \n",
      "\n",
      " Building finite difference opperators ... \n",
      "\n",
      " Factorizing Laplacian ... \n",
      "\n",
      " Done\n",
      "Molecular Orbital equals zero\n",
      "Molecular Orbital equals zero\n",
      "Molecular Orbital equals zero\n",
      "Molecular Orbital equals zero\n",
      "Molecular Orbital equals zero\n",
      "Molecular Orbital equals zero\n",
      "Molecular Orbital equals zero\n",
      "Molecular Orbital equals zero\n",
      " Constructing integration weights ... \n",
      "\n",
      " Building finite difference opperators ... \n",
      "\n",
      " Factorizing Laplacian ... \n",
      "\n",
      " Done\n",
      "Molecular Orbital equals zero\n",
      "Molecular Orbital equals zero\n",
      "Molecular Orbital equals zero\n",
      "Molecular Orbital equals zero\n",
      "Molecular Orbital equals zero\n",
      "Molecular Orbital equals zero\n",
      "Molecular Orbital equals zero\n",
      "Molecular Orbital equals zero\n",
      " Constructing integration weights ... \n",
      "\n",
      " Building finite difference opperators ... \n",
      "\n",
      " Factorizing Laplacian ... \n",
      "\n",
      " Done\n",
      "Molecular Orbital equals zero\n",
      "Molecular Orbital equals zero\n",
      "Molecular Orbital equals zero\n",
      "Molecular Orbital equals zero\n",
      "Molecular Orbital equals zero\n",
      "Molecular Orbital equals zero\n",
      "Molecular Orbital equals zero\n",
      "Molecular Orbital equals zero\n",
      " Constructing integration weights ... \n",
      "\n",
      " Building finite difference opperators ... \n",
      "\n",
      " Factorizing Laplacian ... \n",
      "\n",
      " Done\n",
      "Molecular Orbital equals zero\n",
      "Molecular Orbital equals zero\n",
      "Molecular Orbital equals zero\n",
      "Molecular Orbital equals zero\n",
      "Molecular Orbital equals zero\n",
      "Molecular Orbital equals zero\n",
      "Molecular Orbital equals zero\n",
      "Molecular Orbital equals zero\n",
      " Constructing integration weights ... \n",
      "\n",
      " Building finite difference opperators ... \n",
      "\n",
      " Factorizing Laplacian ... \n",
      "\n",
      " Done\n",
      "Molecular Orbital equals zero\n",
      "Molecular Orbital equals zero\n",
      "Molecular Orbital equals zero\n",
      "Molecular Orbital equals zero\n",
      "Molecular Orbital equals zero\n",
      "Molecular Orbital equals zero\n",
      "Molecular Orbital equals zero\n",
      "Molecular Orbital equals zero\n",
      " Constructing integration weights ... \n",
      "\n",
      " Building finite difference opperators ... \n",
      "\n",
      " Factorizing Laplacian ... \n",
      "\n",
      " Done\n",
      "Molecular Orbital equals zero\n",
      "Molecular Orbital equals zero\n",
      "Molecular Orbital equals zero\n",
      "Molecular Orbital equals zero\n",
      "Molecular Orbital equals zero\n",
      "Molecular Orbital equals zero\n",
      "Molecular Orbital equals zero\n",
      "Molecular Orbital equals zero\n",
      " Constructing integration weights ... \n",
      "\n",
      " Building finite difference opperators ... \n",
      "\n",
      " Factorizing Laplacian ... \n",
      "\n",
      " Done\n",
      "Molecular Orbital equals zero\n",
      "Molecular Orbital equals zero\n",
      "Molecular Orbital equals zero\n",
      "Molecular Orbital equals zero\n",
      "Molecular Orbital equals zero\n",
      "Molecular Orbital equals zero\n",
      "Molecular Orbital equals zero\n",
      "Molecular Orbital equals zero\n",
      " Constructing integration weights ... \n",
      "\n",
      " Building finite difference opperators ... \n",
      "\n",
      " Factorizing Laplacian ... \n",
      "\n",
      " Done\n",
      "Molecular Orbital equals zero\n",
      "Molecular Orbital equals zero\n",
      "Molecular Orbital equals zero\n",
      "Molecular Orbital equals zero\n",
      "Molecular Orbital equals zero\n",
      "Molecular Orbital equals zero\n",
      "Molecular Orbital equals zero\n",
      "Molecular Orbital equals zero\n",
      " Constructing integration weights ... \n",
      "\n",
      " Building finite difference opperators ... \n",
      "\n",
      " Factorizing Laplacian ... \n",
      "\n",
      " Done\n",
      "Molecular Orbital equals zero\n",
      "Molecular Orbital equals zero\n",
      "Molecular Orbital equals zero\n",
      "Molecular Orbital equals zero\n",
      "Molecular Orbital equals zero\n",
      "Molecular Orbital equals zero\n",
      "Molecular Orbital equals zero\n",
      "Molecular Orbital equals zero\n",
      " Constructing integration weights ... \n",
      "\n",
      " Building finite difference opperators ... \n",
      "\n",
      " Factorizing Laplacian ... \n",
      "\n",
      " Done\n",
      "Molecular Orbital equals zero\n",
      "Molecular Orbital equals zero\n",
      "Molecular Orbital equals zero\n"
     ]
    },
    {
     "name": "stdout",
     "output_type": "stream",
     "text": [
      "Molecular Orbital equals zero\n",
      "Molecular Orbital equals zero\n",
      "Molecular Orbital equals zero\n",
      "Molecular Orbital equals zero\n",
      "Molecular Orbital equals zero\n",
      " Constructing integration weights ... \n",
      "\n",
      " Building finite difference opperators ... \n",
      "\n",
      " Factorizing Laplacian ... \n",
      "\n",
      " Done\n",
      "Molecular Orbital equals zero\n",
      "Molecular Orbital equals zero\n",
      "Molecular Orbital equals zero\n",
      "Molecular Orbital equals zero\n",
      "Molecular Orbital equals zero\n",
      "Molecular Orbital equals zero\n",
      "Molecular Orbital equals zero\n",
      "Molecular Orbital equals zero\n",
      " Constructing integration weights ... \n",
      "\n",
      " Building finite difference opperators ... \n",
      "\n",
      " Factorizing Laplacian ... \n",
      "\n",
      " Done\n",
      "Molecular Orbital equals zero\n",
      "Molecular Orbital equals zero\n",
      "Molecular Orbital equals zero\n",
      "Molecular Orbital equals zero\n",
      "Molecular Orbital equals zero\n",
      "Molecular Orbital equals zero\n",
      "Molecular Orbital equals zero\n",
      "Molecular Orbital equals zero\n",
      " Constructing integration weights ... \n",
      "\n",
      " Building finite difference opperators ... \n",
      "\n",
      " Factorizing Laplacian ... \n",
      "\n",
      " Done\n",
      "Molecular Orbital equals zero\n",
      "Molecular Orbital equals zero\n",
      "Molecular Orbital equals zero\n",
      "Molecular Orbital equals zero\n",
      "Molecular Orbital equals zero\n",
      "Molecular Orbital equals zero\n",
      "Molecular Orbital equals zero\n",
      "Molecular Orbital equals zero\n",
      " Constructing integration weights ... \n",
      "\n",
      " Building finite difference opperators ... \n",
      "\n",
      " Factorizing Laplacian ... \n",
      "\n",
      " Done\n",
      "Molecular Orbital equals zero\n",
      "Molecular Orbital equals zero\n",
      "Molecular Orbital equals zero\n",
      "Molecular Orbital equals zero\n",
      "Molecular Orbital equals zero\n",
      "Molecular Orbital equals zero\n",
      "Molecular Orbital equals zero\n",
      "Molecular Orbital equals zero\n",
      " Constructing integration weights ... \n",
      "\n",
      " Building finite difference opperators ... \n",
      "\n",
      " Factorizing Laplacian ... \n",
      "\n",
      " Done\n",
      "Molecular Orbital equals zero\n",
      "Molecular Orbital equals zero\n",
      "Molecular Orbital equals zero\n",
      "Molecular Orbital equals zero\n",
      "Molecular Orbital equals zero\n",
      "Molecular Orbital equals zero\n",
      "Molecular Orbital equals zero\n",
      "Molecular Orbital equals zero\n",
      " Constructing integration weights ... \n",
      "\n",
      " Building finite difference opperators ... \n",
      "\n",
      " Factorizing Laplacian ... \n",
      "\n",
      " Done\n",
      "Molecular Orbital equals zero\n",
      "Molecular Orbital equals zero\n",
      "Molecular Orbital equals zero\n",
      "Molecular Orbital equals zero\n",
      "Molecular Orbital equals zero\n",
      "Molecular Orbital equals zero\n",
      "Molecular Orbital equals zero\n",
      "Molecular Orbital equals zero\n",
      " Constructing integration weights ... \n",
      "\n",
      " Building finite difference opperators ... \n",
      "\n",
      " Factorizing Laplacian ... \n",
      "\n",
      " Done\n",
      "Molecular Orbital equals zero\n",
      "Molecular Orbital equals zero\n",
      "Molecular Orbital equals zero\n",
      "Molecular Orbital equals zero\n",
      "Molecular Orbital equals zero\n",
      "Molecular Orbital equals zero\n",
      "Molecular Orbital equals zero\n",
      "Molecular Orbital equals zero\n",
      " Constructing integration weights ... \n",
      "\n",
      " Building finite difference opperators ... \n",
      "\n",
      " Factorizing Laplacian ... \n",
      "\n",
      " Done\n",
      "Molecular Orbital equals zero\n",
      "Molecular Orbital equals zero\n",
      "Molecular Orbital equals zero\n",
      "Molecular Orbital equals zero\n",
      "Molecular Orbital equals zero\n",
      "Molecular Orbital equals zero\n",
      "Molecular Orbital equals zero\n",
      "Molecular Orbital equals zero\n",
      " Constructing integration weights ... \n",
      "\n",
      " Building finite difference opperators ... \n",
      "\n",
      " Factorizing Laplacian ... \n",
      "\n",
      " Done\n",
      "Molecular Orbital equals zero\n",
      "Molecular Orbital equals zero\n",
      "Molecular Orbital equals zero\n",
      "Molecular Orbital equals zero\n",
      "Molecular Orbital equals zero\n",
      "Molecular Orbital equals zero\n",
      "Molecular Orbital equals zero\n",
      "Molecular Orbital equals zero\n",
      " Constructing integration weights ... \n",
      "\n",
      " Building finite difference opperators ... \n",
      "\n",
      " Factorizing Laplacian ... \n",
      "\n",
      " Done\n",
      "Molecular Orbital equals zero\n",
      "Molecular Orbital equals zero\n",
      "Molecular Orbital equals zero\n",
      "Molecular Orbital equals zero\n",
      "Molecular Orbital equals zero\n",
      "Molecular Orbital equals zero\n",
      "Molecular Orbital equals zero\n",
      "Molecular Orbital equals zero\n",
      " Constructing integration weights ... \n",
      "\n",
      " Building finite difference opperators ... \n",
      "\n",
      " Factorizing Laplacian ... \n",
      "\n",
      " Done\n",
      "Molecular Orbital equals zero\n",
      "Molecular Orbital equals zero\n",
      "Molecular Orbital equals zero\n",
      "Molecular Orbital equals zero\n",
      "Molecular Orbital equals zero\n",
      "Molecular Orbital equals zero\n",
      "Molecular Orbital equals zero\n",
      "Molecular Orbital equals zero\n",
      " Constructing integration weights ... \n",
      "\n",
      " Building finite difference opperators ... \n",
      "\n",
      " Factorizing Laplacian ... \n",
      "\n",
      " Done\n",
      "Molecular Orbital equals zero\n",
      "Molecular Orbital equals zero\n",
      "Molecular Orbital equals zero\n",
      "Molecular Orbital equals zero\n",
      "Molecular Orbital equals zero\n",
      "Molecular Orbital equals zero\n",
      "Molecular Orbital equals zero\n",
      "Molecular Orbital equals zero\n",
      " Constructing integration weights ... \n",
      "\n",
      " Building finite difference opperators ... \n",
      "\n",
      " Factorizing Laplacian ... \n",
      "\n",
      " Done\n",
      "Molecular Orbital equals zero\n",
      "Molecular Orbital equals zero\n",
      "Molecular Orbital equals zero\n",
      "Molecular Orbital equals zero\n",
      "Molecular Orbital equals zero\n",
      "Molecular Orbital equals zero\n",
      "Molecular Orbital equals zero\n",
      "Molecular Orbital equals zero\n",
      " Constructing integration weights ... \n",
      "\n",
      " Building finite difference opperators ... \n",
      "\n",
      " Factorizing Laplacian ... \n",
      "\n",
      " Done\n",
      "Molecular Orbital equals zero\n",
      "Molecular Orbital equals zero\n",
      "Molecular Orbital equals zero\n",
      "Molecular Orbital equals zero\n",
      "Molecular Orbital equals zero\n",
      "Molecular Orbital equals zero\n",
      "Molecular Orbital equals zero\n",
      "Molecular Orbital equals zero\n",
      " Constructing integration weights ... \n",
      "\n",
      " Building finite difference opperators ... \n",
      "\n",
      " Factorizing Laplacian ... \n",
      "\n",
      " Done\n",
      "Molecular Orbital equals zero\n",
      "Molecular Orbital equals zero\n",
      "Molecular Orbital equals zero\n",
      "Molecular Orbital equals zero\n",
      "Molecular Orbital equals zero\n",
      "Molecular Orbital equals zero\n",
      "Molecular Orbital equals zero\n",
      "Molecular Orbital equals zero\n",
      " Constructing integration weights ... \n",
      "\n",
      " Building finite difference opperators ... \n",
      "\n",
      " Factorizing Laplacian ... \n",
      "\n",
      " Done\n",
      "Molecular Orbital equals zero\n",
      "Molecular Orbital equals zero\n",
      "Molecular Orbital equals zero\n",
      "Molecular Orbital equals zero\n",
      "Molecular Orbital equals zero\n",
      "Molecular Orbital equals zero\n",
      "Molecular Orbital equals zero\n",
      "Molecular Orbital equals zero\n",
      " Constructing integration weights ... \n",
      "\n",
      " Building finite difference opperators ... \n",
      "\n",
      " Factorizing Laplacian ... \n",
      "\n",
      " Done\n",
      "Molecular Orbital equals zero\n",
      "Molecular Orbital equals zero\n",
      "Molecular Orbital equals zero\n",
      "Molecular Orbital equals zero\n",
      "Molecular Orbital equals zero\n",
      "Molecular Orbital equals zero\n",
      "Molecular Orbital equals zero\n",
      "Molecular Orbital equals zero\n",
      " Constructing integration weights ... \n",
      "\n",
      " Building finite difference opperators ... \n",
      "\n",
      " Factorizing Laplacian ... \n",
      "\n",
      " Done\n",
      "Molecular Orbital equals zero\n",
      "Molecular Orbital equals zero\n",
      "Molecular Orbital equals zero\n",
      "Molecular Orbital equals zero\n",
      "Molecular Orbital equals zero\n",
      "Molecular Orbital equals zero\n",
      "Molecular Orbital equals zero\n",
      "Molecular Orbital equals zero\n",
      " Constructing integration weights ... \n",
      "\n",
      " Building finite difference opperators ... \n",
      "\n",
      " Factorizing Laplacian ... \n",
      "\n",
      " Done\n",
      "Molecular Orbital equals zero\n",
      "Molecular Orbital equals zero\n",
      "Molecular Orbital equals zero\n",
      "Molecular Orbital equals zero\n",
      "Molecular Orbital equals zero\n",
      "Molecular Orbital equals zero\n",
      "Molecular Orbital equals zero\n",
      "Molecular Orbital equals zero\n",
      " Constructing integration weights ... \n",
      "\n",
      " Building finite difference opperators ... \n",
      "\n",
      " Factorizing Laplacian ... \n",
      "\n",
      " Done\n",
      "Molecular Orbital equals zero\n",
      "Molecular Orbital equals zero\n",
      "Molecular Orbital equals zero\n",
      "Molecular Orbital equals zero\n",
      "Molecular Orbital equals zero\n",
      "Molecular Orbital equals zero\n",
      "Molecular Orbital equals zero\n",
      "Molecular Orbital equals zero\n",
      " Constructing integration weights ... \n",
      "\n",
      " Building finite difference opperators ... \n",
      "\n",
      " Factorizing Laplacian ... \n",
      "\n",
      " Done\n",
      "Molecular Orbital equals zero\n",
      "Molecular Orbital equals zero\n",
      "Molecular Orbital equals zero\n",
      "Molecular Orbital equals zero\n",
      "Molecular Orbital equals zero\n",
      "Molecular Orbital equals zero\n",
      "Molecular Orbital equals zero\n",
      "Molecular Orbital equals zero\n",
      " Constructing integration weights ... \n",
      "\n",
      " Building finite difference opperators ... \n",
      "\n",
      " Factorizing Laplacian ... \n",
      "\n",
      " Done\n",
      "Molecular Orbital equals zero\n",
      "Molecular Orbital equals zero\n",
      "Molecular Orbital equals zero\n",
      "Molecular Orbital equals zero\n",
      "Molecular Orbital equals zero\n",
      "Molecular Orbital equals zero\n",
      "Molecular Orbital equals zero\n",
      "Molecular Orbital equals zero\n",
      " Constructing integration weights ... \n",
      "\n",
      " Building finite difference opperators ... \n",
      "\n",
      " Factorizing Laplacian ... \n",
      "\n",
      " Done\n",
      "Molecular Orbital equals zero\n"
     ]
    },
    {
     "name": "stdout",
     "output_type": "stream",
     "text": [
      "Molecular Orbital equals zero\n",
      "Molecular Orbital equals zero\n",
      "Molecular Orbital equals zero\n",
      "Molecular Orbital equals zero\n",
      "Molecular Orbital equals zero\n",
      "Molecular Orbital equals zero\n",
      "Molecular Orbital equals zero\n",
      " Constructing integration weights ... \n",
      "\n",
      " Building finite difference opperators ... \n",
      "\n",
      " Factorizing Laplacian ... \n",
      "\n",
      " Done\n",
      "Molecular Orbital equals zero\n",
      "Molecular Orbital equals zero\n",
      "Molecular Orbital equals zero\n",
      "Molecular Orbital equals zero\n",
      "Molecular Orbital equals zero\n",
      "Molecular Orbital equals zero\n",
      "Molecular Orbital equals zero\n",
      "Molecular Orbital equals zero\n",
      " Constructing integration weights ... \n",
      "\n",
      " Building finite difference opperators ... \n",
      "\n",
      " Factorizing Laplacian ... \n",
      "\n",
      " Done\n",
      "Molecular Orbital equals zero\n",
      "Molecular Orbital equals zero\n",
      "Molecular Orbital equals zero\n",
      "Molecular Orbital equals zero\n",
      "Molecular Orbital equals zero\n",
      "Molecular Orbital equals zero\n",
      "Molecular Orbital equals zero\n",
      "Molecular Orbital equals zero\n",
      " Constructing integration weights ... \n",
      "\n",
      " Building finite difference opperators ... \n",
      "\n",
      " Factorizing Laplacian ... \n",
      "\n",
      " Done\n",
      "Molecular Orbital equals zero\n",
      "Molecular Orbital equals zero\n",
      "Molecular Orbital equals zero\n",
      "Molecular Orbital equals zero\n",
      "Molecular Orbital equals zero\n",
      "Molecular Orbital equals zero\n",
      "Molecular Orbital equals zero\n",
      "Molecular Orbital equals zero\n",
      " Constructing integration weights ... \n",
      "\n",
      " Building finite difference opperators ... \n",
      "\n",
      " Factorizing Laplacian ... \n",
      "\n",
      " Done\n",
      "Molecular Orbital equals zero\n",
      "Molecular Orbital equals zero\n",
      "Molecular Orbital equals zero\n",
      "Molecular Orbital equals zero\n",
      "Molecular Orbital equals zero\n",
      "Molecular Orbital equals zero\n",
      "Molecular Orbital equals zero\n",
      "Molecular Orbital equals zero\n",
      " Constructing integration weights ... \n",
      "\n",
      " Building finite difference opperators ... \n",
      "\n",
      " Factorizing Laplacian ... \n",
      "\n",
      " Done\n",
      "Molecular Orbital equals zero\n",
      "Molecular Orbital equals zero\n",
      "Molecular Orbital equals zero\n",
      "Molecular Orbital equals zero\n",
      "Molecular Orbital equals zero\n",
      "Molecular Orbital equals zero\n",
      "Molecular Orbital equals zero\n",
      "Molecular Orbital equals zero\n",
      " Constructing integration weights ... \n",
      "\n",
      " Building finite difference opperators ... \n",
      "\n",
      " Factorizing Laplacian ... \n",
      "\n",
      " Done\n",
      "Molecular Orbital equals zero\n",
      "Molecular Orbital equals zero\n",
      "Molecular Orbital equals zero\n",
      "Molecular Orbital equals zero\n",
      "Molecular Orbital equals zero\n",
      "Molecular Orbital equals zero\n",
      "Molecular Orbital equals zero\n",
      "Molecular Orbital equals zero\n",
      " Constructing integration weights ... \n",
      "\n",
      " Building finite difference opperators ... \n",
      "\n",
      " Factorizing Laplacian ... \n",
      "\n",
      " Done\n",
      "Molecular Orbital equals zero\n",
      "Molecular Orbital equals zero\n",
      "Molecular Orbital equals zero\n",
      "Molecular Orbital equals zero\n",
      "Molecular Orbital equals zero\n",
      "Molecular Orbital equals zero\n",
      "Molecular Orbital equals zero\n",
      "Molecular Orbital equals zero\n",
      " Constructing integration weights ... \n",
      "\n",
      " Building finite difference opperators ... \n",
      "\n",
      " Factorizing Laplacian ... \n",
      "\n",
      " Done\n",
      "Molecular Orbital equals zero\n",
      "Molecular Orbital equals zero\n",
      "Molecular Orbital equals zero\n",
      "Molecular Orbital equals zero\n",
      "Molecular Orbital equals zero\n",
      "Molecular Orbital equals zero\n",
      "Molecular Orbital equals zero\n",
      "Molecular Orbital equals zero\n",
      " Constructing integration weights ... \n",
      "\n",
      " Building finite difference opperators ... \n",
      "\n",
      " Factorizing Laplacian ... \n",
      "\n",
      " Done\n",
      "Molecular Orbital equals zero\n",
      "Molecular Orbital equals zero\n",
      "Molecular Orbital equals zero\n",
      "Molecular Orbital equals zero\n",
      "Molecular Orbital equals zero\n",
      "Molecular Orbital equals zero\n",
      "Molecular Orbital equals zero\n",
      "Molecular Orbital equals zero\n",
      " Constructing integration weights ... \n",
      "\n",
      " Building finite difference opperators ... \n",
      "\n",
      " Factorizing Laplacian ... \n",
      "\n",
      " Done\n",
      "Molecular Orbital equals zero\n",
      "Molecular Orbital equals zero\n",
      "Molecular Orbital equals zero\n",
      "Molecular Orbital equals zero\n",
      "Molecular Orbital equals zero\n",
      "Molecular Orbital equals zero\n",
      "Molecular Orbital equals zero\n",
      "Molecular Orbital equals zero\n",
      " Constructing integration weights ... \n",
      "\n",
      " Building finite difference opperators ... \n",
      "\n",
      " Factorizing Laplacian ... \n",
      "\n",
      " Done\n",
      "Molecular Orbital equals zero\n",
      "Molecular Orbital equals zero\n",
      "Molecular Orbital equals zero\n",
      "Molecular Orbital equals zero\n",
      "Molecular Orbital equals zero\n",
      "Molecular Orbital equals zero\n",
      "Molecular Orbital equals zero\n",
      "Molecular Orbital equals zero\n",
      " Constructing integration weights ... \n",
      "\n",
      " Building finite difference opperators ... \n",
      "\n",
      " Factorizing Laplacian ... \n",
      "\n",
      " Done\n",
      "Molecular Orbital equals zero\n",
      "Molecular Orbital equals zero\n",
      "Molecular Orbital equals zero\n",
      "Molecular Orbital equals zero\n",
      "Molecular Orbital equals zero\n",
      "Molecular Orbital equals zero\n",
      "Molecular Orbital equals zero\n",
      "Molecular Orbital equals zero\n"
     ]
    }
   ],
   "source": [
    "#Nuclear charges on centers AB\n",
    "Za  = 5\n",
    "Zb = 0\n",
    "\n",
    "#Set polaization. 1 Unpolarized, 2 Polarized\n",
    "pol = 2\n",
    "\n",
    "#Assign electronic structure\n",
    "Nmo = [[3,3], [1,0]]\n",
    "N   = [[2,2], [1,0]]\n",
    "\n",
    "optKS = {\"FRACTIONAL\" : True,\n",
    "         \"Verbose\" : False}\n",
    "\n",
    "for i in points_per_block:\n",
    "    for j in ang_rad_blocks:\n",
    "        \n",
    "        #Grid Options\n",
    "        a =  1.0\n",
    "        NP = i #Number of points per block\n",
    "        NM =  [j,j] #Number of blocks [angular, radial]\n",
    "        L = np.arccosh(15./a) #Maximum radial coordinate value\n",
    "        loc = np.array(range(-4,5)) #Non inclusive on upper bound\n",
    "\n",
    "        #Create and initialize grid object\n",
    "        grid = Psgrid(NP, NM, a, L, loc)\n",
    "        grid.initialize()\n",
    "\n",
    "        #Kohn Sham object\n",
    "        KS = Kohnsham(grid, Za, Zb, pol, Nmo, N, optKS)\n",
    "        KS.scf(optKS)\n",
    "\n",
    "        energy.append(KS.E.E)\n",
    "        points.append(i)\n",
    "        blocks.append(j)"
   ]
  },
  {
   "cell_type": "code",
   "execution_count": 19,
   "metadata": {},
   "outputs": [
    {
     "data": {
      "application/vnd.plotly.v1+json": {
       "config": {
        "plotlyServerURL": "https://plot.ly"
       },
       "data": [
        {
         "marker": {
          "color": [
           -25.853535841522024,
           -25.255540067422285,
           -24.797340477491456,
           -24.50107903474723,
           -24.389853095796486,
           -24.362010554713645,
           -24.356525070020087,
           -24.355171218550748,
           -24.354440244084508,
           -24.608123749734933,
           -24.66114804505612,
           -24.480750720282536,
           -24.37727984149408,
           -24.35062965456293,
           -24.349324059433336,
           -24.35131306466079,
           -24.352455056283535,
           -24.35289781630624,
           -24.46666733134924,
           -24.29235541522138,
           -24.33076150707565,
           -24.350449565280936,
           -24.35446918677124,
           -24.354239606270806,
           -24.353726946230992,
           -24.353486846129705,
           -24.353403108811644,
           -24.374279041661303,
           -24.317541215109117,
           -24.342096957748986,
           -24.352518228321596,
           -24.354249030074705,
           -24.353907746090865,
           -24.353561488826454,
           -24.35341583173917,
           -24.353368220871335,
           -24.33308238712557,
           -24.361656223310032,
           -24.355282096937334,
           -24.353558032355547,
           -24.353284860937197,
           -24.353294673975185,
           -24.353319846803345,
           -24.353325100499045,
           -24.3533274925315,
           -24.345293870770355,
           -24.3580874358592,
           -24.354345430978096,
           -24.35342084287043,
           -24.35329082575912,
           -24.353306816231704,
           -24.353319847302583,
           -24.353326307332253,
           -24.35332780464666,
           -24.361667462631235,
           -24.35249944751592,
           -24.353215954693386,
           -24.353326347387302,
           -24.35333584137408,
           -24.35332999638306,
           -24.353328778000865,
           -24.353328340141093,
           -24.35332823764925,
           -24.357488413540086,
           -24.352808186864596,
           -24.3532676072154,
           -24.35332998206957,
           -24.353330227356643,
           -24.353329328615736,
           -24.35332855077343,
           -24.353328282125396,
           -24.353328221676275,
           -24.3514041306609,
           -24.35343820549649,
           -24.35334378748248,
           -24.35332883058303,
           -24.35332825693434,
           -24.353328213555532,
           -24.353328216360307,
           -24.353328210374666,
           -24.353328193628993
          ],
          "colorscale": [
           [
            0,
            "#440154"
           ],
           [
            0.1111111111111111,
            "#482878"
           ],
           [
            0.2222222222222222,
            "#3e4989"
           ],
           [
            0.3333333333333333,
            "#31688e"
           ],
           [
            0.4444444444444444,
            "#26828e"
           ],
           [
            0.5555555555555556,
            "#1f9e89"
           ],
           [
            0.6666666666666666,
            "#35b779"
           ],
           [
            0.7777777777777778,
            "#6ece58"
           ],
           [
            0.8888888888888888,
            "#b5de2b"
           ],
           [
            1,
            "#fde725"
           ]
          ],
          "opacity": 0.8,
          "size": 5
         },
         "mode": "markers",
         "type": "scatter3d",
         "x": [
          3,
          3,
          3,
          3,
          3,
          3,
          3,
          3,
          3,
          4,
          4,
          4,
          4,
          4,
          4,
          4,
          4,
          4,
          5,
          5,
          5,
          5,
          5,
          5,
          5,
          5,
          5,
          6,
          6,
          6,
          6,
          6,
          6,
          6,
          6,
          6,
          7,
          7,
          7,
          7,
          7,
          7,
          7,
          7,
          7,
          8,
          8,
          8,
          8,
          8,
          8,
          8,
          8,
          8,
          9,
          9,
          9,
          9,
          9,
          9,
          9,
          9,
          9,
          10,
          10,
          10,
          10,
          10,
          10,
          10,
          10,
          10,
          11,
          11,
          11,
          11,
          11,
          11,
          11,
          11,
          11
         ],
         "y": [
          3,
          4,
          5,
          6,
          7,
          8,
          9,
          10,
          11,
          3,
          4,
          5,
          6,
          7,
          8,
          9,
          10,
          11,
          3,
          4,
          5,
          6,
          7,
          8,
          9,
          10,
          11,
          3,
          4,
          5,
          6,
          7,
          8,
          9,
          10,
          11,
          3,
          4,
          5,
          6,
          7,
          8,
          9,
          10,
          11,
          3,
          4,
          5,
          6,
          7,
          8,
          9,
          10,
          11,
          3,
          4,
          5,
          6,
          7,
          8,
          9,
          10,
          11,
          3,
          4,
          5,
          6,
          7,
          8,
          9,
          10,
          11,
          3,
          4,
          5,
          6,
          7,
          8,
          9,
          10,
          11
         ],
         "z": [
          -25.853535841522024,
          -25.255540067422285,
          -24.797340477491456,
          -24.50107903474723,
          -24.389853095796486,
          -24.362010554713645,
          -24.356525070020087,
          -24.355171218550748,
          -24.354440244084508,
          -24.608123749734933,
          -24.66114804505612,
          -24.480750720282536,
          -24.37727984149408,
          -24.35062965456293,
          -24.349324059433336,
          -24.35131306466079,
          -24.352455056283535,
          -24.35289781630624,
          -24.46666733134924,
          -24.29235541522138,
          -24.33076150707565,
          -24.350449565280936,
          -24.35446918677124,
          -24.354239606270806,
          -24.353726946230992,
          -24.353486846129705,
          -24.353403108811644,
          -24.374279041661303,
          -24.317541215109117,
          -24.342096957748986,
          -24.352518228321596,
          -24.354249030074705,
          -24.353907746090865,
          -24.353561488826454,
          -24.35341583173917,
          -24.353368220871335,
          -24.33308238712557,
          -24.361656223310032,
          -24.355282096937334,
          -24.353558032355547,
          -24.353284860937197,
          -24.353294673975185,
          -24.353319846803345,
          -24.353325100499045,
          -24.3533274925315,
          -24.345293870770355,
          -24.3580874358592,
          -24.354345430978096,
          -24.35342084287043,
          -24.35329082575912,
          -24.353306816231704,
          -24.353319847302583,
          -24.353326307332253,
          -24.35332780464666,
          -24.361667462631235,
          -24.35249944751592,
          -24.353215954693386,
          -24.353326347387302,
          -24.35333584137408,
          -24.35332999638306,
          -24.353328778000865,
          -24.353328340141093,
          -24.35332823764925,
          -24.357488413540086,
          -24.352808186864596,
          -24.3532676072154,
          -24.35332998206957,
          -24.353330227356643,
          -24.353329328615736,
          -24.35332855077343,
          -24.353328282125396,
          -24.353328221676275,
          -24.3514041306609,
          -24.35343820549649,
          -24.35334378748248,
          -24.35332883058303,
          -24.35332825693434,
          -24.353328213555532,
          -24.353328216360307,
          -24.353328210374666,
          -24.353328193628993
         ]
        }
       ],
       "layout": {
        "template": {
         "data": {
          "bar": [
           {
            "error_x": {
             "color": "#2a3f5f"
            },
            "error_y": {
             "color": "#2a3f5f"
            },
            "marker": {
             "line": {
              "color": "#E5ECF6",
              "width": 0.5
             }
            },
            "type": "bar"
           }
          ],
          "barpolar": [
           {
            "marker": {
             "line": {
              "color": "#E5ECF6",
              "width": 0.5
             }
            },
            "type": "barpolar"
           }
          ],
          "carpet": [
           {
            "aaxis": {
             "endlinecolor": "#2a3f5f",
             "gridcolor": "white",
             "linecolor": "white",
             "minorgridcolor": "white",
             "startlinecolor": "#2a3f5f"
            },
            "baxis": {
             "endlinecolor": "#2a3f5f",
             "gridcolor": "white",
             "linecolor": "white",
             "minorgridcolor": "white",
             "startlinecolor": "#2a3f5f"
            },
            "type": "carpet"
           }
          ],
          "choropleth": [
           {
            "colorbar": {
             "outlinewidth": 0,
             "ticks": ""
            },
            "type": "choropleth"
           }
          ],
          "contour": [
           {
            "colorbar": {
             "outlinewidth": 0,
             "ticks": ""
            },
            "colorscale": [
             [
              0,
              "#0d0887"
             ],
             [
              0.1111111111111111,
              "#46039f"
             ],
             [
              0.2222222222222222,
              "#7201a8"
             ],
             [
              0.3333333333333333,
              "#9c179e"
             ],
             [
              0.4444444444444444,
              "#bd3786"
             ],
             [
              0.5555555555555556,
              "#d8576b"
             ],
             [
              0.6666666666666666,
              "#ed7953"
             ],
             [
              0.7777777777777778,
              "#fb9f3a"
             ],
             [
              0.8888888888888888,
              "#fdca26"
             ],
             [
              1,
              "#f0f921"
             ]
            ],
            "type": "contour"
           }
          ],
          "contourcarpet": [
           {
            "colorbar": {
             "outlinewidth": 0,
             "ticks": ""
            },
            "type": "contourcarpet"
           }
          ],
          "heatmap": [
           {
            "colorbar": {
             "outlinewidth": 0,
             "ticks": ""
            },
            "colorscale": [
             [
              0,
              "#0d0887"
             ],
             [
              0.1111111111111111,
              "#46039f"
             ],
             [
              0.2222222222222222,
              "#7201a8"
             ],
             [
              0.3333333333333333,
              "#9c179e"
             ],
             [
              0.4444444444444444,
              "#bd3786"
             ],
             [
              0.5555555555555556,
              "#d8576b"
             ],
             [
              0.6666666666666666,
              "#ed7953"
             ],
             [
              0.7777777777777778,
              "#fb9f3a"
             ],
             [
              0.8888888888888888,
              "#fdca26"
             ],
             [
              1,
              "#f0f921"
             ]
            ],
            "type": "heatmap"
           }
          ],
          "heatmapgl": [
           {
            "colorbar": {
             "outlinewidth": 0,
             "ticks": ""
            },
            "colorscale": [
             [
              0,
              "#0d0887"
             ],
             [
              0.1111111111111111,
              "#46039f"
             ],
             [
              0.2222222222222222,
              "#7201a8"
             ],
             [
              0.3333333333333333,
              "#9c179e"
             ],
             [
              0.4444444444444444,
              "#bd3786"
             ],
             [
              0.5555555555555556,
              "#d8576b"
             ],
             [
              0.6666666666666666,
              "#ed7953"
             ],
             [
              0.7777777777777778,
              "#fb9f3a"
             ],
             [
              0.8888888888888888,
              "#fdca26"
             ],
             [
              1,
              "#f0f921"
             ]
            ],
            "type": "heatmapgl"
           }
          ],
          "histogram": [
           {
            "marker": {
             "colorbar": {
              "outlinewidth": 0,
              "ticks": ""
             }
            },
            "type": "histogram"
           }
          ],
          "histogram2d": [
           {
            "colorbar": {
             "outlinewidth": 0,
             "ticks": ""
            },
            "colorscale": [
             [
              0,
              "#0d0887"
             ],
             [
              0.1111111111111111,
              "#46039f"
             ],
             [
              0.2222222222222222,
              "#7201a8"
             ],
             [
              0.3333333333333333,
              "#9c179e"
             ],
             [
              0.4444444444444444,
              "#bd3786"
             ],
             [
              0.5555555555555556,
              "#d8576b"
             ],
             [
              0.6666666666666666,
              "#ed7953"
             ],
             [
              0.7777777777777778,
              "#fb9f3a"
             ],
             [
              0.8888888888888888,
              "#fdca26"
             ],
             [
              1,
              "#f0f921"
             ]
            ],
            "type": "histogram2d"
           }
          ],
          "histogram2dcontour": [
           {
            "colorbar": {
             "outlinewidth": 0,
             "ticks": ""
            },
            "colorscale": [
             [
              0,
              "#0d0887"
             ],
             [
              0.1111111111111111,
              "#46039f"
             ],
             [
              0.2222222222222222,
              "#7201a8"
             ],
             [
              0.3333333333333333,
              "#9c179e"
             ],
             [
              0.4444444444444444,
              "#bd3786"
             ],
             [
              0.5555555555555556,
              "#d8576b"
             ],
             [
              0.6666666666666666,
              "#ed7953"
             ],
             [
              0.7777777777777778,
              "#fb9f3a"
             ],
             [
              0.8888888888888888,
              "#fdca26"
             ],
             [
              1,
              "#f0f921"
             ]
            ],
            "type": "histogram2dcontour"
           }
          ],
          "mesh3d": [
           {
            "colorbar": {
             "outlinewidth": 0,
             "ticks": ""
            },
            "type": "mesh3d"
           }
          ],
          "parcoords": [
           {
            "line": {
             "colorbar": {
              "outlinewidth": 0,
              "ticks": ""
             }
            },
            "type": "parcoords"
           }
          ],
          "pie": [
           {
            "automargin": true,
            "type": "pie"
           }
          ],
          "scatter": [
           {
            "marker": {
             "colorbar": {
              "outlinewidth": 0,
              "ticks": ""
             }
            },
            "type": "scatter"
           }
          ],
          "scatter3d": [
           {
            "line": {
             "colorbar": {
              "outlinewidth": 0,
              "ticks": ""
             }
            },
            "marker": {
             "colorbar": {
              "outlinewidth": 0,
              "ticks": ""
             }
            },
            "type": "scatter3d"
           }
          ],
          "scattercarpet": [
           {
            "marker": {
             "colorbar": {
              "outlinewidth": 0,
              "ticks": ""
             }
            },
            "type": "scattercarpet"
           }
          ],
          "scattergeo": [
           {
            "marker": {
             "colorbar": {
              "outlinewidth": 0,
              "ticks": ""
             }
            },
            "type": "scattergeo"
           }
          ],
          "scattergl": [
           {
            "marker": {
             "colorbar": {
              "outlinewidth": 0,
              "ticks": ""
             }
            },
            "type": "scattergl"
           }
          ],
          "scattermapbox": [
           {
            "marker": {
             "colorbar": {
              "outlinewidth": 0,
              "ticks": ""
             }
            },
            "type": "scattermapbox"
           }
          ],
          "scatterpolar": [
           {
            "marker": {
             "colorbar": {
              "outlinewidth": 0,
              "ticks": ""
             }
            },
            "type": "scatterpolar"
           }
          ],
          "scatterpolargl": [
           {
            "marker": {
             "colorbar": {
              "outlinewidth": 0,
              "ticks": ""
             }
            },
            "type": "scatterpolargl"
           }
          ],
          "scatterternary": [
           {
            "marker": {
             "colorbar": {
              "outlinewidth": 0,
              "ticks": ""
             }
            },
            "type": "scatterternary"
           }
          ],
          "surface": [
           {
            "colorbar": {
             "outlinewidth": 0,
             "ticks": ""
            },
            "colorscale": [
             [
              0,
              "#0d0887"
             ],
             [
              0.1111111111111111,
              "#46039f"
             ],
             [
              0.2222222222222222,
              "#7201a8"
             ],
             [
              0.3333333333333333,
              "#9c179e"
             ],
             [
              0.4444444444444444,
              "#bd3786"
             ],
             [
              0.5555555555555556,
              "#d8576b"
             ],
             [
              0.6666666666666666,
              "#ed7953"
             ],
             [
              0.7777777777777778,
              "#fb9f3a"
             ],
             [
              0.8888888888888888,
              "#fdca26"
             ],
             [
              1,
              "#f0f921"
             ]
            ],
            "type": "surface"
           }
          ],
          "table": [
           {
            "cells": {
             "fill": {
              "color": "#EBF0F8"
             },
             "line": {
              "color": "white"
             }
            },
            "header": {
             "fill": {
              "color": "#C8D4E3"
             },
             "line": {
              "color": "white"
             }
            },
            "type": "table"
           }
          ]
         },
         "layout": {
          "annotationdefaults": {
           "arrowcolor": "#2a3f5f",
           "arrowhead": 0,
           "arrowwidth": 1
          },
          "coloraxis": {
           "colorbar": {
            "outlinewidth": 0,
            "ticks": ""
           }
          },
          "colorscale": {
           "diverging": [
            [
             0,
             "#8e0152"
            ],
            [
             0.1,
             "#c51b7d"
            ],
            [
             0.2,
             "#de77ae"
            ],
            [
             0.3,
             "#f1b6da"
            ],
            [
             0.4,
             "#fde0ef"
            ],
            [
             0.5,
             "#f7f7f7"
            ],
            [
             0.6,
             "#e6f5d0"
            ],
            [
             0.7,
             "#b8e186"
            ],
            [
             0.8,
             "#7fbc41"
            ],
            [
             0.9,
             "#4d9221"
            ],
            [
             1,
             "#276419"
            ]
           ],
           "sequential": [
            [
             0,
             "#0d0887"
            ],
            [
             0.1111111111111111,
             "#46039f"
            ],
            [
             0.2222222222222222,
             "#7201a8"
            ],
            [
             0.3333333333333333,
             "#9c179e"
            ],
            [
             0.4444444444444444,
             "#bd3786"
            ],
            [
             0.5555555555555556,
             "#d8576b"
            ],
            [
             0.6666666666666666,
             "#ed7953"
            ],
            [
             0.7777777777777778,
             "#fb9f3a"
            ],
            [
             0.8888888888888888,
             "#fdca26"
            ],
            [
             1,
             "#f0f921"
            ]
           ],
           "sequentialminus": [
            [
             0,
             "#0d0887"
            ],
            [
             0.1111111111111111,
             "#46039f"
            ],
            [
             0.2222222222222222,
             "#7201a8"
            ],
            [
             0.3333333333333333,
             "#9c179e"
            ],
            [
             0.4444444444444444,
             "#bd3786"
            ],
            [
             0.5555555555555556,
             "#d8576b"
            ],
            [
             0.6666666666666666,
             "#ed7953"
            ],
            [
             0.7777777777777778,
             "#fb9f3a"
            ],
            [
             0.8888888888888888,
             "#fdca26"
            ],
            [
             1,
             "#f0f921"
            ]
           ]
          },
          "colorway": [
           "#636efa",
           "#EF553B",
           "#00cc96",
           "#ab63fa",
           "#FFA15A",
           "#19d3f3",
           "#FF6692",
           "#B6E880",
           "#FF97FF",
           "#FECB52"
          ],
          "font": {
           "color": "#2a3f5f"
          },
          "geo": {
           "bgcolor": "white",
           "lakecolor": "white",
           "landcolor": "#E5ECF6",
           "showlakes": true,
           "showland": true,
           "subunitcolor": "white"
          },
          "hoverlabel": {
           "align": "left"
          },
          "hovermode": "closest",
          "mapbox": {
           "style": "light"
          },
          "paper_bgcolor": "white",
          "plot_bgcolor": "#E5ECF6",
          "polar": {
           "angularaxis": {
            "gridcolor": "white",
            "linecolor": "white",
            "ticks": ""
           },
           "bgcolor": "#E5ECF6",
           "radialaxis": {
            "gridcolor": "white",
            "linecolor": "white",
            "ticks": ""
           }
          },
          "scene": {
           "xaxis": {
            "backgroundcolor": "#E5ECF6",
            "gridcolor": "white",
            "gridwidth": 2,
            "linecolor": "white",
            "showbackground": true,
            "ticks": "",
            "zerolinecolor": "white"
           },
           "yaxis": {
            "backgroundcolor": "#E5ECF6",
            "gridcolor": "white",
            "gridwidth": 2,
            "linecolor": "white",
            "showbackground": true,
            "ticks": "",
            "zerolinecolor": "white"
           },
           "zaxis": {
            "backgroundcolor": "#E5ECF6",
            "gridcolor": "white",
            "gridwidth": 2,
            "linecolor": "white",
            "showbackground": true,
            "ticks": "",
            "zerolinecolor": "white"
           }
          },
          "shapedefaults": {
           "line": {
            "color": "#2a3f5f"
           }
          },
          "ternary": {
           "aaxis": {
            "gridcolor": "white",
            "linecolor": "white",
            "ticks": ""
           },
           "baxis": {
            "gridcolor": "white",
            "linecolor": "white",
            "ticks": ""
           },
           "bgcolor": "#E5ECF6",
           "caxis": {
            "gridcolor": "white",
            "linecolor": "white",
            "ticks": ""
           }
          },
          "title": {
           "x": 0.05
          },
          "xaxis": {
           "automargin": true,
           "gridcolor": "white",
           "linecolor": "white",
           "ticks": "",
           "title": {
            "standoff": 15
           },
           "zerolinecolor": "white",
           "zerolinewidth": 2
          },
          "yaxis": {
           "automargin": true,
           "gridcolor": "white",
           "linecolor": "white",
           "ticks": "",
           "title": {
            "standoff": 15
           },
           "zerolinecolor": "white",
           "zerolinewidth": 2
          }
         }
        }
       }
      },
      "text/html": [
       "<div>                            <div id=\"a0d512a2-612b-4348-a9f9-c825df741a46\" class=\"plotly-graph-div\" style=\"height:525px; width:100%;\"></div>            <script type=\"text/javascript\">                require([\"plotly\"], function(Plotly) {                    window.PLOTLYENV=window.PLOTLYENV || {};                                    if (document.getElementById(\"a0d512a2-612b-4348-a9f9-c825df741a46\")) {                    Plotly.newPlot(                        \"a0d512a2-612b-4348-a9f9-c825df741a46\",                        [{\"marker\": {\"color\": [-25.853535841522024, -25.255540067422285, -24.797340477491456, -24.50107903474723, -24.389853095796486, -24.362010554713645, -24.356525070020087, -24.355171218550748, -24.354440244084508, -24.608123749734933, -24.66114804505612, -24.480750720282536, -24.37727984149408, -24.35062965456293, -24.349324059433336, -24.35131306466079, -24.352455056283535, -24.35289781630624, -24.46666733134924, -24.29235541522138, -24.33076150707565, -24.350449565280936, -24.35446918677124, -24.354239606270806, -24.353726946230992, -24.353486846129705, -24.353403108811644, -24.374279041661303, -24.317541215109117, -24.342096957748986, -24.352518228321596, -24.354249030074705, -24.353907746090865, -24.353561488826454, -24.35341583173917, -24.353368220871335, -24.33308238712557, -24.361656223310032, -24.355282096937334, -24.353558032355547, -24.353284860937197, -24.353294673975185, -24.353319846803345, -24.353325100499045, -24.3533274925315, -24.345293870770355, -24.3580874358592, -24.354345430978096, -24.35342084287043, -24.35329082575912, -24.353306816231704, -24.353319847302583, -24.353326307332253, -24.35332780464666, -24.361667462631235, -24.35249944751592, -24.353215954693386, -24.353326347387302, -24.35333584137408, -24.35332999638306, -24.353328778000865, -24.353328340141093, -24.35332823764925, -24.357488413540086, -24.352808186864596, -24.3532676072154, -24.35332998206957, -24.353330227356643, -24.353329328615736, -24.35332855077343, -24.353328282125396, -24.353328221676275, -24.3514041306609, -24.35343820549649, -24.35334378748248, -24.35332883058303, -24.35332825693434, -24.353328213555532, -24.353328216360307, -24.353328210374666, -24.353328193628993], \"colorscale\": [[0.0, \"#440154\"], [0.1111111111111111, \"#482878\"], [0.2222222222222222, \"#3e4989\"], [0.3333333333333333, \"#31688e\"], [0.4444444444444444, \"#26828e\"], [0.5555555555555556, \"#1f9e89\"], [0.6666666666666666, \"#35b779\"], [0.7777777777777778, \"#6ece58\"], [0.8888888888888888, \"#b5de2b\"], [1.0, \"#fde725\"]], \"opacity\": 0.8, \"size\": 5}, \"mode\": \"markers\", \"type\": \"scatter3d\", \"x\": [3, 3, 3, 3, 3, 3, 3, 3, 3, 4, 4, 4, 4, 4, 4, 4, 4, 4, 5, 5, 5, 5, 5, 5, 5, 5, 5, 6, 6, 6, 6, 6, 6, 6, 6, 6, 7, 7, 7, 7, 7, 7, 7, 7, 7, 8, 8, 8, 8, 8, 8, 8, 8, 8, 9, 9, 9, 9, 9, 9, 9, 9, 9, 10, 10, 10, 10, 10, 10, 10, 10, 10, 11, 11, 11, 11, 11, 11, 11, 11, 11], \"y\": [3, 4, 5, 6, 7, 8, 9, 10, 11, 3, 4, 5, 6, 7, 8, 9, 10, 11, 3, 4, 5, 6, 7, 8, 9, 10, 11, 3, 4, 5, 6, 7, 8, 9, 10, 11, 3, 4, 5, 6, 7, 8, 9, 10, 11, 3, 4, 5, 6, 7, 8, 9, 10, 11, 3, 4, 5, 6, 7, 8, 9, 10, 11, 3, 4, 5, 6, 7, 8, 9, 10, 11, 3, 4, 5, 6, 7, 8, 9, 10, 11], \"z\": [-25.853535841522024, -25.255540067422285, -24.797340477491456, -24.50107903474723, -24.389853095796486, -24.362010554713645, -24.356525070020087, -24.355171218550748, -24.354440244084508, -24.608123749734933, -24.66114804505612, -24.480750720282536, -24.37727984149408, -24.35062965456293, -24.349324059433336, -24.35131306466079, -24.352455056283535, -24.35289781630624, -24.46666733134924, -24.29235541522138, -24.33076150707565, -24.350449565280936, -24.35446918677124, -24.354239606270806, -24.353726946230992, -24.353486846129705, -24.353403108811644, -24.374279041661303, -24.317541215109117, -24.342096957748986, -24.352518228321596, -24.354249030074705, -24.353907746090865, -24.353561488826454, -24.35341583173917, -24.353368220871335, -24.33308238712557, -24.361656223310032, -24.355282096937334, -24.353558032355547, -24.353284860937197, -24.353294673975185, -24.353319846803345, -24.353325100499045, -24.3533274925315, -24.345293870770355, -24.3580874358592, -24.354345430978096, -24.35342084287043, -24.35329082575912, -24.353306816231704, -24.353319847302583, -24.353326307332253, -24.35332780464666, -24.361667462631235, -24.35249944751592, -24.353215954693386, -24.353326347387302, -24.35333584137408, -24.35332999638306, -24.353328778000865, -24.353328340141093, -24.35332823764925, -24.357488413540086, -24.352808186864596, -24.3532676072154, -24.35332998206957, -24.353330227356643, -24.353329328615736, -24.35332855077343, -24.353328282125396, -24.353328221676275, -24.3514041306609, -24.35343820549649, -24.35334378748248, -24.35332883058303, -24.35332825693434, -24.353328213555532, -24.353328216360307, -24.353328210374666, -24.353328193628993]}],                        {\"template\": {\"data\": {\"bar\": [{\"error_x\": {\"color\": \"#2a3f5f\"}, \"error_y\": {\"color\": \"#2a3f5f\"}, \"marker\": {\"line\": {\"color\": \"#E5ECF6\", \"width\": 0.5}}, \"type\": \"bar\"}], \"barpolar\": [{\"marker\": {\"line\": {\"color\": \"#E5ECF6\", \"width\": 0.5}}, \"type\": \"barpolar\"}], \"carpet\": [{\"aaxis\": {\"endlinecolor\": \"#2a3f5f\", \"gridcolor\": \"white\", \"linecolor\": \"white\", \"minorgridcolor\": \"white\", \"startlinecolor\": \"#2a3f5f\"}, \"baxis\": {\"endlinecolor\": \"#2a3f5f\", \"gridcolor\": \"white\", \"linecolor\": \"white\", \"minorgridcolor\": \"white\", \"startlinecolor\": \"#2a3f5f\"}, \"type\": \"carpet\"}], \"choropleth\": [{\"colorbar\": {\"outlinewidth\": 0, \"ticks\": \"\"}, \"type\": \"choropleth\"}], \"contour\": [{\"colorbar\": {\"outlinewidth\": 0, \"ticks\": \"\"}, \"colorscale\": [[0.0, \"#0d0887\"], [0.1111111111111111, \"#46039f\"], [0.2222222222222222, \"#7201a8\"], [0.3333333333333333, \"#9c179e\"], [0.4444444444444444, \"#bd3786\"], [0.5555555555555556, \"#d8576b\"], [0.6666666666666666, \"#ed7953\"], [0.7777777777777778, \"#fb9f3a\"], [0.8888888888888888, \"#fdca26\"], [1.0, \"#f0f921\"]], \"type\": \"contour\"}], \"contourcarpet\": [{\"colorbar\": {\"outlinewidth\": 0, \"ticks\": \"\"}, \"type\": \"contourcarpet\"}], \"heatmap\": [{\"colorbar\": {\"outlinewidth\": 0, \"ticks\": \"\"}, \"colorscale\": [[0.0, \"#0d0887\"], [0.1111111111111111, \"#46039f\"], [0.2222222222222222, \"#7201a8\"], [0.3333333333333333, \"#9c179e\"], [0.4444444444444444, \"#bd3786\"], [0.5555555555555556, \"#d8576b\"], [0.6666666666666666, \"#ed7953\"], [0.7777777777777778, \"#fb9f3a\"], [0.8888888888888888, \"#fdca26\"], [1.0, \"#f0f921\"]], \"type\": \"heatmap\"}], \"heatmapgl\": [{\"colorbar\": {\"outlinewidth\": 0, \"ticks\": \"\"}, \"colorscale\": [[0.0, \"#0d0887\"], [0.1111111111111111, \"#46039f\"], [0.2222222222222222, \"#7201a8\"], [0.3333333333333333, \"#9c179e\"], [0.4444444444444444, \"#bd3786\"], [0.5555555555555556, \"#d8576b\"], [0.6666666666666666, \"#ed7953\"], [0.7777777777777778, \"#fb9f3a\"], [0.8888888888888888, \"#fdca26\"], [1.0, \"#f0f921\"]], \"type\": \"heatmapgl\"}], \"histogram\": [{\"marker\": {\"colorbar\": {\"outlinewidth\": 0, \"ticks\": \"\"}}, \"type\": \"histogram\"}], \"histogram2d\": [{\"colorbar\": {\"outlinewidth\": 0, \"ticks\": \"\"}, \"colorscale\": [[0.0, \"#0d0887\"], [0.1111111111111111, \"#46039f\"], [0.2222222222222222, \"#7201a8\"], [0.3333333333333333, \"#9c179e\"], [0.4444444444444444, \"#bd3786\"], [0.5555555555555556, \"#d8576b\"], [0.6666666666666666, \"#ed7953\"], [0.7777777777777778, \"#fb9f3a\"], [0.8888888888888888, \"#fdca26\"], [1.0, \"#f0f921\"]], \"type\": \"histogram2d\"}], \"histogram2dcontour\": [{\"colorbar\": {\"outlinewidth\": 0, \"ticks\": \"\"}, \"colorscale\": [[0.0, \"#0d0887\"], [0.1111111111111111, \"#46039f\"], [0.2222222222222222, \"#7201a8\"], [0.3333333333333333, \"#9c179e\"], [0.4444444444444444, \"#bd3786\"], [0.5555555555555556, \"#d8576b\"], [0.6666666666666666, \"#ed7953\"], [0.7777777777777778, \"#fb9f3a\"], [0.8888888888888888, \"#fdca26\"], [1.0, \"#f0f921\"]], \"type\": \"histogram2dcontour\"}], \"mesh3d\": [{\"colorbar\": {\"outlinewidth\": 0, \"ticks\": \"\"}, \"type\": \"mesh3d\"}], \"parcoords\": [{\"line\": {\"colorbar\": {\"outlinewidth\": 0, \"ticks\": \"\"}}, \"type\": \"parcoords\"}], \"pie\": [{\"automargin\": true, \"type\": \"pie\"}], \"scatter\": [{\"marker\": {\"colorbar\": {\"outlinewidth\": 0, \"ticks\": \"\"}}, \"type\": \"scatter\"}], \"scatter3d\": [{\"line\": {\"colorbar\": {\"outlinewidth\": 0, \"ticks\": \"\"}}, \"marker\": {\"colorbar\": {\"outlinewidth\": 0, \"ticks\": \"\"}}, \"type\": \"scatter3d\"}], \"scattercarpet\": [{\"marker\": {\"colorbar\": {\"outlinewidth\": 0, \"ticks\": \"\"}}, \"type\": \"scattercarpet\"}], \"scattergeo\": [{\"marker\": {\"colorbar\": {\"outlinewidth\": 0, \"ticks\": \"\"}}, \"type\": \"scattergeo\"}], \"scattergl\": [{\"marker\": {\"colorbar\": {\"outlinewidth\": 0, \"ticks\": \"\"}}, \"type\": \"scattergl\"}], \"scattermapbox\": [{\"marker\": {\"colorbar\": {\"outlinewidth\": 0, \"ticks\": \"\"}}, \"type\": \"scattermapbox\"}], \"scatterpolar\": [{\"marker\": {\"colorbar\": {\"outlinewidth\": 0, \"ticks\": \"\"}}, \"type\": \"scatterpolar\"}], \"scatterpolargl\": [{\"marker\": {\"colorbar\": {\"outlinewidth\": 0, \"ticks\": \"\"}}, \"type\": \"scatterpolargl\"}], \"scatterternary\": [{\"marker\": {\"colorbar\": {\"outlinewidth\": 0, \"ticks\": \"\"}}, \"type\": \"scatterternary\"}], \"surface\": [{\"colorbar\": {\"outlinewidth\": 0, \"ticks\": \"\"}, \"colorscale\": [[0.0, \"#0d0887\"], [0.1111111111111111, \"#46039f\"], [0.2222222222222222, \"#7201a8\"], [0.3333333333333333, \"#9c179e\"], [0.4444444444444444, \"#bd3786\"], [0.5555555555555556, \"#d8576b\"], [0.6666666666666666, \"#ed7953\"], [0.7777777777777778, \"#fb9f3a\"], [0.8888888888888888, \"#fdca26\"], [1.0, \"#f0f921\"]], \"type\": \"surface\"}], \"table\": [{\"cells\": {\"fill\": {\"color\": \"#EBF0F8\"}, \"line\": {\"color\": \"white\"}}, \"header\": {\"fill\": {\"color\": \"#C8D4E3\"}, \"line\": {\"color\": \"white\"}}, \"type\": \"table\"}]}, \"layout\": {\"annotationdefaults\": {\"arrowcolor\": \"#2a3f5f\", \"arrowhead\": 0, \"arrowwidth\": 1}, \"coloraxis\": {\"colorbar\": {\"outlinewidth\": 0, \"ticks\": \"\"}}, \"colorscale\": {\"diverging\": [[0, \"#8e0152\"], [0.1, \"#c51b7d\"], [0.2, \"#de77ae\"], [0.3, \"#f1b6da\"], [0.4, \"#fde0ef\"], [0.5, \"#f7f7f7\"], [0.6, \"#e6f5d0\"], [0.7, \"#b8e186\"], [0.8, \"#7fbc41\"], [0.9, \"#4d9221\"], [1, \"#276419\"]], \"sequential\": [[0.0, \"#0d0887\"], [0.1111111111111111, \"#46039f\"], [0.2222222222222222, \"#7201a8\"], [0.3333333333333333, \"#9c179e\"], [0.4444444444444444, \"#bd3786\"], [0.5555555555555556, \"#d8576b\"], [0.6666666666666666, \"#ed7953\"], [0.7777777777777778, \"#fb9f3a\"], [0.8888888888888888, \"#fdca26\"], [1.0, \"#f0f921\"]], \"sequentialminus\": [[0.0, \"#0d0887\"], [0.1111111111111111, \"#46039f\"], [0.2222222222222222, \"#7201a8\"], [0.3333333333333333, \"#9c179e\"], [0.4444444444444444, \"#bd3786\"], [0.5555555555555556, \"#d8576b\"], [0.6666666666666666, \"#ed7953\"], [0.7777777777777778, \"#fb9f3a\"], [0.8888888888888888, \"#fdca26\"], [1.0, \"#f0f921\"]]}, \"colorway\": [\"#636efa\", \"#EF553B\", \"#00cc96\", \"#ab63fa\", \"#FFA15A\", \"#19d3f3\", \"#FF6692\", \"#B6E880\", \"#FF97FF\", \"#FECB52\"], \"font\": {\"color\": \"#2a3f5f\"}, \"geo\": {\"bgcolor\": \"white\", \"lakecolor\": \"white\", \"landcolor\": \"#E5ECF6\", \"showlakes\": true, \"showland\": true, \"subunitcolor\": \"white\"}, \"hoverlabel\": {\"align\": \"left\"}, \"hovermode\": \"closest\", \"mapbox\": {\"style\": \"light\"}, \"paper_bgcolor\": \"white\", \"plot_bgcolor\": \"#E5ECF6\", \"polar\": {\"angularaxis\": {\"gridcolor\": \"white\", \"linecolor\": \"white\", \"ticks\": \"\"}, \"bgcolor\": \"#E5ECF6\", \"radialaxis\": {\"gridcolor\": \"white\", \"linecolor\": \"white\", \"ticks\": \"\"}}, \"scene\": {\"xaxis\": {\"backgroundcolor\": \"#E5ECF6\", \"gridcolor\": \"white\", \"gridwidth\": 2, \"linecolor\": \"white\", \"showbackground\": true, \"ticks\": \"\", \"zerolinecolor\": \"white\"}, \"yaxis\": {\"backgroundcolor\": \"#E5ECF6\", \"gridcolor\": \"white\", \"gridwidth\": 2, \"linecolor\": \"white\", \"showbackground\": true, \"ticks\": \"\", \"zerolinecolor\": \"white\"}, \"zaxis\": {\"backgroundcolor\": \"#E5ECF6\", \"gridcolor\": \"white\", \"gridwidth\": 2, \"linecolor\": \"white\", \"showbackground\": true, \"ticks\": \"\", \"zerolinecolor\": \"white\"}}, \"shapedefaults\": {\"line\": {\"color\": \"#2a3f5f\"}}, \"ternary\": {\"aaxis\": {\"gridcolor\": \"white\", \"linecolor\": \"white\", \"ticks\": \"\"}, \"baxis\": {\"gridcolor\": \"white\", \"linecolor\": \"white\", \"ticks\": \"\"}, \"bgcolor\": \"#E5ECF6\", \"caxis\": {\"gridcolor\": \"white\", \"linecolor\": \"white\", \"ticks\": \"\"}}, \"title\": {\"x\": 0.05}, \"xaxis\": {\"automargin\": true, \"gridcolor\": \"white\", \"linecolor\": \"white\", \"ticks\": \"\", \"title\": {\"standoff\": 15}, \"zerolinecolor\": \"white\", \"zerolinewidth\": 2}, \"yaxis\": {\"automargin\": true, \"gridcolor\": \"white\", \"linecolor\": \"white\", \"ticks\": \"\", \"title\": {\"standoff\": 15}, \"zerolinecolor\": \"white\", \"zerolinewidth\": 2}}}},                        {\"responsive\": true}                    ).then(function(){\n",
       "                            \n",
       "var gd = document.getElementById('a0d512a2-612b-4348-a9f9-c825df741a46');\n",
       "var x = new MutationObserver(function (mutations, observer) {{\n",
       "        var display = window.getComputedStyle(gd).display;\n",
       "        if (!display || display === 'none') {{\n",
       "            console.log([gd, 'removed!']);\n",
       "            Plotly.purge(gd);\n",
       "            observer.disconnect();\n",
       "        }}\n",
       "}});\n",
       "\n",
       "// Listen for the removal of the full notebook cells\n",
       "var notebookContainer = gd.closest('#notebook-container');\n",
       "if (notebookContainer) {{\n",
       "    x.observe(notebookContainer, {childList: true});\n",
       "}}\n",
       "\n",
       "// Listen for the clearing of the current output cell\n",
       "var outputEl = gd.closest('.output');\n",
       "if (outputEl) {{\n",
       "    x.observe(outputEl, {childList: true});\n",
       "}}\n",
       "\n",
       "                        })                };                });            </script>        </div>"
      ]
     },
     "metadata": {},
     "output_type": "display_data"
    }
   ],
   "source": [
    "fig = go.Figure(data=[go.Scatter3d(\n",
    "    x=points,\n",
    "    y=blocks,\n",
    "    z=energy,\n",
    "    mode='markers',\n",
    "    marker=dict(\n",
    "        size=5,\n",
    "        color=energy,                # set color to an array/list of desired values\n",
    "        colorscale='Viridis',   # choose a colorscale\n",
    "        opacity=0.8\n",
    "    )\n",
    ")])\n",
    "\n",
    "fig.show()"
   ]
  },
  {
   "cell_type": "code",
   "execution_count": null,
   "metadata": {},
   "outputs": [],
   "source": []
  }
 ],
 "metadata": {
  "kernelspec": {
   "display_name": "Python 3",
   "language": "python",
   "name": "python3"
  },
  "language_info": {
   "codemirror_mode": {
    "name": "ipython",
    "version": 3
   },
   "file_extension": ".py",
   "mimetype": "text/x-python",
   "name": "python",
   "nbconvert_exporter": "python",
   "pygments_lexer": "ipython3",
   "version": "3.8.5"
  }
 },
 "nbformat": 4,
 "nbformat_minor": 4
}

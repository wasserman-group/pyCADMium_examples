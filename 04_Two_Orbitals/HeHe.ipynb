{
 "cells": [
  {
   "cell_type": "code",
   "execution_count": 1,
   "metadata": {},
   "outputs": [],
   "source": [
    "import matplotlib as mpl\n",
    "mpl.rcParams[\"font.size\"] = 11\n",
    "mpl.rcParams[\"xtick.color\"] = \"tab:grey\"\n",
    "mpl.rcParams[\"ytick.color\"] = \"tab:grey\"\n",
    "mpl.rcParams[\"font.family\"] = \"sans-serif\"\n",
    "mpl.rcParams[\"axes.edgecolor\"] = \"#eae8e9\" \n",
    "\n",
    "from CADMium import Pssolver, Psgrid, Partition, Inverter\n",
    "import numpy as np \n",
    "import matplotlib.pyplot as plt"
   ]
  },
  {
   "cell_type": "code",
   "execution_count": 2,
   "metadata": {},
   "outputs": [
    {
     "name": "stdout",
     "output_type": "stream",
     "text": [
      "----> Begin SCF calculation for *Isolated* Fragments\n",
      "\n",
      "                Total Energy (a.u.)       \n",
      "\n",
      "                __________________        \n",
      "\n",
      "Iteration         A            B              res     \n",
      "\n",
      "_______________________________________________________\n",
      "\n",
      "    1           -3.46571     -3.46571       1.000e+00 \n",
      "    2           -2.91944     -2.91944       4.563e-02 \n",
      "    3           -2.84865     -2.84865       8.722e-03 \n",
      "    4           -2.83746     -2.83746       2.215e-03 \n",
      "    5           -2.83529     -2.83529       7.071e-04 \n",
      "    6           -2.83474     -2.83474       2.551e-04 \n",
      "    7           -2.83457     -2.83457       9.737e-05 \n",
      "    8           -2.83451     -2.83451       3.799e-05 \n",
      "    9           -2.83449     -2.83449       1.495e-05 \n",
      "   10           -2.83448     -2.83448       5.901e-06 \n",
      "   11           -2.83448     -2.83448       2.332e-06 \n",
      "   12           -2.83448     -2.83448       9.216e-07 \n",
      "   13           -2.83448     -2.83448       3.642e-07 \n",
      "   14           -2.83448     -2.83448       1.439e-07 \n",
      "   15           -2.83448     -2.83448       5.685e-08 \n",
      "   16           -2.83448     -2.83448       2.245e-08 \n",
      "   17           -2.83448     -2.83448       8.863e-09 \n",
      "   18           -2.83448     -2.83448       3.498e-09 \n",
      "   19           -2.83448     -2.83448       1.380e-09 \n",
      "   20           -2.83448     -2.83448       5.445e-10 \n",
      "   21           -2.83448     -2.83448       2.148e-10 \n",
      "   22           -2.83448     -2.83448       8.470e-11 \n",
      "----> Begin SCF calculation for *Interacting* Fragments\n",
      "\n",
      "                Total Energy (a.u.)                                Inversion                \n",
      "\n",
      "                __________________                ____________________________________     \n",
      "\n",
      "Iteration         A              B                  iters      optimality        res       \n",
      "\n",
      "___________________________________________________________________________________________ \n",
      "\n",
      "    1            -2.83512        -2.83512             7       +4.561e-15      +1.000e+00\n",
      "    2            -2.83521        -2.83521             6       +5.885e-15      +1.226e-04\n",
      "    3            -2.83486        -2.83486             6       +5.099e-15      +6.401e-05\n",
      "    4            -2.83441        -2.83441             6       +5.833e-15      +6.443e-05\n",
      "    5            -2.83414        -2.83414             6       +3.868e-15      +5.910e-05\n",
      "    6            -2.83413        -2.83413             4       +4.601e-15      +5.779e-05\n",
      "    7            -2.83431        -2.83431             5       +7.022e-15      +2.712e-05\n",
      "    8            -2.83451        -2.83451             6       +5.022e-15      +1.818e-05\n",
      "    9            -2.83463        -2.83463             5       +4.313e-15      +3.289e-05\n",
      "   10            -2.83463        -2.83463             5       +3.793e-15      +2.897e-05\n",
      "   11            -2.83455        -2.83455             4       +5.177e-15      +1.392e-05\n",
      "   12            -2.83446        -2.83446             4       +7.604e-15      +1.454e-05\n",
      "   13            -2.83440        -2.83440             5       +4.492e-15      +1.597e-05\n",
      "   14            -2.83440        -2.83440             4       +9.891e-15      +1.523e-05\n",
      "   15            -2.83443        -2.83443             4       +6.194e-15      +7.938e-06\n",
      "   16            -2.83447        -2.83447             4       +4.427e-15      +2.123e-06\n",
      "   17            -2.83450        -2.83450             4       +4.980e-15      +6.606e-06\n",
      "   18            -2.83451        -2.83451             4       +6.345e-15      +7.247e-06\n",
      "   19            -2.83449        -2.83449             4       +5.248e-15      +4.541e-06\n",
      "   20            -2.83447        -2.83447             4       +5.364e-15      +2.988e-06\n",
      "   21            -2.83446        -2.83446             4       +5.409e-15      +2.416e-06\n",
      "   22            -2.83446        -2.83446             4       +6.087e-15      +3.034e-06\n",
      "   23            -2.83446        -2.83446             4       +5.670e-15      +2.236e-06\n",
      "   24            -2.83447        -2.83447             4       +4.576e-15      +8.522e-07\n",
      "   25            -2.83448        -2.83448             4       +5.245e-15      +8.370e-07\n",
      "   26            -2.83448        -2.83448             4       +5.512e-15      +1.148e-06\n",
      "   27            -2.83448        -2.83448             4       +4.679e-15      +9.441e-07\n",
      "   28            -2.83447        -2.83447             4       +4.336e-15      +4.829e-07\n",
      "   29            -2.83447        -2.83447             4       +4.872e-15      +3.967e-07\n",
      "   30            -2.83447        -2.83447             4       +6.297e-15      +4.276e-07\n",
      "   31            -2.83447        -2.83447             3       +6.590e-15      +3.458e-07\n",
      "   32            -2.83447        -2.83447             4       +5.064e-15      +2.058e-07\n",
      "   33            -2.83447        -2.83447             4       +4.898e-15      +1.280e-07\n",
      "   34            -2.83447        -2.83447             4       +4.752e-15      +1.650e-07\n",
      "   35            -2.83447        -2.83447             4       +4.287e-15      +1.284e-07\n",
      "   36            -2.83447        -2.83447             3       +5.947e-15      +6.609e-08\n",
      "   37            -2.83447        -2.83447             3       +5.481e-15      +5.764e-08\n",
      "   38            -2.83447        -2.83447             3       +7.615e-15      +6.523e-08\n",
      "   39            -2.83447        -2.83447             3       +3.747e-15      +4.996e-08\n",
      "   40            -2.83447        -2.83447             3       +5.956e-15      +1.799e-08\n",
      "   41            -2.83447        -2.83447             3       +4.358e-15      +1.665e-08\n",
      "   42            -2.83447        -2.83447             3       +4.239e-15      +2.606e-08\n",
      "   43            -2.83447        -2.83447             3       +3.673e-15      +2.033e-08\n",
      "   44            -2.83447        -2.83447             3       +5.900e-15      +1.003e-08\n",
      "   45            -2.83447        -2.83447             3       +3.971e-15      +8.432e-09\n",
      "   46            -2.83447        -2.83447             2       +4.380e-15      +1.041e-08\n",
      "   47            -2.83447        -2.83447             2       +6.567e-15      +8.492e-09\n",
      "   48            -2.83447        -2.83447             2       +5.524e-15      +3.797e-09\n",
      "   49            -2.83447        -2.83447             2       +5.850e-15      +4.113e-09\n"
     ]
    },
    {
     "name": "stderr",
     "output_type": "stream",
     "text": [
      "/mnt/c/Users/victo/Dropbox/PHD/cadmium/CADMium/CADMium/partition/scf.py:252: UserWarning: SCF Warning: Max number of Iterations Surpassed. Desired convergence may have not been achieved\n",
      "  warn(\"SCF Warning: Max number of Iterations Surpassed. Desired convergence may have not been achieved\")\n"
     ]
    },
    {
     "name": "stdout",
     "output_type": "stream",
     "text": [
      "   50            -2.83447        -2.83447             2       +4.709e-15      +4.700e-09\n",
      "----> Begin SCF calculation for *Interacting* Fragments\n",
      "\n",
      "                Total Energy (a.u.)       \n",
      "\n",
      "                __________________        \n",
      "\n",
      "Iteration         A            B              res     \n",
      "\n",
      "_______________________________________________________\n",
      "\n",
      "    1           -1.52724     -1.52724       1.000e+00 \n",
      "    2           -3.17829     -3.17829       7.659e-01 \n",
      "    3           -2.78324     -2.78324       6.124e-02 \n",
      "    4           -2.84887     -2.84887       4.812e-02 \n",
      "    5           -2.83285     -2.83285       2.066e-03 \n",
      "    6           -2.83491     -2.83491       1.558e-03 \n",
      "    7           -2.83443     -2.83443       6.132e-05 \n",
      "    8           -2.83449     -2.83449       4.635e-05 \n",
      "    9           -2.83447     -2.83447       1.908e-06 \n",
      "   10           -2.83447     -2.83447       1.420e-06 \n",
      "   11           -2.83447     -2.83447       6.034e-08 \n"
     ]
    }
   ],
   "source": [
    "a = 4.9322/2\n",
    "\n",
    "Za = 2\n",
    "Zb = 2\n",
    "\n",
    "pol = 1\n",
    "\n",
    "Nmo_a = [[1]]\n",
    "Na   = [[2]]\n",
    "nua  = 1\n",
    "\n",
    "Nmo_b = [[1]]\n",
    "Nb    = [[2]]\n",
    "nub   = 1\n",
    "\n",
    "Nmo = [[2]]\n",
    "Nm  = [[4]]\n",
    "\n",
    "optPartition = {\n",
    "                \"AB_SYM\" : False,\n",
    "                \"ENS_SPIN_SYM\" : False\n",
    "               }\n",
    "\n",
    "NP = 7\n",
    "NM = [6, 6]\n",
    "L = np.arccosh(12/a)\n",
    "loc = np.array(range(-4,5))\n",
    "\n",
    "grid = Psgrid(NP, NM ,a, L, loc)\n",
    "grid.initialize()\n",
    "\n",
    "\n",
    "part = Partition(grid, Za, Zb, pol, Nmo_a, Na, nua, Nmo_b, Nb, nub, { \"kinetic_part_type\" : \"twoorbital\",\n",
    "                                                                          \"ab_sym\"            : True,\n",
    "                                                                          \"ens_spin_sym\"      : False,\n",
    "                                                                          \"interaction_type\"  : 'dft',\n",
    "                                                                          \"xfunc_id\"          : 1,\n",
    "                                                                          \"cfunc_id\"          : 12,})\n",
    "#Setup inverter object\n",
    "mol_solver = Pssolver(grid, Nmo, Nm )\n",
    "\n",
    "part.inverter = Inverter(grid, mol_solver, {\"invert_type\"    : \"wuyang\", \n",
    "                                            \"ab_sym\"         : True,\n",
    "                                            \"ens_spin_sym\"   : False,\n",
    "                                            # \"tol_lin_solver\" : 1e-3,\n",
    "                                            # \"tol_invert\"     : 1e-4,\n",
    "                                            # \"res_factor\"     : 0,\n",
    "                                           })\n",
    "\n",
    "part.optPartition.isolated = True\n",
    "part.scf({\"disp\"  : True,\n",
    "          \"alpha\" : [0.6],\n",
    "          \"e_tol\" : 1e-10\n",
    "          })\n",
    "\n",
    "part.optPartition.isolated   = False\n",
    "part.inverter.optInv.invert_type = 'orbitalinvert'\n",
    "part.optPartition.kinetic_part_type = 'inversion'\n",
    "part.scf({\"disp\"       : True,\n",
    "          \"e_tol\"      : 1e-10,\n",
    "          \"max_iter\"   : 20,\n",
    "          \"continuing\" : True,\n",
    "          \"alpha\"      : [0.35]})\n",
    "\n",
    "part.optPartition.kinetic_part_type = 'twoorbital'\n",
    "part.optPartition.isolated   = False\n",
    "part.scf({\"disp\"       : True,\n",
    "          \"alpha\"      : [0.82],\n",
    "          \"max_iter\"   : 100,\n",
    "          \"e_tol\"      : 1e-7,\n",
    "          \"continuing\" : True, \n",
    "          \"iterative\"  : True})\n"
   ]
  },
  {
   "cell_type": "code",
   "execution_count": 4,
   "metadata": {},
   "outputs": [
    {
     "data": {
      "text/plain": [
       "(-0.05, 0.05)"
      ]
     },
     "execution_count": 4,
     "metadata": {},
     "output_type": "execute_result"
    },
    {
     "data": {
      "image/png": "[encoded data removed]",
      "text/plain": [
       "<Figure size 432x288 with 1 Axes>"
      ]
     },
     "metadata": {
      "needs_background": "light"
     },
     "output_type": "display_data"
    }
   ],
   "source": [
    "x,y = grid.axis_plot( part.V.vp_kin )\n",
    "plt.plot(x,y)\n",
    "plt.xlim(-4,4)\n",
    "plt.ylim(-0.05, 0.05)"
   ]
  },
  {
   "cell_type": "code",
   "execution_count": 40,
   "metadata": {},
   "outputs": [
    {
     "ename": "NameError",
     "evalue": "name 'd1' is not defined",
     "output_type": "error",
     "traceback": [
      "\u001b[0;31m--------------------------------\u001b[0m",
      "\u001b[0;31mNameError\u001b[0mTraceback (most recent call last)",
      "\u001b[0;32m<ipython-input-40-86c1ed378dd0>\u001b[0m in \u001b[0;36m<module>\u001b[0;34m\u001b[0m\n\u001b[1;32m      1\u001b[0m \u001b[0mfig\u001b[0m\u001b[0;34m,\u001b[0m \u001b[0max\u001b[0m \u001b[0;34m=\u001b[0m \u001b[0mplt\u001b[0m\u001b[0;34m.\u001b[0m\u001b[0msubplots\u001b[0m\u001b[0;34m(\u001b[0m\u001b[0;36m1\u001b[0m\u001b[0;34m,\u001b[0m\u001b[0;36m1\u001b[0m\u001b[0;34m,\u001b[0m \u001b[0mfigsize\u001b[0m\u001b[0;34m=\u001b[0m\u001b[0;34m(\u001b[0m\u001b[0;36m10\u001b[0m\u001b[0;34m,\u001b[0m\u001b[0;36m5\u001b[0m\u001b[0;34m)\u001b[0m\u001b[0;34m,\u001b[0m \u001b[0mdpi\u001b[0m\u001b[0;34m=\u001b[0m\u001b[0;36m300\u001b[0m\u001b[0;34m)\u001b[0m\u001b[0;34m\u001b[0m\u001b[0;34m\u001b[0m\u001b[0m\n\u001b[1;32m      2\u001b[0m \u001b[0;34m\u001b[0m\u001b[0m\n\u001b[0;32m----> 3\u001b[0;31m \u001b[0mplt\u001b[0m\u001b[0;34m.\u001b[0m\u001b[0mfill\u001b[0m\u001b[0;34m(\u001b[0m\u001b[0mx\u001b[0m\u001b[0;34m,\u001b[0m \u001b[0md1\u001b[0m\u001b[0;34m)\u001b[0m\u001b[0;34m\u001b[0m\u001b[0;34m\u001b[0m\u001b[0m\n\u001b[0m\u001b[1;32m      4\u001b[0m \u001b[0mplt\u001b[0m\u001b[0;34m.\u001b[0m\u001b[0mfill\u001b[0m\u001b[0;34m(\u001b[0m\u001b[0mx\u001b[0m\u001b[0;34m,\u001b[0m \u001b[0md2\u001b[0m\u001b[0;34m)\u001b[0m\u001b[0;34m\u001b[0m\u001b[0;34m\u001b[0m\u001b[0m\n",
      "\u001b[0;31mNameError\u001b[0m: name 'd1' is not defined"
     ]
    },
    {
     "data": {
      "image/png": "[encoded data removed]",
      "text/plain": [
       "<Figure size 3000x1500 with 1 Axes>"
      ]
     },
     "metadata": {
      "needs_background": "light"
     },
     "output_type": "display_data"
    }
   ],
   "source": [
    "\n",
    "fig, ax = plt.subplots(1,1, figsize=(10,5), dpi=300)\n",
    "\n",
    "plt.fill(x, d1)\n",
    "plt.fill(x, d2)"
   ]
  },
  {
   "cell_type": "code",
   "execution_count": null,
   "metadata": {},
   "outputs": [],
   "source": []
  },
  {
   "cell_type": "code",
   "execution_count": null,
   "metadata": {},
   "outputs": [],
   "source": []
  }
 ],
 "metadata": {
  "kernelspec": {
   "display_name": "Python 3",
   "language": "python",
   "name": "python3"
  },
  "language_info": {
   "codemirror_mode": {
    "name": "ipython",
    "version": 3
   },
   "file_extension": ".py",
   "mimetype": "text/x-python",
   "name": "python",
   "nbconvert_exporter": "python",
   "pygments_lexer": "ipython3",
   "version": "3.8.5"
  }
 },
 "nbformat": 4,
 "nbformat_minor": 4
}

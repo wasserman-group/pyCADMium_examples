{
 "cells": [
  {
   "cell_type": "code",
   "execution_count": 254,
   "metadata": {},
   "outputs": [],
   "source": [
    "import plotly.graph_objects as go\n",
    "import numpy_html\n",
    "import matplotlib.pyplot as plt"
   ]
  },
  {
   "cell_type": "code",
   "execution_count": 1,
   "metadata": {
    "scrolled": true
   },
   "outputs": [
    {
     "name": "stdout",
     "output_type": "stream",
     "text": [
      " Constructing integration weights ... \n",
      "\n",
      " Building finite difference opperators ... \n",
      "\n",
      " Factorizing Laplacian ... \n",
      "\n",
      " Done\n",
      " iter    Total Energy     HOMO Eigenvalue         Res       \n",
      "\n",
      "----------------------------------------------------------- \n",
      "\n",
      "   1         -40.721          -0.867            1.0\n",
      "   2         -38.003          -1.060            0.07150272955430592\n",
      "   3         -36.853          -1.127            0.031220174971781922\n",
      "   4         -36.404          -1.154            0.012314722400751169\n",
      "   5         -36.231          -1.164            0.004794415838549524\n",
      "   6         -36.164          -1.168            0.0018349153073175936\n",
      "   7         -36.137          -1.170            0.000762340046514871\n",
      "   8         -36.131          -1.170            0.00029720366818909407\n",
      "   9         -36.129          -1.170            0.0001617579668813905\n",
      "   10         -36.129          -1.170            8.627149160848199e-05\n",
      "   11         -36.129          -1.170            4.532278571171066e-05\n",
      "   12         -36.129          -1.170            2.3551022871826417e-05\n",
      "   13         -36.129          -1.170            1.213058825191774e-05\n",
      "   14         -36.129          -1.170            6.2028930296233565e-06\n"
     ]
    }
   ],
   "source": [
    "import numpy as np\n",
    "from CADMium import Psgrid\n",
    "from CADMium import Kohnsham\n",
    "\n",
    "#Distance of the nucley from grid center\n",
    "a =  1.0\n",
    "\n",
    "#Nuclear charges on centers AB\n",
    "Za  = 6\n",
    "Zb = 0\n",
    "\n",
    "#Set polaization. 1 Unpolarized, 2 Polarized\n",
    "pol = 1\n",
    "\n",
    "Nmo = [[2],[1]]\n",
    "N   = [[4],[2]]\n",
    "\n",
    "optKS = {}\n",
    "\n",
    "\n",
    "#Grid Options\n",
    "NP = 7 #Number of points per block\n",
    "NM =  [10,10] #Number of blocks [angular, radial]\n",
    "L = np.arccosh(15./a) #Maximum radial coordinate value\n",
    "loc = np.array(range(-4,5)) #Non inclusive on upper bound\n",
    "\n",
    "#Create and initialize grid object\n",
    "grid = Psgrid(NP, NM, a, L, loc)\n",
    "grid.initialize()\n",
    "\n",
    "#Kohn Sham object\n",
    "KS_single = Kohnsham(grid, Za, Zb, pol, Nmo, N, optKS)\n",
    "KS_single.scf(optKS)\n"
   ]
  },
  {
   "cell_type": "code",
   "execution_count": 746,
   "metadata": {
    "scrolled": true
   },
   "outputs": [
    {
     "name": "stdout",
     "output_type": "stream",
     "text": [
      " Constructing integration weights ... \n",
      "\n",
      " Building finite difference opperators ... \n",
      "\n",
      " Factorizing Laplacian ... \n",
      "\n",
      " Done\n",
      " iter    Total Energy     HOMO Eigenvalue         Res       \n",
      "\n",
      "----------------------------------------------------------- \n",
      "\n",
      "   1         -93.535          0.046            1.0\n",
      "   2         -77.324          -0.979            0.20965215913473095\n",
      "   3         -76.576          -0.595            0.01488788181342559\n",
      "   4         -75.875          -0.430            0.009235951402011292\n",
      "   5         -75.829          -0.358            0.0028006391832723983\n",
      "   6         -75.313          -0.325            0.006845527894048961\n",
      "   7         -75.253          -0.310            0.000791516704137517\n",
      "   8         -75.222          -0.304            0.00042378041760939185\n",
      "   9         -75.209          -0.301            0.00017500485941719947\n",
      "   10         -75.205          -0.300            9.483450996248486e-05\n",
      "   11         -75.204          -0.299            5.024930225786743e-05\n",
      "   12         -75.204          -0.299            2.6150459316530328e-05\n",
      "   13         -75.204          -0.299            1.3422438646087074e-05\n",
      "   14         -75.204          -0.299            6.81041615397818e-06\n",
      "Total Energy: -75.20393478675055\n"
     ]
    }
   ],
   "source": [
    "import numpy as np\n",
    "from CADMium import Psgrid\n",
    "from CADMium import Kohnsham\n",
    "\n",
    "#Distance of the nucley from grid center\n",
    "a = 2.354/2\n",
    "\n",
    "#Nuclear charges on centers AB\n",
    "Za  = 6\n",
    "Zb = 6\n",
    "\n",
    "#Set polaization. 1 Unpolarized, 2 Polarized\n",
    "pol = 1\n",
    "\n",
    "Nmo = [[4],[2]]\n",
    "N   = [[8],[4]]\n",
    "\n",
    "optKS = {\n",
    "        \"SYM\" : True\n",
    "        }\n",
    "\n",
    "#Grid Options\n",
    "NP = 12 #Number of points per block\n",
    "NM =  [12,12] #Number of blocks [angular, radial]\n",
    "L = np.arccosh(15./a) #Maximum radial coordinate value\n",
    "loc = np.array(range(-4,5)) #Non inclusive on upper bound\n",
    "\n",
    "#Create and initialize grid object\n",
    "grid = Psgrid(NP, NM, a, L, loc)\n",
    "grid.initialize()\n",
    "\n",
    "#Kohn Sham object\n",
    "KS_dimer = Kohnsham(grid, Za, Zb, pol, Nmo, N, optKS)\n",
    "KS_dimer.scf(optKS)\n",
    "\n",
    "print(f\"Total Energy: {KS_dimer.E.E}\")"
   ]
  },
  {
   "cell_type": "code",
   "execution_count": null,
   "metadata": {},
   "outputs": [],
   "source": []
  }
 ],
 "metadata": {
  "kernelspec": {
   "display_name": "Python 3",
   "language": "python",
   "name": "python3"
  },
  "language_info": {
   "codemirror_mode": {
    "name": "ipython",
    "version": 3
   },
   "file_extension": ".py",
   "mimetype": "text/x-python",
   "name": "python",
   "nbconvert_exporter": "python",
   "pygments_lexer": "ipython3",
   "version": "3.8.5"
  }
 },
 "nbformat": 4,
 "nbformat_minor": 4
}

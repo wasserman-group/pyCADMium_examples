{
 "cells": [
  {
   "cell_type": "code",
   "execution_count": null,
   "metadata": {},
   "outputs": [
    {
     "name": "stdout",
     "output_type": "stream",
     "text": [
      " iter    Total Energy     HOMO Eigenvalue         Res       \n",
      "\n",
      "----------------------------------------------------------- \n",
      "\n",
      "    1      -189.26701      -3.72633e-01       +1.00000e+00\n",
      "    2      -165.07487      -9.79249e-01       +1.46553e-01\n",
      "    3      -155.45060      -1.14665e+00       +6.19121e-02\n",
      "    4      -151.35978      -1.18933e+00       +2.70271e-02\n",
      "    5      -149.54570      -1.19430e+00       +1.21306e-02\n",
      "    6      -148.71462      -1.18977e+00       +5.58840e-03\n",
      "    7      -148.35673      -1.18956e+00       +2.41240e-03\n",
      "    8      -148.11007      -1.18056e+00       +1.66541e-03\n",
      "    9      -145.59512      -1.17743e+00       +3.65167e-01\n",
      "   10      -140.38202      -8.01127e-01       +1.86190e-01\n",
      "   11      -150.09202      -9.43102e-01       +9.00732e-02\n",
      "   12      -147.40544      -1.00780e+00       +5.83547e-02\n",
      "   13      -147.59495      -9.74096e-01       +2.98686e-02\n",
      "   14      -147.21359      -9.89963e-01       +2.69424e-02\n",
      "   15      -147.36640      -9.79115e-01       +1.29971e-02\n",
      "   16      -147.28262      -9.83637e-01       +1.74778e-02\n",
      "   17      -147.33011      -9.80554e-01       +1.13862e-02\n",
      "   18      -147.30632      -9.81814e-01       +1.46746e-02\n",
      "   19      -147.32017      -9.80940e-01       +1.29046e-02\n",
      "   20      -147.31320      -9.81282e-01       +1.38532e-02\n",
      "   21      -147.31733      -9.81034e-01       +1.33471e-02\n",
      "   22      -147.31529      -9.81124e-01       +1.36155e-02\n"
     ]
    }
   ],
   "source": [
    "import numpy as np\n",
    "from CADMium import Psgrid\n",
    "from CADMium import Kohnsham\n",
    "\n",
    "#Distance of the nucley from grid center\n",
    "a =  2.27296258 / 2\n",
    "\n",
    "#Nuclear charges on centers AB\n",
    "Za  = 8\n",
    "Zb = 8\n",
    "\n",
    "#Set polaization. 1 Unpolarized, 2 Polarized\n",
    "pol = 1\n",
    "\n",
    "Nmo = [[5], [3]]\n",
    "N   = [[10],[6]]\n",
    "\n",
    "optKS = {\n",
    "        \"interaction_type\" : \"dft\",\n",
    "        \"SYM\" : False,\n",
    "        \"FRACTIONAL\" : False,\n",
    "        }\n",
    "\n",
    "#Grid Options\n",
    "NP = 7 #Number of points per block\n",
    "NM =  [16,16] #Number of blocks [angular, radial]\n",
    "L = np.arccosh(15./a) #Maximum radial coordinate value\n",
    "loc = np.array(range(-4,5)) #Non inclusive on upper bound\n",
    "\n",
    "#Create and initialize grid object\n",
    "grid = Psgrid(NP, NM, a, L, loc)\n",
    "grid.initialize()\n",
    "\n",
    "#Kohn Sham object\n",
    "KS = Kohnsham(grid, Za, Zb, pol, Nmo, N, optKS)\n",
    "KS.scf({\n",
    "        \"alpha\" : 0.4\n",
    "      })\n",
    "\n",
    "print(f\" Total Energy: {KS.E.E}\")"
   ]
  },
  {
   "cell_type": "markdown",
   "metadata": {},
   "source": [
    "#### CCCBDB Energy: Etot = -149.650890"
   ]
  },
  {
   "cell_type": "code",
   "execution_count": null,
   "metadata": {},
   "outputs": [],
   "source": []
  }
 ],
 "metadata": {
  "kernelspec": {
   "display_name": "Python 3",
   "language": "python",
   "name": "python3"
  },
  "language_info": {
   "codemirror_mode": {
    "name": "ipython",
    "version": 3
   },
   "file_extension": ".py",
   "mimetype": "text/x-python",
   "name": "python",
   "nbconvert_exporter": "python",
   "pygments_lexer": "ipython3",
   "version": "3.8.5"
  }
 },
 "nbformat": 4,
 "nbformat_minor": 4
}

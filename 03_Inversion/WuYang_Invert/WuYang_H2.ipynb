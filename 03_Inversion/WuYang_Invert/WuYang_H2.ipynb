{
 "cells": [
  {
   "cell_type": "code",
   "execution_count": 1,
   "metadata": {},
   "outputs": [
    {
     "name": "stdout",
     "output_type": "stream",
     "text": [
      "Warning: If len(KS) > 1 Has not been migrated from matlab\n",
      "                Total Energy ( a.u.)                               Inversion                \n",
      "\n",
      "                __________________                ____________________________________     \n",
      "\n",
      "Iteration         A              B                  iters      optimality        res       \n",
      "\n",
      "___________________________________________________________________________________________ \n",
      "\n"
     ]
    },
    {
     "name": "stderr",
     "output_type": "stream",
     "text": [
      "/mnt/c/Users/victo/Dropbox/PHD/cadmium/CADMium/CADMium/inverter/orbitalinvert.py:355: UserWarning: \n",
      " Convergence not reached at maximum iteration\n",
      "  warnings.warn('\\n Convergence not reached at maximum iteration')\n"
     ]
    },
    {
     "name": "stdout",
     "output_type": "stream",
     "text": [
      "    1            -0.39377        -0.39377            20       +6.716e-13      +1.000e+00\n",
      "    2            -0.39952        -0.39952            20       +3.430e-15      +9.643e-01\n",
      "    3            -0.44747        -0.44747            20       +4.999e-13      +8.739e-03\n",
      "    4            -0.47361        -0.47361            20       +8.526e-13      +1.100e+01\n",
      "    5            -0.46906        -0.46906            20       +1.030e-12      +1.101e+00\n",
      "    6            -0.45729        -0.45729            20       +4.334e-15      +4.914e-03\n",
      "    7            -0.45209        -0.45209            20       +5.742e-13      +1.642e+01\n",
      "    8            -0.45367        -0.45367            20       +5.540e-13      +1.065e+00\n",
      "    9            -0.45672        -0.45672            20       +4.395e-15      +1.481e+01\n",
      "   10            -0.45782        -0.45782            20       +5.927e-15      +6.002e-03\n",
      "   11            -0.45724        -0.45724            20       +3.858e-15      +1.073e+00\n",
      "   12            -0.45648        -0.45648            20       +6.596e-13      +5.846e-04\n",
      "   13            -0.45627        -0.45627            20       +3.524e-13      +1.507e+01\n",
      "   14            -0.45646        -0.45646            20       +1.648e-12      +3.840e-03\n",
      "   15            -0.45665        -0.45665            20       +4.764e-15      +1.931e-03\n",
      "   16            -0.45668        -0.45668            20       +5.854e-15      +5.138e-04\n",
      "   17            -0.45662        -0.45662            20       +4.156e-15      +1.036e-03\n",
      "   18            -0.45658        -0.45658            20       +4.484e-15      +3.198e-04\n",
      "   19            -0.45658        -0.45658            20       +4.353e-15      +2.736e-04\n",
      "   20            -0.45659        -0.45659            20       +5.186e-15      +2.905e-04\n",
      "   21            -0.45660        -0.45660            20       +3.997e-15      +4.307e-05\n",
      "   22            -0.45660        -0.45660            20       +4.372e-15      +1.060e-04\n",
      "   23            -0.45660        -0.45660            20       +4.276e-15      +8.363e-05\n",
      "   24            -0.45660        -0.45660            20       +3.742e-13      +4.220e-06\n",
      "   25            -0.45660        -0.45660            20       +4.028e-13      +3.537e-05\n",
      "   26            -0.45660        -0.45660            20       +6.836e-13      +2.407e-05\n",
      "   27            -0.45660        -0.45660            20       +2.877e-13      +1.164e-06\n",
      "   28            -0.45660        -0.45660            20       +3.169e-13      +1.069e-05\n",
      "   29            -0.45660        -0.45660            20       +1.021e-12      +6.784e-06\n",
      "   30            -0.45660        -0.45660            20       +4.430e-15      +1.071e+00\n",
      "   31            -0.45660        -0.45660            20       +3.298e-15      +2.063e-06\n",
      "   32            -0.45660        -0.45660            20       +4.133e-15      +1.554e-06\n",
      "   33            -0.45660        -0.45660            20       +3.326e-15      +4.248e-07\n",
      "   34            -0.45660        -0.45660            20       +6.123e-15      +2.736e-07\n",
      "   35            -0.45660        -0.45660            20       +5.159e-15      +3.866e-07\n",
      "   36            -0.45660        -0.45660            20       +5.431e-15      +2.017e-07\n",
      "   37            -0.45660        -0.45660            20       +4.260e-15      +1.009e-08\n"
     ]
    }
   ],
   "source": [
    "import numpy as np\n",
    "import matplotlib.pyplot as plt\n",
    "\n",
    "from CADMium import Pssolver\n",
    "from CADMium import Psgrid\n",
    "from CADMium import Partition\n",
    "from CADMium import Inverter\n",
    "\n",
    "a = 1.466/2\n",
    "#Nuclear charge for fragments A and B\n",
    "Za, Zb = 1,1\n",
    "#Set polarization 1-Unpolarized, 2-Polarized|\n",
    "pol = 2\n",
    "#Fragment a electrons [alpha, beta]\n",
    "Nmo_a = [[1,0]] #Number of molecular orbitals to calculate\n",
    "N_a   = [[1,0]]\n",
    "#Ensemble mix\n",
    "nu_a = 1\n",
    "#Fragment b electrons\n",
    "Nmo_b = [[1,0]]\n",
    "N_b   = [[1,0]]\n",
    "#Ensemble mix\n",
    "nu_b = 1\n",
    "\n",
    "#Molecular elctron configuration\n",
    "Nmo_m = [[1,1]]\n",
    "N_m   = [[1,1]]\n",
    "\n",
    "#Set up grid\n",
    "NP = 7\n",
    "NM = [6,6]\n",
    "L = np.arccosh(12/a)\n",
    "loc = np.array(range(-4,5)) #Stencil outline\n",
    "\n",
    "grid = Psgrid(NP, NM, a, L, loc)\n",
    "grid.initialize()\n",
    "\n",
    "part = Partition(grid, Za, Zb, pol, Nmo_a, N_a, nu_a, Nmo_b, N_b, nu_b, {  \"AB_SYM\" : True,\n",
    "                                                                           \"ENS_SPIN_SYM\" : True,  \n",
    "                                                                           \"kinetic_part_type\" : \"inversion\",\n",
    "                                                                           \"k_family\" : \"gga\",\n",
    "                                                                           \"ke_func_id\" : 500,\n",
    "                                                                            })\n",
    "\n",
    "#Setup inverter object\n",
    "mol_solver = Pssolver(grid, Nmo_m, N_m)\n",
    "part.inverter = Inverter(grid, mol_solver, {  \"AB_SYM\"         : True,\n",
    "                                              \"ENS_SPIN_SYM\"   : True,  \n",
    "                                              \"use_iterative\"  : False,\n",
    "                                              \"invert_type\"    : \"orbitalinvert\",\n",
    "                                              \"Tol_lin_solver\" : 1e-3,\n",
    "                                              \"DISP\"           : False,  \n",
    "                                            })\n",
    "\n",
    "part.scf({\"disp\"  : True,\n",
    "          \"e_tol\" : 1e-7})"
   ]
  },
  {
   "cell_type": "code",
   "execution_count": 7,
   "metadata": {},
   "outputs": [],
   "source": [
    "full, x,y = grid.plotter(part.V.vp[:,0])\n",
    "x_axis,vp = grid.axis_plot(part.V.vp[:,0] )"
   ]
  },
  {
   "cell_type": "code",
   "execution_count": 8,
   "metadata": {},
   "outputs": [
    {
     "data": {
      "text/plain": [
       "<matplotlib.colorbar.Colorbar at 0x7f49fe6b6910>"
      ]
     },
     "execution_count": 8,
     "metadata": {},
     "output_type": "execute_result"
    },
    {
     "data": {
      "image/png": "[encoded data removed]",
      "text/plain": [
       "<Figure size 900x600 with 2 Axes>"
      ]
     },
     "metadata": {
      "needs_background": "light"
     },
     "output_type": "display_data"
    }
   ],
   "source": [
    "fig = plt.figure(dpi=150)\n",
    "plt.contourf(x,y,full, levels=30, cmap=\"viridis\")\n",
    "plt.xlim([-2,2])\n",
    "plt.ylim([-2,2])\n",
    "plt.colorbar()"
   ]
  },
  {
   "cell_type": "code",
   "execution_count": 10,
   "metadata": {},
   "outputs": [
    {
     "data": {
      "text/plain": [
       "(-1.5, 1.0)"
      ]
     },
     "execution_count": 10,
     "metadata": {},
     "output_type": "execute_result"
    },
    {
     "data": {
      "image/png": "[encoded data removed]",
      "text/plain": [
       "<Figure size 720x480 with 1 Axes>"
      ]
     },
     "metadata": {
      "needs_background": "light"
     },
     "output_type": "display_data"
    }
   ],
   "source": [
    "fig = plt.figure(dpi=120)\n",
    "plt.plot(x_axis,vp)\n",
    "plt.xlim([0,5])\n",
    "plt.ylim([-1.5,1])"
   ]
  },
  {
   "cell_type": "code",
   "execution_count": 9,
   "metadata": {},
   "outputs": [
    {
     "data": {
      "application/vnd.jupyter.widget-view+json": {
       "model_id": "63c75b6bc822461aa3d19a71af5a178c",
       "version_major": 2,
       "version_minor": 0
      },
      "text/plain": [
       "Canvas(toolbar=Toolbar(toolitems=[('Home', 'Reset original view', 'home', 'home'), ('Back', 'Back to previous …"
      ]
     },
     "metadata": {},
     "output_type": "display_data"
    }
   ],
   "source": [
    "%matplotlib widget\n",
    "\n",
    "fig, ax = plt.subplots(subplot_kw={\"projection\": \"3d\"})\n",
    "surf = ax.plot_surface(x, y, full, cmap=\"viridis\",\n",
    "                       linewidth=0, antialiased=True)\n",
    "\n",
    "ax.grid(False)\n",
    "ax.set_facecolor(\"white\")\n",
    "fig.show()"
   ]
  },
  {
   "cell_type": "code",
   "execution_count": null,
   "metadata": {},
   "outputs": [],
   "source": []
  }
 ],
 "metadata": {
  "kernelspec": {
   "display_name": "Python 3",
   "language": "python",
   "name": "python3"
  },
  "language_info": {
   "codemirror_mode": {
    "name": "ipython",
    "version": 3
   },
   "file_extension": ".py",
   "mimetype": "text/x-python",
   "name": "python",
   "nbconvert_exporter": "python",
   "pygments_lexer": "ipython3",
   "version": "3.8.5"
  }
 },
 "nbformat": 4,
 "nbformat_minor": 4
}

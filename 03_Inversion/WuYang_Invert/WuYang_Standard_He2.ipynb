{
 "cells": [
  {
   "cell_type": "code",
   "execution_count": 5,
   "metadata": {},
   "outputs": [
    {
     "name": "stdout",
     "output_type": "stream",
     "text": [
      " Constructing integration weights ... \n",
      "\n",
      " Building finite difference opperators ... \n",
      "\n",
      " Factorizing Laplacian ... \n",
      "\n",
      " Done\n",
      " iter    Total Energy     HOMO Eigenvalue         Res       \n",
      "\n",
      "----------------------------------------------------------- \n",
      "\n",
      "   1         -7.238          -0.372            1.0\n",
      "   2         -6.114          -0.516            0.18383499680652243\n",
      "   3         -5.800          -0.553            0.05415850944356651\n",
      "   4         -5.710          -0.563            0.015730975920592798\n",
      "   5         -5.683          -0.565            0.0047204630731899596\n",
      "   6         -5.675          -0.565            0.0014817315253220335\n",
      "   7         -5.671          -0.566            0.0005751385675772333\n",
      "   8         -5.671          -0.566            0.00014474810668715045\n",
      "   9         -5.671          -0.566            7.011023450159625e-05\n",
      "   10         -5.671          -0.566            3.430382835614664e-05\n",
      "   11         -5.671          -0.566            1.688659933782117e-05\n",
      "   12         -5.670          -0.566            8.345278364588144e-06\n"
     ]
    }
   ],
   "source": [
    "import numpy as np\n",
    "import CADMium as cad\n",
    "import matplotlib.pyplot as plt\n",
    "\n",
    "a = 4.9322/2\n",
    "\n",
    "Za = 2\n",
    "Zb = 2\n",
    "\n",
    "pol = 1\n",
    "\n",
    "Nmo_a = [[1]]\n",
    "Na   = [[2]]\n",
    "nua  = 1\n",
    "\n",
    "Nmo_b = [[1]]\n",
    "Nb    = [[2]]\n",
    "nub   = 1\n",
    "\n",
    "Nmo = [[2]]\n",
    "Nm  = [[4]]\n",
    "\n",
    "optPartition = {\"AB_SYM\" : False,\n",
    "                \"ENS_SPIN_SYM\" : True}\n",
    "\n",
    "NP = 7\n",
    "NM = [4, 4]\n",
    "L = np.arccosh(12/a)\n",
    "loc = np.array(range(-4,5))\n",
    "\n",
    "grid = cad.Psgrid(NP, NM ,a, L, loc)\n",
    "grid.initialize()\n",
    "\n",
    "ks = cad.Kohnsham(grid, Za, Zb, pol, Nmo, Nm, {})\n",
    "ks.scf({})\n"
   ]
  },
  {
   "cell_type": "code",
   "execution_count": 6,
   "metadata": {},
   "outputs": [
    {
     "data": {
      "text/plain": [
       "-5.670495229536985"
      ]
     },
     "execution_count": 6,
     "metadata": {},
     "output_type": "execute_result"
    }
   ],
   "source": [
    "ks.E.E"
   ]
  },
  {
   "cell_type": "code",
   "execution_count": 7,
   "metadata": {},
   "outputs": [
    {
     "data": {
      "text/plain": [
       "(-5.0, 5.0)"
      ]
     },
     "execution_count": 7,
     "metadata": {},
     "output_type": "execute_result"
    },
    {
     "data": {
      "image/png": "[encoded data removed]",
      "text/plain": [
       "<Figure size 432x288 with 1 Axes>"
      ]
     },
     "metadata": {
      "needs_background": "light"
     },
     "output_type": "display_data"
    }
   ],
   "source": [
    "x, na = X.axis_plot(ks.n[:,0])\n",
    "\n",
    "plt.plot(x,na)\n",
    "\n",
    "plt.axvline(x=-2.5, ls=\":\")\n",
    "plt.axvline(x= 2.5, ls=\":\")\n",
    "\n",
    "plt.xlim(-5,5)\n"
   ]
  },
  {
   "cell_type": "code",
   "execution_count": 8,
   "metadata": {},
   "outputs": [
    {
     "ename": "NameError",
     "evalue": "name 'dm' is not defined",
     "output_type": "error",
     "traceback": [
      "\u001b[0;31m------------------------------\u001b[0m",
      "\u001b[0;31mNameError\u001b[0mTraceback (most recent call last)",
      "\u001b[0;32m<ipython-input-8-9703636732ec>\u001b[0m in \u001b[0;36m<module>\u001b[0;34m\u001b[0m\n\u001b[0;32m----> 1\u001b[0;31m \u001b[0mdm\u001b[0m\u001b[0;34m.\u001b[0m\u001b[0mshape\u001b[0m\u001b[0;34m\u001b[0m\u001b[0;34m\u001b[0m\u001b[0m\n\u001b[0m",
      "\u001b[0;31mNameError\u001b[0m: name 'dm' is not defined"
     ]
    }
   ],
   "source": [
    "dm.shape"
   ]
  },
  {
   "cell_type": "code",
   "execution_count": 9,
   "metadata": {},
   "outputs": [
    {
     "data": {
      "text/html": [
       "<pre style=\"white-space:pre;overflow-x:auto;line-height:normal;font-family:Menlo,'DejaVu Sans Mono',consolas,'Courier New',monospace\">                  Total Energy            \n",
       "\n",
       "</pre>\n"
      ],
      "text/plain": [
       "<rich.jupyter.JupyterRenderable at 0x7f58db58fb50>"
      ]
     },
     "metadata": {},
     "output_type": "display_data"
    },
    {
     "data": {
      "text/html": [
       "<pre style=\"white-space:pre;overflow-x:auto;line-height:normal;font-family:Menlo,'DejaVu Sans Mono',consolas,'Courier New',monospace\">                __________________        \n",
       "\n",
       "</pre>\n"
      ],
      "text/plain": [
       "<rich.jupyter.JupyterRenderable at 0x7f58db59b220>"
      ]
     },
     "metadata": {},
     "output_type": "display_data"
    },
    {
     "data": {
      "text/html": [
       "<pre style=\"white-space:pre;overflow-x:auto;line-height:normal;font-family:Menlo,'DejaVu Sans Mono',consolas,'Courier New',monospace\">Iteration         A            B              res     \n",
       "\n",
       "</pre>\n"
      ],
      "text/plain": [
       "<rich.jupyter.JupyterRenderable at 0x7f58db59b250>"
      ]
     },
     "metadata": {},
     "output_type": "display_data"
    },
    {
     "data": {
      "text/html": [
       "<pre style=\"white-space:pre;overflow-x:auto;line-height:normal;font-family:Menlo,'DejaVu Sans Mono',consolas,'Courier New',monospace\">_______________________________________________________\n",
       "\n",
       "</pre>\n"
      ],
      "text/plain": [
       "<rich.jupyter.JupyterRenderable at 0x7f58db58fb50>"
      ]
     },
     "metadata": {},
     "output_type": "display_data"
    },
    {
     "data": {
      "text/html": [
       "<pre style=\"white-space:pre;overflow-x:auto;line-height:normal;font-family:Menlo,'DejaVu Sans Mono',consolas,'Courier New',monospace\">    <span style=\"color: #000080; font-weight: bold\">1</span>           <span style=\"color: #000080; font-weight: bold\">-3.46501</span>     <span style=\"color: #000080; font-weight: bold\">-3.46501</span>       <span style=\"color: #000080; font-weight: bold\">1.000e+00</span> \n",
       "</pre>\n"
      ],
      "text/plain": [
       "<rich.jupyter.JupyterRenderable at 0x7f58db58fb50>"
      ]
     },
     "metadata": {},
     "output_type": "display_data"
    },
    {
     "data": {
      "text/html": [
       "<pre style=\"white-space:pre;overflow-x:auto;line-height:normal;font-family:Menlo,'DejaVu Sans Mono',consolas,'Courier New',monospace\">    <span style=\"color: #000080; font-weight: bold\">2</span>           <span style=\"color: #000080; font-weight: bold\">-2.92003</span>     <span style=\"color: #000080; font-weight: bold\">-2.92003</span>       <span style=\"color: #000080; font-weight: bold\">2.167e-01</span> \n",
       "</pre>\n"
      ],
      "text/plain": [
       "<rich.jupyter.JupyterRenderable at 0x7f58db58fb50>"
      ]
     },
     "metadata": {},
     "output_type": "display_data"
    },
    {
     "data": {
      "text/html": [
       "<pre style=\"white-space:pre;overflow-x:auto;line-height:normal;font-family:Menlo,'DejaVu Sans Mono',consolas,'Courier New',monospace\">    <span style=\"color: #000080; font-weight: bold\">3</span>           <span style=\"color: #000080; font-weight: bold\">-2.84923</span>     <span style=\"color: #000080; font-weight: bold\">-2.84923</span>       <span style=\"color: #000080; font-weight: bold\">2.897e-02</span> \n",
       "</pre>\n"
      ],
      "text/plain": [
       "<rich.jupyter.JupyterRenderable at 0x7f58db59b2e0>"
      ]
     },
     "metadata": {},
     "output_type": "display_data"
    },
    {
     "data": {
      "text/html": [
       "<pre style=\"white-space:pre;overflow-x:auto;line-height:normal;font-family:Menlo,'DejaVu Sans Mono',consolas,'Courier New',monospace\">    <span style=\"color: #000080; font-weight: bold\">4</span>           <span style=\"color: #000080; font-weight: bold\">-2.83804</span>     <span style=\"color: #000080; font-weight: bold\">-2.83804</span>       <span style=\"color: #000080; font-weight: bold\">4.603e-03</span> \n",
       "</pre>\n"
      ],
      "text/plain": [
       "<rich.jupyter.JupyterRenderable at 0x7f58db59b250>"
      ]
     },
     "metadata": {},
     "output_type": "display_data"
    },
    {
     "data": {
      "text/html": [
       "<pre style=\"white-space:pre;overflow-x:auto;line-height:normal;font-family:Menlo,'DejaVu Sans Mono',consolas,'Courier New',monospace\">    <span style=\"color: #000080; font-weight: bold\">5</span>           <span style=\"color: #000080; font-weight: bold\">-2.83586</span>     <span style=\"color: #000080; font-weight: bold\">-2.83586</span>       <span style=\"color: #000080; font-weight: bold\">8.968e-04</span> \n",
       "</pre>\n"
      ],
      "text/plain": [
       "<rich.jupyter.JupyterRenderable at 0x7f58db59b250>"
      ]
     },
     "metadata": {},
     "output_type": "display_data"
    },
    {
     "data": {
      "text/html": [
       "<pre style=\"white-space:pre;overflow-x:auto;line-height:normal;font-family:Menlo,'DejaVu Sans Mono',consolas,'Courier New',monospace\">    <span style=\"color: #000080; font-weight: bold\">6</span>           <span style=\"color: #000080; font-weight: bold\">-2.83531</span>     <span style=\"color: #000080; font-weight: bold\">-2.83531</span>       <span style=\"color: #000080; font-weight: bold\">2.546e-04</span> \n",
       "</pre>\n"
      ],
      "text/plain": [
       "<rich.jupyter.JupyterRenderable at 0x7f58db59b220>"
      ]
     },
     "metadata": {},
     "output_type": "display_data"
    },
    {
     "data": {
      "text/html": [
       "<pre style=\"white-space:pre;overflow-x:auto;line-height:normal;font-family:Menlo,'DejaVu Sans Mono',consolas,'Courier New',monospace\">    <span style=\"color: #000080; font-weight: bold\">7</span>           <span style=\"color: #000080; font-weight: bold\">-2.83514</span>     <span style=\"color: #000080; font-weight: bold\">-2.83514</span>       <span style=\"color: #000080; font-weight: bold\">9.720e-05</span> \n",
       "</pre>\n"
      ],
      "text/plain": [
       "<rich.jupyter.JupyterRenderable at 0x7f58db59b1f0>"
      ]
     },
     "metadata": {},
     "output_type": "display_data"
    },
    {
     "data": {
      "text/html": [
       "<pre style=\"white-space:pre;overflow-x:auto;line-height:normal;font-family:Menlo,'DejaVu Sans Mono',consolas,'Courier New',monospace\">    <span style=\"color: #000080; font-weight: bold\">8</span>           <span style=\"color: #000080; font-weight: bold\">-2.83508</span>     <span style=\"color: #000080; font-weight: bold\">-2.83508</span>       <span style=\"color: #000080; font-weight: bold\">3.794e-05</span> \n",
       "</pre>\n"
      ],
      "text/plain": [
       "<rich.jupyter.JupyterRenderable at 0x7f58db58fb50>"
      ]
     },
     "metadata": {},
     "output_type": "display_data"
    },
    {
     "data": {
      "text/html": [
       "<pre style=\"white-space:pre;overflow-x:auto;line-height:normal;font-family:Menlo,'DejaVu Sans Mono',consolas,'Courier New',monospace\">    <span style=\"color: #000080; font-weight: bold\">9</span>           <span style=\"color: #000080; font-weight: bold\">-2.83506</span>     <span style=\"color: #000080; font-weight: bold\">-2.83506</span>       <span style=\"color: #000080; font-weight: bold\">1.493e-05</span> \n",
       "</pre>\n"
      ],
      "text/plain": [
       "<rich.jupyter.JupyterRenderable at 0x7f590c04c790>"
      ]
     },
     "metadata": {},
     "output_type": "display_data"
    },
    {
     "data": {
      "text/html": [
       "<pre style=\"white-space:pre;overflow-x:auto;line-height:normal;font-family:Menlo,'DejaVu Sans Mono',consolas,'Courier New',monospace\">   <span style=\"color: #000080; font-weight: bold\">10</span>           <span style=\"color: #000080; font-weight: bold\">-2.83505</span>     <span style=\"color: #000080; font-weight: bold\">-2.83505</span>       <span style=\"color: #000080; font-weight: bold\">5.893e-06</span> \n",
       "</pre>\n"
      ],
      "text/plain": [
       "<rich.jupyter.JupyterRenderable at 0x7f58db58fe80>"
      ]
     },
     "metadata": {},
     "output_type": "display_data"
    },
    {
     "data": {
      "text/html": [
       "<pre style=\"white-space:pre;overflow-x:auto;line-height:normal;font-family:Menlo,'DejaVu Sans Mono',consolas,'Courier New',monospace\">   <span style=\"color: #000080; font-weight: bold\">11</span>           <span style=\"color: #000080; font-weight: bold\">-2.83505</span>     <span style=\"color: #000080; font-weight: bold\">-2.83505</span>       <span style=\"color: #000080; font-weight: bold\">2.329e-06</span> \n",
       "</pre>\n"
      ],
      "text/plain": [
       "<rich.jupyter.JupyterRenderable at 0x7f58db58fe80>"
      ]
     },
     "metadata": {},
     "output_type": "display_data"
    },
    {
     "data": {
      "text/html": [
       "<pre style=\"white-space:pre;overflow-x:auto;line-height:normal;font-family:Menlo,'DejaVu Sans Mono',consolas,'Courier New',monospace\">   <span style=\"color: #000080; font-weight: bold\">12</span>           <span style=\"color: #000080; font-weight: bold\">-2.83505</span>     <span style=\"color: #000080; font-weight: bold\">-2.83505</span>       <span style=\"color: #000080; font-weight: bold\">9.207e-07</span> \n",
       "</pre>\n"
      ],
      "text/plain": [
       "<rich.jupyter.JupyterRenderable at 0x7f58db58fe50>"
      ]
     },
     "metadata": {},
     "output_type": "display_data"
    },
    {
     "data": {
      "text/html": [
       "<pre style=\"white-space:pre;overflow-x:auto;line-height:normal;font-family:Menlo,'DejaVu Sans Mono',consolas,'Courier New',monospace\">   <span style=\"color: #000080; font-weight: bold\">13</span>           <span style=\"color: #000080; font-weight: bold\">-2.83504</span>     <span style=\"color: #000080; font-weight: bold\">-2.83504</span>       <span style=\"color: #000080; font-weight: bold\">3.639e-07</span> \n",
       "</pre>\n"
      ],
      "text/plain": [
       "<rich.jupyter.JupyterRenderable at 0x7f58db59b2e0>"
      ]
     },
     "metadata": {},
     "output_type": "display_data"
    },
    {
     "data": {
      "text/html": [
       "<pre style=\"white-space:pre;overflow-x:auto;line-height:normal;font-family:Menlo,'DejaVu Sans Mono',consolas,'Courier New',monospace\">   <span style=\"color: #000080; font-weight: bold\">14</span>           <span style=\"color: #000080; font-weight: bold\">-2.83504</span>     <span style=\"color: #000080; font-weight: bold\">-2.83504</span>       <span style=\"color: #000080; font-weight: bold\">1.438e-07</span> \n",
       "</pre>\n"
      ],
      "text/plain": [
       "<rich.jupyter.JupyterRenderable at 0x7f590c04c790>"
      ]
     },
     "metadata": {},
     "output_type": "display_data"
    },
    {
     "data": {
      "text/html": [
       "<pre style=\"white-space:pre;overflow-x:auto;line-height:normal;font-family:Menlo,'DejaVu Sans Mono',consolas,'Courier New',monospace\">   <span style=\"color: #000080; font-weight: bold\">15</span>           <span style=\"color: #000080; font-weight: bold\">-2.83504</span>     <span style=\"color: #000080; font-weight: bold\">-2.83504</span>       <span style=\"color: #000080; font-weight: bold\">5.678e-08</span> \n",
       "</pre>\n"
      ],
      "text/plain": [
       "<rich.jupyter.JupyterRenderable at 0x7f590c04c790>"
      ]
     },
     "metadata": {},
     "output_type": "display_data"
    }
   ],
   "source": [
    "#Set up Inversion\n",
    "dm = ks.n\n",
    "\n",
    "#Options\n",
    "optInversion = {\"invert_type\" : \"wuyang\"}\n",
    "\n",
    "#Set up objects\n",
    "#Partition object required for initial guess\n",
    "P  = cad.Pssolver( X, Nmo, Nm )\n",
    "WY = cad.Inverter( X, P, optInversion )\n",
    "part = cad.Partition( X, Za, Zb, pol, Nmo_a, Na, nua, Nmo_b, Nb, nub, {} )\n",
    "\n",
    "\n",
    "part.optPartition.isolated = True\n",
    "part.scf({\"disp\" : True, \n",
    "          \"e_tol\" : 1e-7})\n"
   ]
  },
  {
   "cell_type": "code",
   "execution_count": 16,
   "metadata": {},
   "outputs": [
    {
     "data": {
      "text/plain": [
       "(625, 1)"
      ]
     },
     "execution_count": 16,
     "metadata": {},
     "output_type": "execute_result"
    }
   ],
   "source": [
    "dm.shape"
   ]
  },
  {
   "cell_type": "code",
   "execution_count": 11,
   "metadata": {},
   "outputs": [],
   "source": [
    "#Get initial guess\n",
    "phi0, e0, v0 = part.initialguessinvert(ispin=0) \n",
    "success, inv_info = WY.invert( dm, v0, phi0, e0, )"
   ]
  },
  {
   "cell_type": "code",
   "execution_count": 12,
   "metadata": {},
   "outputs": [],
   "source": [
    "vs = WY.vs[:,0]\n",
    "\n",
    "ks.set_veff_external(vs)\n",
    "n_inv = ks.calc_density()"
   ]
  },
  {
   "cell_type": "code",
   "execution_count": 20,
   "metadata": {},
   "outputs": [
    {
     "name": "stdout",
     "output_type": "stream",
     "text": [
      "(625, 1)\n",
      "(625, 1)\n"
     ]
    }
   ],
   "source": [
    "print(phi0.shape)\n",
    "print(dm.shape)"
   ]
  },
  {
   "cell_type": "code",
   "execution_count": null,
   "metadata": {},
   "outputs": [],
   "source": [
    "x_inv, y_inv = X.axis_plot(n_inv)"
   ]
  },
  {
   "cell_type": "code",
   "execution_count": null,
   "metadata": {},
   "outputs": [],
   "source": [
    "print(\"Comparison of target and scf density with inverted potential\")\n",
    "plt.plot(x_inv, y_inv)\n",
    "plt.plot(x,na)"
   ]
  },
  {
   "cell_type": "code",
   "execution_count": null,
   "metadata": {},
   "outputs": [],
   "source": [
    "plt.plot( x, np.abs(y_inv[:,0]-na))"
   ]
  },
  {
   "cell_type": "code",
   "execution_count": null,
   "metadata": {},
   "outputs": [],
   "source": []
  }
 ],
 "metadata": {
  "kernelspec": {
   "display_name": "Python 3",
   "language": "python",
   "name": "python3"
  },
  "language_info": {
   "codemirror_mode": {
    "name": "ipython",
    "version": 3
   },
   "file_extension": ".py",
   "mimetype": "text/x-python",
   "name": "python",
   "nbconvert_exporter": "python",
   "pygments_lexer": "ipython3",
   "version": "3.8.5"
  }
 },
 "nbformat": 4,
 "nbformat_minor": 4
}

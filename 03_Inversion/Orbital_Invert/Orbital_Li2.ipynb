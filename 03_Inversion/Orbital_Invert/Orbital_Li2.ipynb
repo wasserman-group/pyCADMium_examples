{
 "cells": [
  {
   "cell_type": "code",
   "execution_count": 1,
   "metadata": {},
   "outputs": [
    {
     "name": "stdout",
     "output_type": "stream",
     "text": [
      " Constructing integration weights ... \n",
      "\n",
      " Building finite difference opperators ... \n",
      "\n",
      " Factorizing Laplacian ... \n",
      "\n",
      " Done\n"
     ]
    },
    {
     "data": {
      "text/html": [
       "<pre style=\"white-space:pre;overflow-x:auto;line-height:normal;font-family:Menlo,'DejaVu Sans Mono',consolas,'Courier New',monospace\">                  Total Energy            \n",
       "\n",
       "</pre>\n"
      ],
      "text/plain": [
       "<rich.jupyter.JupyterRenderable at 0x7f6aa6709bb0>"
      ]
     },
     "metadata": {},
     "output_type": "display_data"
    },
    {
     "data": {
      "text/html": [
       "<pre style=\"white-space:pre;overflow-x:auto;line-height:normal;font-family:Menlo,'DejaVu Sans Mono',consolas,'Courier New',monospace\">                __________________        \n",
       "\n",
       "</pre>\n"
      ],
      "text/plain": [
       "<rich.jupyter.JupyterRenderable at 0x7f6aa67095e0>"
      ]
     },
     "metadata": {},
     "output_type": "display_data"
    },
    {
     "data": {
      "text/html": [
       "<pre style=\"white-space:pre;overflow-x:auto;line-height:normal;font-family:Menlo,'DejaVu Sans Mono',consolas,'Courier New',monospace\">Iteration         A            B              res     \n",
       "\n",
       "</pre>\n"
      ],
      "text/plain": [
       "<rich.jupyter.JupyterRenderable at 0x7f6acdffa0d0>"
      ]
     },
     "metadata": {},
     "output_type": "display_data"
    },
    {
     "data": {
      "text/html": [
       "<pre style=\"white-space:pre;overflow-x:auto;line-height:normal;font-family:Menlo,'DejaVu Sans Mono',consolas,'Courier New',monospace\">_______________________________________________________\n",
       "\n",
       "</pre>\n"
      ],
      "text/plain": [
       "<rich.jupyter.JupyterRenderable at 0x7f6aa67095b0>"
      ]
     },
     "metadata": {},
     "output_type": "display_data"
    },
    {
     "data": {
      "text/html": [
       "<pre style=\"white-space:pre;overflow-x:auto;line-height:normal;font-family:Menlo,'DejaVu Sans Mono',consolas,'Courier New',monospace\">Dif E <span style=\"color: #000080; font-weight: bold\">1.0</span>\n",
       "</pre>\n"
      ],
      "text/plain": [
       "<rich.jupyter.JupyterRenderable at 0x7f6aa6604d90>"
      ]
     },
     "metadata": {},
     "output_type": "display_data"
    },
    {
     "data": {
      "text/html": [
       "<pre style=\"white-space:pre;overflow-x:auto;line-height:normal;font-family:Menlo,'DejaVu Sans Mono',consolas,'Courier New',monospace\">dif nf <span style=\"color: #000080; font-weight: bold\">0.37161446539057635</span>\n",
       "</pre>\n"
      ],
      "text/plain": [
       "<rich.jupyter.JupyterRenderable at 0x7f6aa6709bb0>"
      ]
     },
     "metadata": {},
     "output_type": "display_data"
    },
    {
     "data": {
      "text/html": [
       "<pre style=\"white-space:pre;overflow-x:auto;line-height:normal;font-family:Menlo,'DejaVu Sans Mono',consolas,'Courier New',monospace\">    <span style=\"color: #000080; font-weight: bold\">1</span>           <span style=\"color: #000080; font-weight: bold\">-8.62301</span>     <span style=\"color: #000080; font-weight: bold\">-8.62301</span>       <span style=\"color: #000080; font-weight: bold\">1.000e+00</span> \n",
       "</pre>\n"
      ],
      "text/plain": [
       "<rich.jupyter.JupyterRenderable at 0x7f6aa65ad970>"
      ]
     },
     "metadata": {},
     "output_type": "display_data"
    },
    {
     "data": {
      "text/html": [
       "<pre style=\"white-space:pre;overflow-x:auto;line-height:normal;font-family:Menlo,'DejaVu Sans Mono',consolas,'Courier New',monospace\">Dif E <span style=\"color: #000080; font-weight: bold\">0.1530318640997939</span>\n",
       "</pre>\n"
      ],
      "text/plain": [
       "<rich.jupyter.JupyterRenderable at 0x7f6aa65ad7c0>"
      ]
     },
     "metadata": {},
     "output_type": "display_data"
    },
    {
     "data": {
      "text/html": [
       "<pre style=\"white-space:pre;overflow-x:auto;line-height:normal;font-family:Menlo,'DejaVu Sans Mono',consolas,'Courier New',monospace\">dif nf <span style=\"color: #000080; font-weight: bold\">0.12797741392541612</span>\n",
       "</pre>\n"
      ],
      "text/plain": [
       "<rich.jupyter.JupyterRenderable at 0x7f6aa67095b0>"
      ]
     },
     "metadata": {},
     "output_type": "display_data"
    },
    {
     "data": {
      "text/html": [
       "<pre style=\"white-space:pre;overflow-x:auto;line-height:normal;font-family:Menlo,'DejaVu Sans Mono',consolas,'Courier New',monospace\">    <span style=\"color: #000080; font-weight: bold\">2</span>           <span style=\"color: #000080; font-weight: bold\">-7.59515</span>     <span style=\"color: #000080; font-weight: bold\">-7.59515</span>       <span style=\"color: #000080; font-weight: bold\">1.530e-01</span> \n",
       "</pre>\n"
      ],
      "text/plain": [
       "<rich.jupyter.JupyterRenderable at 0x7f6aa6604d90>"
      ]
     },
     "metadata": {},
     "output_type": "display_data"
    },
    {
     "data": {
      "text/html": [
       "<pre style=\"white-space:pre;overflow-x:auto;line-height:normal;font-family:Menlo,'DejaVu Sans Mono',consolas,'Courier New',monospace\">Dif E <span style=\"color: #000080; font-weight: bold\">0.0319441153451636</span>\n",
       "</pre>\n"
      ],
      "text/plain": [
       "<rich.jupyter.JupyterRenderable at 0x7f6aa6604d90>"
      ]
     },
     "metadata": {},
     "output_type": "display_data"
    },
    {
     "data": {
      "text/html": [
       "<pre style=\"white-space:pre;overflow-x:auto;line-height:normal;font-family:Menlo,'DejaVu Sans Mono',consolas,'Courier New',monospace\">dif nf <span style=\"color: #000080; font-weight: bold\">0.057576768141962636</span>\n",
       "</pre>\n"
      ],
      "text/plain": [
       "<rich.jupyter.JupyterRenderable at 0x7f6aa6709b50>"
      ]
     },
     "metadata": {},
     "output_type": "display_data"
    },
    {
     "data": {
      "text/html": [
       "<pre style=\"white-space:pre;overflow-x:auto;line-height:normal;font-family:Menlo,'DejaVu Sans Mono',consolas,'Courier New',monospace\">    <span style=\"color: #000080; font-weight: bold\">3</span>           <span style=\"color: #000080; font-weight: bold\">-7.38724</span>     <span style=\"color: #000080; font-weight: bold\">-7.38724</span>       <span style=\"color: #000080; font-weight: bold\">5.758e-02</span> \n",
       "</pre>\n"
      ],
      "text/plain": [
       "<rich.jupyter.JupyterRenderable at 0x7f6aa6709bb0>"
      ]
     },
     "metadata": {},
     "output_type": "display_data"
    },
    {
     "data": {
      "text/html": [
       "<pre style=\"white-space:pre;overflow-x:auto;line-height:normal;font-family:Menlo,'DejaVu Sans Mono',consolas,'Courier New',monospace\">Dif E <span style=\"color: #000080; font-weight: bold\">0.005866274066268676</span>\n",
       "</pre>\n"
      ],
      "text/plain": [
       "<rich.jupyter.JupyterRenderable at 0x7f6aa6604d90>"
      ]
     },
     "metadata": {},
     "output_type": "display_data"
    },
    {
     "data": {
      "text/html": [
       "<pre style=\"white-space:pre;overflow-x:auto;line-height:normal;font-family:Menlo,'DejaVu Sans Mono',consolas,'Courier New',monospace\">dif nf <span style=\"color: #000080; font-weight: bold\">0.027525660944223516</span>\n",
       "</pre>\n"
      ],
      "text/plain": [
       "<rich.jupyter.JupyterRenderable at 0x7f6aa67095e0>"
      ]
     },
     "metadata": {},
     "output_type": "display_data"
    },
    {
     "data": {
      "text/html": [
       "<pre style=\"white-space:pre;overflow-x:auto;line-height:normal;font-family:Menlo,'DejaVu Sans Mono',consolas,'Courier New',monospace\">    <span style=\"color: #000080; font-weight: bold\">4</span>           <span style=\"color: #000080; font-weight: bold\">-7.34928</span>     <span style=\"color: #000080; font-weight: bold\">-7.34928</span>       <span style=\"color: #000080; font-weight: bold\">2.753e-02</span> \n",
       "</pre>\n"
      ],
      "text/plain": [
       "<rich.jupyter.JupyterRenderable at 0x7f6aa65ad7c0>"
      ]
     },
     "metadata": {},
     "output_type": "display_data"
    },
    {
     "data": {
      "text/html": [
       "<pre style=\"white-space:pre;overflow-x:auto;line-height:normal;font-family:Menlo,'DejaVu Sans Mono',consolas,'Courier New',monospace\">Dif E <span style=\"color: #000080; font-weight: bold\">0.0009245147020958778</span>\n",
       "</pre>\n"
      ],
      "text/plain": [
       "<rich.jupyter.JupyterRenderable at 0x7f6aa6604cd0>"
      ]
     },
     "metadata": {},
     "output_type": "display_data"
    },
    {
     "data": {
      "text/html": [
       "<pre style=\"white-space:pre;overflow-x:auto;line-height:normal;font-family:Menlo,'DejaVu Sans Mono',consolas,'Courier New',monospace\">dif nf <span style=\"color: #000080; font-weight: bold\">0.012914092118755126</span>\n",
       "</pre>\n"
      ],
      "text/plain": [
       "<rich.jupyter.JupyterRenderable at 0x7f6aa6709af0>"
      ]
     },
     "metadata": {},
     "output_type": "display_data"
    },
    {
     "data": {
      "text/html": [
       "<pre style=\"white-space:pre;overflow-x:auto;line-height:normal;font-family:Menlo,'DejaVu Sans Mono',consolas,'Courier New',monospace\">    <span style=\"color: #000080; font-weight: bold\">5</span>           <span style=\"color: #000080; font-weight: bold\">-7.34331</span>     <span style=\"color: #000080; font-weight: bold\">-7.34331</span>       <span style=\"color: #000080; font-weight: bold\">1.291e-02</span> \n",
       "</pre>\n"
      ],
      "text/plain": [
       "<rich.jupyter.JupyterRenderable at 0x7f6aa65ad100>"
      ]
     },
     "metadata": {},
     "output_type": "display_data"
    },
    {
     "data": {
      "text/html": [
       "<pre style=\"white-space:pre;overflow-x:auto;line-height:normal;font-family:Menlo,'DejaVu Sans Mono',consolas,'Courier New',monospace\">Dif E <span style=\"color: #000080; font-weight: bold\">4.713106484338718e-05</span>\n",
       "</pre>\n"
      ],
      "text/plain": [
       "<rich.jupyter.JupyterRenderable at 0x7f6aa6604cd0>"
      ]
     },
     "metadata": {},
     "output_type": "display_data"
    },
    {
     "data": {
      "text/html": [
       "<pre style=\"white-space:pre;overflow-x:auto;line-height:normal;font-family:Menlo,'DejaVu Sans Mono',consolas,'Courier New',monospace\">dif nf <span style=\"color: #000080; font-weight: bold\">0.006027337140660929</span>\n",
       "</pre>\n"
      ],
      "text/plain": [
       "<rich.jupyter.JupyterRenderable at 0x7f6aa6709b50>"
      ]
     },
     "metadata": {},
     "output_type": "display_data"
    },
    {
     "data": {
      "text/html": [
       "<pre style=\"white-space:pre;overflow-x:auto;line-height:normal;font-family:Menlo,'DejaVu Sans Mono',consolas,'Courier New',monospace\">    <span style=\"color: #000080; font-weight: bold\">6</span>           <span style=\"color: #000080; font-weight: bold\">-7.34300</span>     <span style=\"color: #000080; font-weight: bold\">-7.34300</span>       <span style=\"color: #000080; font-weight: bold\">6.027e-03</span> \n",
       "</pre>\n"
      ],
      "text/plain": [
       "<rich.jupyter.JupyterRenderable at 0x7f6aa65ad7c0>"
      ]
     },
     "metadata": {},
     "output_type": "display_data"
    },
    {
     "data": {
      "text/html": [
       "<pre style=\"white-space:pre;overflow-x:auto;line-height:normal;font-family:Menlo,'DejaVu Sans Mono',consolas,'Courier New',monospace\">Dif E <span style=\"color: #000080; font-weight: bold\">7.430210167091096e-05</span>\n",
       "</pre>\n"
      ],
      "text/plain": [
       "<rich.jupyter.JupyterRenderable at 0x7f6aa6604d90>"
      ]
     },
     "metadata": {},
     "output_type": "display_data"
    },
    {
     "data": {
      "text/html": [
       "<pre style=\"white-space:pre;overflow-x:auto;line-height:normal;font-family:Menlo,'DejaVu Sans Mono',consolas,'Courier New',monospace\">dif nf <span style=\"color: #000080; font-weight: bold\">0.002682938732610665</span>\n",
       "</pre>\n"
      ],
      "text/plain": [
       "<rich.jupyter.JupyterRenderable at 0x7f6aa6709af0>"
      ]
     },
     "metadata": {},
     "output_type": "display_data"
    },
    {
     "data": {
      "text/html": [
       "<pre style=\"white-space:pre;overflow-x:auto;line-height:normal;font-family:Menlo,'DejaVu Sans Mono',consolas,'Courier New',monospace\">    <span style=\"color: #000080; font-weight: bold\">7</span>           <span style=\"color: #000080; font-weight: bold\">-7.34348</span>     <span style=\"color: #000080; font-weight: bold\">-7.34348</span>       <span style=\"color: #000080; font-weight: bold\">2.683e-03</span> \n",
       "</pre>\n"
      ],
      "text/plain": [
       "<rich.jupyter.JupyterRenderable at 0x7f6aa65ad100>"
      ]
     },
     "metadata": {},
     "output_type": "display_data"
    },
    {
     "data": {
      "text/html": [
       "<pre style=\"white-space:pre;overflow-x:auto;line-height:normal;font-family:Menlo,'DejaVu Sans Mono',consolas,'Courier New',monospace\">Dif E <span style=\"color: #000080; font-weight: bold\">2.5007424200289657e-05</span>\n",
       "</pre>\n"
      ],
      "text/plain": [
       "<rich.jupyter.JupyterRenderable at 0x7f6aa6604d90>"
      ]
     },
     "metadata": {},
     "output_type": "display_data"
    },
    {
     "data": {
      "text/html": [
       "<pre style=\"white-space:pre;overflow-x:auto;line-height:normal;font-family:Menlo,'DejaVu Sans Mono',consolas,'Courier New',monospace\">dif nf <span style=\"color: #000080; font-weight: bold\">0.00137665544032588</span>\n",
       "</pre>\n"
      ],
      "text/plain": [
       "<rich.jupyter.JupyterRenderable at 0x7f6aa6709c40>"
      ]
     },
     "metadata": {},
     "output_type": "display_data"
    },
    {
     "data": {
      "text/html": [
       "<pre style=\"white-space:pre;overflow-x:auto;line-height:normal;font-family:Menlo,'DejaVu Sans Mono',consolas,'Courier New',monospace\">    <span style=\"color: #000080; font-weight: bold\">8</span>           <span style=\"color: #000080; font-weight: bold\">-7.34364</span>     <span style=\"color: #000080; font-weight: bold\">-7.34364</span>       <span style=\"color: #000080; font-weight: bold\">1.377e-03</span> \n",
       "</pre>\n"
      ],
      "text/plain": [
       "<rich.jupyter.JupyterRenderable at 0x7f6aa65ad100>"
      ]
     },
     "metadata": {},
     "output_type": "display_data"
    },
    {
     "data": {
      "text/html": [
       "<pre style=\"white-space:pre;overflow-x:auto;line-height:normal;font-family:Menlo,'DejaVu Sans Mono',consolas,'Courier New',monospace\">Dif E <span style=\"color: #000080; font-weight: bold\">2.275135814557846e-05</span>\n",
       "</pre>\n"
      ],
      "text/plain": [
       "<rich.jupyter.JupyterRenderable at 0x7f6aa65ad970>"
      ]
     },
     "metadata": {},
     "output_type": "display_data"
    },
    {
     "data": {
      "text/html": [
       "<pre style=\"white-space:pre;overflow-x:auto;line-height:normal;font-family:Menlo,'DejaVu Sans Mono',consolas,'Courier New',monospace\">dif nf <span style=\"color: #000080; font-weight: bold\">0.0006411491514031553</span>\n",
       "</pre>\n"
      ],
      "text/plain": [
       "<rich.jupyter.JupyterRenderable at 0x7f6aa67095b0>"
      ]
     },
     "metadata": {},
     "output_type": "display_data"
    },
    {
     "data": {
      "text/html": [
       "<pre style=\"white-space:pre;overflow-x:auto;line-height:normal;font-family:Menlo,'DejaVu Sans Mono',consolas,'Courier New',monospace\">    <span style=\"color: #000080; font-weight: bold\">9</span>           <span style=\"color: #000080; font-weight: bold\">-7.34379</span>     <span style=\"color: #000080; font-weight: bold\">-7.34379</span>       <span style=\"color: #000080; font-weight: bold\">6.411e-04</span> \n",
       "</pre>\n"
      ],
      "text/plain": [
       "<rich.jupyter.JupyterRenderable at 0x7f6aa6604d90>"
      ]
     },
     "metadata": {},
     "output_type": "display_data"
    },
    {
     "data": {
      "text/html": [
       "<pre style=\"white-space:pre;overflow-x:auto;line-height:normal;font-family:Menlo,'DejaVu Sans Mono',consolas,'Courier New',monospace\">Dif E <span style=\"color: #000080; font-weight: bold\">1.0201264493977582e-05</span>\n",
       "</pre>\n"
      ],
      "text/plain": [
       "<rich.jupyter.JupyterRenderable at 0x7f6aa6604cd0>"
      ]
     },
     "metadata": {},
     "output_type": "display_data"
    },
    {
     "data": {
      "text/html": [
       "<pre style=\"white-space:pre;overflow-x:auto;line-height:normal;font-family:Menlo,'DejaVu Sans Mono',consolas,'Courier New',monospace\">dif nf <span style=\"color: #000080; font-weight: bold\">0.0002991386894767145</span>\n",
       "</pre>\n"
      ],
      "text/plain": [
       "<rich.jupyter.JupyterRenderable at 0x7f6aa67095e0>"
      ]
     },
     "metadata": {},
     "output_type": "display_data"
    },
    {
     "data": {
      "text/html": [
       "<pre style=\"white-space:pre;overflow-x:auto;line-height:normal;font-family:Menlo,'DejaVu Sans Mono',consolas,'Courier New',monospace\">   <span style=\"color: #000080; font-weight: bold\">10</span>           <span style=\"color: #000080; font-weight: bold\">-7.34386</span>     <span style=\"color: #000080; font-weight: bold\">-7.34386</span>       <span style=\"color: #000080; font-weight: bold\">2.991e-04</span> \n",
       "</pre>\n"
      ],
      "text/plain": [
       "<rich.jupyter.JupyterRenderable at 0x7f6aa65ad100>"
      ]
     },
     "metadata": {},
     "output_type": "display_data"
    },
    {
     "data": {
      "text/html": [
       "<pre style=\"white-space:pre;overflow-x:auto;line-height:normal;font-family:Menlo,'DejaVu Sans Mono',consolas,'Courier New',monospace\">Dif E <span style=\"color: #000080; font-weight: bold\">4.37216031685728e-06</span>\n",
       "</pre>\n"
      ],
      "text/plain": [
       "<rich.jupyter.JupyterRenderable at 0x7f6aa65ad7c0>"
      ]
     },
     "metadata": {},
     "output_type": "display_data"
    },
    {
     "data": {
      "text/html": [
       "<pre style=\"white-space:pre;overflow-x:auto;line-height:normal;font-family:Menlo,'DejaVu Sans Mono',consolas,'Courier New',monospace\">dif nf <span style=\"color: #000080; font-weight: bold\">0.0001403229240407679</span>\n",
       "</pre>\n"
      ],
      "text/plain": [
       "<rich.jupyter.JupyterRenderable at 0x7f6aa6709820>"
      ]
     },
     "metadata": {},
     "output_type": "display_data"
    },
    {
     "data": {
      "text/html": [
       "<pre style=\"white-space:pre;overflow-x:auto;line-height:normal;font-family:Menlo,'DejaVu Sans Mono',consolas,'Courier New',monospace\">   <span style=\"color: #000080; font-weight: bold\">11</span>           <span style=\"color: #000080; font-weight: bold\">-7.34388</span>     <span style=\"color: #000080; font-weight: bold\">-7.34388</span>       <span style=\"color: #000080; font-weight: bold\">1.403e-04</span> \n",
       "</pre>\n"
      ],
      "text/plain": [
       "<rich.jupyter.JupyterRenderable at 0x7f6aa6604cd0>"
      ]
     },
     "metadata": {},
     "output_type": "display_data"
    },
    {
     "data": {
      "text/html": [
       "<pre style=\"white-space:pre;overflow-x:auto;line-height:normal;font-family:Menlo,'DejaVu Sans Mono',consolas,'Courier New',monospace\">Dif E <span style=\"color: #000080; font-weight: bold\">1.8366763719504191e-06</span>\n",
       "</pre>\n"
      ],
      "text/plain": [
       "<rich.jupyter.JupyterRenderable at 0x7f6aa6604d90>"
      ]
     },
     "metadata": {},
     "output_type": "display_data"
    },
    {
     "data": {
      "text/html": [
       "<pre style=\"white-space:pre;overflow-x:auto;line-height:normal;font-family:Menlo,'DejaVu Sans Mono',consolas,'Courier New',monospace\">dif nf <span style=\"color: #000080; font-weight: bold\">6.598221500847814e-05</span>\n",
       "</pre>\n"
      ],
      "text/plain": [
       "<rich.jupyter.JupyterRenderable at 0x7f6aa6709af0>"
      ]
     },
     "metadata": {},
     "output_type": "display_data"
    },
    {
     "data": {
      "text/html": [
       "<pre style=\"white-space:pre;overflow-x:auto;line-height:normal;font-family:Menlo,'DejaVu Sans Mono',consolas,'Courier New',monospace\">   <span style=\"color: #000080; font-weight: bold\">12</span>           <span style=\"color: #000080; font-weight: bold\">-7.34390</span>     <span style=\"color: #000080; font-weight: bold\">-7.34390</span>       <span style=\"color: #000080; font-weight: bold\">6.598e-05</span> \n",
       "</pre>\n"
      ],
      "text/plain": [
       "<rich.jupyter.JupyterRenderable at 0x7f6aa65ad100>"
      ]
     },
     "metadata": {},
     "output_type": "display_data"
    },
    {
     "data": {
      "text/html": [
       "<pre style=\"white-space:pre;overflow-x:auto;line-height:normal;font-family:Menlo,'DejaVu Sans Mono',consolas,'Courier New',monospace\">Dif E <span style=\"color: #000080; font-weight: bold\">7.653077660695461e-07</span>\n",
       "</pre>\n"
      ],
      "text/plain": [
       "<rich.jupyter.JupyterRenderable at 0x7f6aa65ad100>"
      ]
     },
     "metadata": {},
     "output_type": "display_data"
    },
    {
     "data": {
      "text/html": [
       "<pre style=\"white-space:pre;overflow-x:auto;line-height:normal;font-family:Menlo,'DejaVu Sans Mono',consolas,'Courier New',monospace\">dif nf <span style=\"color: #000080; font-weight: bold\">3.1162459065134e-05</span>\n",
       "</pre>\n"
      ],
      "text/plain": [
       "<rich.jupyter.JupyterRenderable at 0x7f6aa6709b50>"
      ]
     },
     "metadata": {},
     "output_type": "display_data"
    },
    {
     "data": {
      "text/html": [
       "<pre style=\"white-space:pre;overflow-x:auto;line-height:normal;font-family:Menlo,'DejaVu Sans Mono',consolas,'Courier New',monospace\">   <span style=\"color: #000080; font-weight: bold\">13</span>           <span style=\"color: #000080; font-weight: bold\">-7.34390</span>     <span style=\"color: #000080; font-weight: bold\">-7.34390</span>       <span style=\"color: #000080; font-weight: bold\">3.116e-05</span> \n",
       "</pre>\n"
      ],
      "text/plain": [
       "<rich.jupyter.JupyterRenderable at 0x7f6aa6604d90>"
      ]
     },
     "metadata": {},
     "output_type": "display_data"
    },
    {
     "data": {
      "text/html": [
       "<pre style=\"white-space:pre;overflow-x:auto;line-height:normal;font-family:Menlo,'DejaVu Sans Mono',consolas,'Courier New',monospace\">Dif E <span style=\"color: #000080; font-weight: bold\">3.184582682308493e-07</span>\n",
       "</pre>\n"
      ],
      "text/plain": [
       "<rich.jupyter.JupyterRenderable at 0x7f6aa65ad7c0>"
      ]
     },
     "metadata": {},
     "output_type": "display_data"
    },
    {
     "data": {
      "text/html": [
       "<pre style=\"white-space:pre;overflow-x:auto;line-height:normal;font-family:Menlo,'DejaVu Sans Mono',consolas,'Courier New',monospace\">dif nf <span style=\"color: #000080; font-weight: bold\">1.4808194228479062e-05</span>\n",
       "</pre>\n"
      ],
      "text/plain": [
       "<rich.jupyter.JupyterRenderable at 0x7f6aa67095e0>"
      ]
     },
     "metadata": {},
     "output_type": "display_data"
    },
    {
     "data": {
      "text/html": [
       "<pre style=\"white-space:pre;overflow-x:auto;line-height:normal;font-family:Menlo,'DejaVu Sans Mono',consolas,'Courier New',monospace\">   <span style=\"color: #000080; font-weight: bold\">14</span>           <span style=\"color: #000080; font-weight: bold\">-7.34390</span>     <span style=\"color: #000080; font-weight: bold\">-7.34390</span>       <span style=\"color: #000080; font-weight: bold\">1.481e-05</span> \n",
       "</pre>\n"
      ],
      "text/plain": [
       "<rich.jupyter.JupyterRenderable at 0x7f6aa6604cd0>"
      ]
     },
     "metadata": {},
     "output_type": "display_data"
    },
    {
     "data": {
      "text/html": [
       "<pre style=\"white-space:pre;overflow-x:auto;line-height:normal;font-family:Menlo,'DejaVu Sans Mono',consolas,'Courier New',monospace\">Dif E <span style=\"color: #000080; font-weight: bold\">1.328605866754392e-07</span>\n",
       "</pre>\n"
      ],
      "text/plain": [
       "<rich.jupyter.JupyterRenderable at 0x7f6aa65ad7c0>"
      ]
     },
     "metadata": {},
     "output_type": "display_data"
    },
    {
     "data": {
      "text/html": [
       "<pre style=\"white-space:pre;overflow-x:auto;line-height:normal;font-family:Menlo,'DejaVu Sans Mono',consolas,'Courier New',monospace\">dif nf <span style=\"color: #000080; font-weight: bold\">7.06934253649346e-06</span>\n",
       "</pre>\n"
      ],
      "text/plain": [
       "<rich.jupyter.JupyterRenderable at 0x7f6aa6709bb0>"
      ]
     },
     "metadata": {},
     "output_type": "display_data"
    },
    {
     "data": {
      "text/html": [
       "<pre style=\"white-space:pre;overflow-x:auto;line-height:normal;font-family:Menlo,'DejaVu Sans Mono',consolas,'Courier New',monospace\">   <span style=\"color: #000080; font-weight: bold\">15</span>           <span style=\"color: #000080; font-weight: bold\">-7.34390</span>     <span style=\"color: #000080; font-weight: bold\">-7.34390</span>       <span style=\"color: #000080; font-weight: bold\">7.069e-06</span> \n",
       "</pre>\n"
      ],
      "text/plain": [
       "<rich.jupyter.JupyterRenderable at 0x7f6aa67095b0>"
      ]
     },
     "metadata": {},
     "output_type": "display_data"
    }
   ],
   "source": [
    "import numpy as np\n",
    "import matplotlib.pyplot as plt\n",
    "\n",
    "from CADMium import Pssolver\n",
    "from CADMium import Psgrid\n",
    "from CADMium import Partition\n",
    "from CADMium import Inverter\n",
    "\n",
    "a = 5.122/2\n",
    "#Nuclear charge for fragments A and B\n",
    "Za, Zb = 3,3\n",
    "#Set polarization 1-Unpolarized, 2-Polarized\n",
    "pol = 2\n",
    "#Fragment a electrons [alpha, beta]\n",
    "Nmo_a = [[2,1]] #Number of molecular orbitals to calculate\n",
    "N_a   = [[2,1]]\n",
    "#Ensemble mix\n",
    "nu_a = 1\n",
    "#Fragment b electrons\n",
    "Nmo_b = [[2,1]]\n",
    "N_b   = [[2,1]]\n",
    "#Ensemble mix\n",
    "nu_b = 1\n",
    "\n",
    "#Molecular elctron configuration\n",
    "Nmo_m = [[3,3]]\n",
    "N_m   = [[3,3]]\n",
    " \n",
    "\n",
    "#Set up grid\n",
    "NP = 7\n",
    "NM = [4,4]\n",
    "L = np.arccosh(15/a)\n",
    "loc = np.array(range(-4,5)) #Stencil outline\n",
    "\n",
    "grid = Psgrid(NP, NM, a, L, loc)\n",
    "grid.initialize()\n",
    "\n",
    "part = Partition(grid, Za, Zb, pol, Nmo_a, N_a, nu_a, Nmo_b, N_b, nu_b, { \"AB_SYM\"       : True,\n",
    "                                                                          \"ENS_SPIN_SYM\" : True,})\n",
    "\n",
    "#Setup inverter object\n",
    "mol_solver = Pssolver(grid, Nmo_m, N_m)\n",
    "part.inverter = Inverter(grid, mol_solver, {\"invert_type\"  : \"orbitalinvert\",\n",
    "                                            \"disp\"         : True,\n",
    "                                            \"AB_SYM\"       : True,\n",
    "                                            \"ENS_SPIN_SYM\" : True,})\n",
    "\n",
    "part.optPartition.isolated = True\n",
    "part.scf({\"disp\" : True,\n",
    "          \"e_tol\" : 1e-5})"
   ]
  },
  {
   "cell_type": "code",
   "execution_count": 2,
   "metadata": {},
   "outputs": [],
   "source": [
    "part.KSa.solver[0][0].optSolver.iter_lin_solver = False\n",
    "part.KSa.solver[0][1].optSolver.iter_lin_solver = False"
   ]
  },
  {
   "cell_type": "code",
   "execution_count": 3,
   "metadata": {},
   "outputs": [
    {
     "data": {
      "text/html": [
       "<pre style=\"white-space:pre;overflow-x:auto;line-height:normal;font-family:Menlo,'DejaVu Sans Mono',consolas,'Courier New',monospace\">                  Total Energy            \n",
       "\n",
       "</pre>\n"
      ],
      "text/plain": [
       "<rich.jupyter.JupyterRenderable at 0x7f6acdfc97f0>"
      ]
     },
     "metadata": {},
     "output_type": "display_data"
    },
    {
     "data": {
      "text/html": [
       "<pre style=\"white-space:pre;overflow-x:auto;line-height:normal;font-family:Menlo,'DejaVu Sans Mono',consolas,'Courier New',monospace\">                __________________        \n",
       "\n",
       "</pre>\n"
      ],
      "text/plain": [
       "<rich.jupyter.JupyterRenderable at 0x7f6acdfc9c70>"
      ]
     },
     "metadata": {},
     "output_type": "display_data"
    },
    {
     "data": {
      "text/html": [
       "<pre style=\"white-space:pre;overflow-x:auto;line-height:normal;font-family:Menlo,'DejaVu Sans Mono',consolas,'Courier New',monospace\">Iteration         A            B              res     \n",
       "\n",
       "</pre>\n"
      ],
      "text/plain": [
       "<rich.jupyter.JupyterRenderable at 0x7f6acdfc98e0>"
      ]
     },
     "metadata": {},
     "output_type": "display_data"
    },
    {
     "data": {
      "text/html": [
       "<pre style=\"white-space:pre;overflow-x:auto;line-height:normal;font-family:Menlo,'DejaVu Sans Mono',consolas,'Courier New',monospace\">_______________________________________________________\n",
       "\n",
       "</pre>\n"
      ],
      "text/plain": [
       "<rich.jupyter.JupyterRenderable at 0x7f6acdfc9850>"
      ]
     },
     "metadata": {},
     "output_type": "display_data"
    },
    {
     "data": {
      "text/html": [
       "<pre style=\"white-space:pre;overflow-x:auto;line-height:normal;font-family:Menlo,'DejaVu Sans Mono',consolas,'Courier New',monospace\">Dif E <span style=\"font-weight: bold\">[</span><span style=\"color: #000080; font-weight: bold\">573.92017467</span> <span style=\"color: #000080; font-weight: bold\">512.80243364</span> <span style=\"color: #000080; font-weight: bold\">505.23558168</span> <span style=\"color: #000080; font-weight: bold\">534.61455709</span> <span style=\"color: #000080; font-weight: bold\">577.67156982</span>\n",
       " <span style=\"color: #000080; font-weight: bold\">614.42106088</span> <span style=\"color: #000080; font-weight: bold\">636.67443512</span> <span style=\"color: #000080; font-weight: bold\">639.68054503</span> <span style=\"color: #000080; font-weight: bold\">623.19429145</span> <span style=\"color: #000080; font-weight: bold\">614.62900147</span>\n",
       " <span style=\"color: #000080; font-weight: bold\">619.72499144</span> <span style=\"color: #000080; font-weight: bold\">622.38895194</span> <span style=\"color: #000080; font-weight: bold\">622.79813392</span> <span style=\"color: #000080; font-weight: bold\">622.38895194</span> <span style=\"color: #000080; font-weight: bold\">619.72499144</span>\n",
       " <span style=\"color: #000080; font-weight: bold\">614.62900147</span> <span style=\"color: #000080; font-weight: bold\">623.19429145</span> <span style=\"color: #000080; font-weight: bold\">639.68054503</span> <span style=\"color: #000080; font-weight: bold\">636.67443512</span> <span style=\"color: #000080; font-weight: bold\">614.42106088</span>\n",
       " <span style=\"color: #000080; font-weight: bold\">577.67156982</span> <span style=\"color: #000080; font-weight: bold\">534.61455709</span> <span style=\"color: #000080; font-weight: bold\">505.23558168</span> <span style=\"color: #000080; font-weight: bold\">512.80243364</span> <span style=\"color: #000080; font-weight: bold\">573.92017467</span>\n",
       " <span style=\"color: #000080; font-weight: bold\">503.44006691</span> <span style=\"color: #000080; font-weight: bold\">393.62073374</span> <span style=\"color: #000080; font-weight: bold\">382.71770396</span> <span style=\"color: #000080; font-weight: bold\">431.43211222</span> <span style=\"color: #000080; font-weight: bold\">514.96381913</span>\n",
       " <span style=\"color: #000080; font-weight: bold\">601.87227539</span> <span style=\"color: #000080; font-weight: bold\">663.16054782</span> <span style=\"color: #000080; font-weight: bold\">667.50164107</span> <span style=\"color: #000080; font-weight: bold\">615.51479619</span> <span style=\"color: #000080; font-weight: bold\">594.7667712</span>\n",
       " <span style=\"color: #000080; font-weight: bold\">609.34913727</span> <span style=\"color: #000080; font-weight: bold\">616.22673258</span> <span style=\"color: #000080; font-weight: bold\">617.27609496</span> <span style=\"color: #000080; font-weight: bold\">616.22673258</span> <span style=\"color: #000080; font-weight: bold\">609.34913727</span>\n",
       " <span style=\"color: #000080; font-weight: bold\">594.7667712</span>  <span style=\"color: #000080; font-weight: bold\">615.51479619</span> <span style=\"color: #000080; font-weight: bold\">667.50164107</span> <span style=\"color: #000080; font-weight: bold\">663.16054782</span> <span style=\"color: #000080; font-weight: bold\">601.87227539</span>\n",
       " <span style=\"color: #000080; font-weight: bold\">514.96381913</span> <span style=\"color: #000080; font-weight: bold\">431.43211222</span> <span style=\"color: #000080; font-weight: bold\">382.71770396</span> <span style=\"color: #000080; font-weight: bold\">393.62073374</span> <span style=\"color: #000080; font-weight: bold\">503.44006691</span>\n",
       " <span style=\"color: #000080; font-weight: bold\">473.28710392</span> <span style=\"color: #000080; font-weight: bold\">352.16270931</span> <span style=\"color: #000080; font-weight: bold\">342.27711816</span> <span style=\"color: #000080; font-weight: bold\">396.73099406</span> <span style=\"color: #000080; font-weight: bold\">496.68413449</span>\n",
       " <span style=\"color: #000080; font-weight: bold\">612.88971142</span> <span style=\"color: #000080; font-weight: bold\">701.25946288</span> <span style=\"color: #000080; font-weight: bold\">690.60794123</span> <span style=\"color: #000080; font-weight: bold\">602.09849638</span> <span style=\"color: #000080; font-weight: bold\">580.78182954</span>\n",
       " <span style=\"color: #000080; font-weight: bold\">603.26670636</span> <span style=\"color: #000080; font-weight: bold\">611.93136859</span> <span style=\"color: #000080; font-weight: bold\">613.22626552</span> <span style=\"color: #000080; font-weight: bold\">611.93136859</span> <span style=\"color: #000080; font-weight: bold\">603.26670636</span>\n",
       " <span style=\"color: #000080; font-weight: bold\">580.78182954</span> <span style=\"color: #000080; font-weight: bold\">602.09849638</span> <span style=\"color: #000080; font-weight: bold\">690.60794123</span> <span style=\"color: #000080; font-weight: bold\">701.25946288</span> <span style=\"color: #000080; font-weight: bold\">612.88971142</span>\n",
       " <span style=\"color: #000080; font-weight: bold\">496.68413449</span> <span style=\"color: #000080; font-weight: bold\">396.73099406</span> <span style=\"color: #000080; font-weight: bold\">342.27711816</span> <span style=\"color: #000080; font-weight: bold\">352.16270931</span> <span style=\"color: #000080; font-weight: bold\">473.28710392</span>\n",
       " <span style=\"color: #000080; font-weight: bold\">475.9915269</span>  <span style=\"color: #000080; font-weight: bold\">356.92772887</span> <span style=\"color: #000080; font-weight: bold\">349.39141875</span> <span style=\"color: #000080; font-weight: bold\">408.55514982</span> <span style=\"color: #000080; font-weight: bold\">518.95963247</span>\n",
       " <span style=\"color: #000080; font-weight: bold\">653.55815985</span> <span style=\"color: #000080; font-weight: bold\">752.01492819</span> <span style=\"color: #000080; font-weight: bold\">698.72986847</span> <span style=\"color: #000080; font-weight: bold\">584.19547348</span> <span style=\"color: #000080; font-weight: bold\">575.97188427</span>\n",
       " <span style=\"color: #000080; font-weight: bold\">602.30398974</span> <span style=\"color: #000080; font-weight: bold\">610.13482937</span> <span style=\"color: #000080; font-weight: bold\">611.25348821</span> <span style=\"color: #000080; font-weight: bold\">610.13482937</span> <span style=\"color: #000080; font-weight: bold\">602.30398974</span>\n",
       " <span style=\"color: #000080; font-weight: bold\">575.97188427</span> <span style=\"color: #000080; font-weight: bold\">584.19547348</span> <span style=\"color: #000080; font-weight: bold\">698.72986847</span> <span style=\"color: #000080; font-weight: bold\">752.01492819</span> <span style=\"color: #000080; font-weight: bold\">653.55815985</span>\n",
       " <span style=\"color: #000080; font-weight: bold\">518.95963247</span> <span style=\"color: #000080; font-weight: bold\">408.55514982</span> <span style=\"color: #000080; font-weight: bold\">349.39141875</span> <span style=\"color: #000080; font-weight: bold\">356.92772887</span> <span style=\"color: #000080; font-weight: bold\">475.9915269</span>\n",
       " <span style=\"color: #000080; font-weight: bold\">503.11481838</span> <span style=\"color: #000080; font-weight: bold\">396.6956417</span>  <span style=\"color: #000080; font-weight: bold\">393.7548644</span>  <span style=\"color: #000080; font-weight: bold\">459.40646819</span> <span style=\"color: #000080; font-weight: bold\">579.21477504</span>\n",
       " <span style=\"color: #000080; font-weight: bold\">724.36323996</span> <span style=\"color: #000080; font-weight: bold\">803.77109694</span> <span style=\"color: #000080; font-weight: bold\">681.34597279</span> <span style=\"color: #000080; font-weight: bold\">570.11057322</span> <span style=\"color: #000080; font-weight: bold\">582.36914118</span>\n",
       " <span style=\"color: #000080; font-weight: bold\">605.81536577</span> <span style=\"color: #000080; font-weight: bold\">611.05368025</span> <span style=\"color: #000080; font-weight: bold\">611.68831883</span> <span style=\"color: #000080; font-weight: bold\">611.05368025</span> <span style=\"color: #000080; font-weight: bold\">605.81536577</span>\n",
       " <span style=\"color: #000080; font-weight: bold\">582.36914118</span> <span style=\"color: #000080; font-weight: bold\">570.11057322</span> <span style=\"color: #000080; font-weight: bold\">681.34597279</span> <span style=\"color: #000080; font-weight: bold\">803.77109694</span> <span style=\"color: #000080; font-weight: bold\">724.36323996</span>\n",
       " <span style=\"color: #000080; font-weight: bold\">579.21477504</span> <span style=\"color: #000080; font-weight: bold\">459.40646819</span> <span style=\"color: #000080; font-weight: bold\">393.7548644</span>  <span style=\"color: #000080; font-weight: bold\">396.6956417</span>  <span style=\"color: #000080; font-weight: bold\">503.11481838</span>\n",
       " <span style=\"color: #000080; font-weight: bold\">544.12230599</span> <span style=\"color: #000080; font-weight: bold\">464.61683462</span> <span style=\"color: #000080; font-weight: bold\">471.49099241</span> <span style=\"color: #000080; font-weight: bold\">545.8417953</span>  <span style=\"color: #000080; font-weight: bold\">672.90163442</span>\n",
       " <span style=\"color: #000080; font-weight: bold\">814.95625274</span> <span style=\"color: #000080; font-weight: bold\">825.18678242</span> <span style=\"color: #000080; font-weight: bold\">643.55724583</span> <span style=\"color: #000080; font-weight: bold\">572.49605414</span> <span style=\"color: #000080; font-weight: bold\">597.74325004</span>\n",
       " <span style=\"color: #000080; font-weight: bold\">612.40966927</span> <span style=\"color: #000080; font-weight: bold\">614.58652896</span> <span style=\"color: #000080; font-weight: bold\">614.61745855</span> <span style=\"color: #000080; font-weight: bold\">614.58652896</span> <span style=\"color: #000080; font-weight: bold\">612.40966927</span>\n",
       " <span style=\"color: #000080; font-weight: bold\">597.74325004</span> <span style=\"color: #000080; font-weight: bold\">572.49605414</span> <span style=\"color: #000080; font-weight: bold\">643.55724583</span> <span style=\"color: #000080; font-weight: bold\">825.18678242</span> <span style=\"color: #000080; font-weight: bold\">814.95625274</span>\n",
       " <span style=\"color: #000080; font-weight: bold\">672.90163442</span> <span style=\"color: #000080; font-weight: bold\">545.8417953</span>  <span style=\"color: #000080; font-weight: bold\">471.49099241</span> <span style=\"color: #000080; font-weight: bold\">464.61683462</span> <span style=\"color: #000080; font-weight: bold\">544.12230599</span>\n",
       " <span style=\"color: #000080; font-weight: bold\">586.99276433</span> <span style=\"color: #000080; font-weight: bold\">549.09550852</span> <span style=\"color: #000080; font-weight: bold\">573.78572283</span> <span style=\"color: #000080; font-weight: bold\">657.35888373</span> <span style=\"color: #000080; font-weight: bold\">783.52466016</span>\n",
       " <span style=\"color: #000080; font-weight: bold\">890.01106527</span> <span style=\"color: #000080; font-weight: bold\">786.45362274</span> <span style=\"color: #000080; font-weight: bold\">616.63437314</span> <span style=\"color: #000080; font-weight: bold\">596.23727199</span> <span style=\"color: #000080; font-weight: bold\">615.77983552</span>\n",
       " <span style=\"color: #000080; font-weight: bold\">620.79340237</span> <span style=\"color: #000080; font-weight: bold\">620.3967194</span>  <span style=\"color: #000080; font-weight: bold\">619.89680842</span> <span style=\"color: #000080; font-weight: bold\">620.3967194</span>  <span style=\"color: #000080; font-weight: bold\">620.79340237</span>\n",
       " <span style=\"color: #000080; font-weight: bold\">615.77983552</span> <span style=\"color: #000080; font-weight: bold\">596.23727199</span> <span style=\"color: #000080; font-weight: bold\">616.63437314</span> <span style=\"color: #000080; font-weight: bold\">786.45362274</span> <span style=\"color: #000080; font-weight: bold\">890.01106527</span>\n",
       " <span style=\"color: #000080; font-weight: bold\">783.52466016</span> <span style=\"color: #000080; font-weight: bold\">657.35888373</span> <span style=\"color: #000080; font-weight: bold\">573.78572283</span> <span style=\"color: #000080; font-weight: bold\">549.09550852</span> <span style=\"color: #000080; font-weight: bold\">586.99276433</span>\n",
       " <span style=\"color: #000080; font-weight: bold\">621.52670813</span> <span style=\"color: #000080; font-weight: bold\">629.96662437</span> <span style=\"color: #000080; font-weight: bold\">677.15017038</span> <span style=\"color: #000080; font-weight: bold\">764.54838416</span> <span style=\"color: #000080; font-weight: bold\">870.69094369</span>\n",
       " <span style=\"color: #000080; font-weight: bold\">891.41626951</span> <span style=\"color: #000080; font-weight: bold\">725.80275636</span> <span style=\"color: #000080; font-weight: bold\">629.53544088</span> <span style=\"color: #000080; font-weight: bold\">627.32048213</span> <span style=\"color: #000080; font-weight: bold\">631.25916494</span>\n",
       " <span style=\"color: #000080; font-weight: bold\">629.94426128</span> <span style=\"color: #000080; font-weight: bold\">627.94223678</span> <span style=\"color: #000080; font-weight: bold\">627.10074755</span> <span style=\"color: #000080; font-weight: bold\">627.94223678</span> <span style=\"color: #000080; font-weight: bold\">629.94426128</span>\n",
       " <span style=\"color: #000080; font-weight: bold\">631.25916494</span> <span style=\"color: #000080; font-weight: bold\">627.32048213</span> <span style=\"color: #000080; font-weight: bold\">629.53544088</span> <span style=\"color: #000080; font-weight: bold\">725.80275636</span> <span style=\"color: #000080; font-weight: bold\">891.41626951</span>\n",
       " <span style=\"color: #000080; font-weight: bold\">870.69094369</span> <span style=\"color: #000080; font-weight: bold\">764.54838416</span> <span style=\"color: #000080; font-weight: bold\">677.15017038</span> <span style=\"color: #000080; font-weight: bold\">629.96662437</span> <span style=\"color: #000080; font-weight: bold\">621.52670813</span>\n",
       " <span style=\"color: #000080; font-weight: bold\">642.20793488</span> <span style=\"color: #000080; font-weight: bold\">684.00240331</span> <span style=\"color: #000080; font-weight: bold\">744.6997881</span>  <span style=\"color: #000080; font-weight: bold\">820.66637375</span> <span style=\"color: #000080; font-weight: bold\">886.12685359</span>\n",
       " <span style=\"color: #000080; font-weight: bold\">842.36671357</span> <span style=\"color: #000080; font-weight: bold\">715.77473743</span> <span style=\"color: #000080; font-weight: bold\">660.95436068</span> <span style=\"color: #000080; font-weight: bold\">648.00061006</span> <span style=\"color: #000080; font-weight: bold\">642.63266567</span>\n",
       " <span style=\"color: #000080; font-weight: bold\">638.96814016</span> <span style=\"color: #000080; font-weight: bold\">636.41582659</span> <span style=\"color: #000080; font-weight: bold\">635.4508635</span>  <span style=\"color: #000080; font-weight: bold\">636.41582659</span> <span style=\"color: #000080; font-weight: bold\">638.96814016</span>\n",
       " <span style=\"color: #000080; font-weight: bold\">642.63266567</span> <span style=\"color: #000080; font-weight: bold\">648.00061006</span> <span style=\"color: #000080; font-weight: bold\">660.95436068</span> <span style=\"color: #000080; font-weight: bold\">715.77473743</span> <span style=\"color: #000080; font-weight: bold\">842.36671357</span>\n",
       " <span style=\"color: #000080; font-weight: bold\">886.12685359</span> <span style=\"color: #000080; font-weight: bold\">820.66637375</span> <span style=\"color: #000080; font-weight: bold\">744.6997881</span>  <span style=\"color: #000080; font-weight: bold\">684.00240331</span> <span style=\"color: #000080; font-weight: bold\">642.20793488</span>\n",
       " <span style=\"color: #000080; font-weight: bold\">647.51431914</span> <span style=\"color: #000080; font-weight: bold\">695.46223567</span> <span style=\"color: #000080; font-weight: bold\">750.41008467</span> <span style=\"color: #000080; font-weight: bold\">818.97029727</span> <span style=\"color: #000080; font-weight: bold\">882.88304867</span>\n",
       " <span style=\"color: #000080; font-weight: bold\">824.59750328</span> <span style=\"color: #000080; font-weight: bold\">718.93118111</span> <span style=\"color: #000080; font-weight: bold\">671.27824554</span> <span style=\"color: #000080; font-weight: bold\">655.83479825</span> <span style=\"color: #000080; font-weight: bold\">650.14506292</span>\n",
       " <span style=\"color: #000080; font-weight: bold\">646.95221668</span> <span style=\"color: #000080; font-weight: bold\">644.71339359</span> <span style=\"color: #000080; font-weight: bold\">643.83681518</span> <span style=\"color: #000080; font-weight: bold\">644.71339359</span> <span style=\"color: #000080; font-weight: bold\">646.95221668</span>\n",
       " <span style=\"color: #000080; font-weight: bold\">650.14506292</span> <span style=\"color: #000080; font-weight: bold\">655.83479825</span> <span style=\"color: #000080; font-weight: bold\">671.27824554</span> <span style=\"color: #000080; font-weight: bold\">718.93118111</span> <span style=\"color: #000080; font-weight: bold\">824.59750328</span>\n",
       " <span style=\"color: #000080; font-weight: bold\">882.88304867</span> <span style=\"color: #000080; font-weight: bold\">818.97029727</span> <span style=\"color: #000080; font-weight: bold\">750.41008467</span> <span style=\"color: #000080; font-weight: bold\">695.46223567</span> <span style=\"color: #000080; font-weight: bold\">647.51431914</span>\n",
       " <span style=\"color: #000080; font-weight: bold\">643.36923651</span> <span style=\"color: #000080; font-weight: bold\">685.48856581</span> <span style=\"color: #000080; font-weight: bold\">748.93021174</span> <span style=\"color: #000080; font-weight: bold\">835.06803373</span> <span style=\"color: #000080; font-weight: bold\">848.51508369</span>\n",
       " <span style=\"color: #000080; font-weight: bold\">755.18832283</span> <span style=\"color: #000080; font-weight: bold\">687.78203853</span> <span style=\"color: #000080; font-weight: bold\">663.21530914</span> <span style=\"color: #000080; font-weight: bold\">656.2952757</span>  <span style=\"color: #000080; font-weight: bold\">654.30222733</span>\n",
       " <span style=\"color: #000080; font-weight: bold\">652.95543147</span> <span style=\"color: #000080; font-weight: bold\">651.63087594</span> <span style=\"color: #000080; font-weight: bold\">651.03080577</span> <span style=\"color: #000080; font-weight: bold\">651.63087594</span> <span style=\"color: #000080; font-weight: bold\">652.95543147</span>\n",
       " <span style=\"color: #000080; font-weight: bold\">654.30222733</span> <span style=\"color: #000080; font-weight: bold\">656.2952757</span>  <span style=\"color: #000080; font-weight: bold\">663.21530914</span> <span style=\"color: #000080; font-weight: bold\">687.78203853</span> <span style=\"color: #000080; font-weight: bold\">755.18832283</span>\n",
       " <span style=\"color: #000080; font-weight: bold\">848.51508369</span> <span style=\"color: #000080; font-weight: bold\">835.06803373</span> <span style=\"color: #000080; font-weight: bold\">748.93021174</span> <span style=\"color: #000080; font-weight: bold\">685.48856581</span> <span style=\"color: #000080; font-weight: bold\">643.36923651</span>\n",
       " <span style=\"color: #000080; font-weight: bold\">644.72341206</span> <span style=\"color: #000080; font-weight: bold\">688.98213468</span> <span style=\"color: #000080; font-weight: bold\">737.06690021</span> <span style=\"color: #000080; font-weight: bold\">752.76008162</span> <span style=\"color: #000080; font-weight: bold\">715.6923895</span>\n",
       " <span style=\"color: #000080; font-weight: bold\">675.14154164</span> <span style=\"color: #000080; font-weight: bold\">656.63111534</span> <span style=\"color: #000080; font-weight: bold\">652.56095615</span> <span style=\"color: #000080; font-weight: bold\">653.78392747</span> <span style=\"color: #000080; font-weight: bold\">655.59541677</span>\n",
       " <span style=\"color: #000080; font-weight: bold\">656.39983987</span> <span style=\"color: #000080; font-weight: bold\">656.2933421</span>  <span style=\"color: #000080; font-weight: bold\">656.0952089</span>  <span style=\"color: #000080; font-weight: bold\">656.2933421</span>  <span style=\"color: #000080; font-weight: bold\">656.39983987</span>\n",
       " <span style=\"color: #000080; font-weight: bold\">655.59541677</span> <span style=\"color: #000080; font-weight: bold\">653.78392747</span> <span style=\"color: #000080; font-weight: bold\">652.56095615</span> <span style=\"color: #000080; font-weight: bold\">656.63111534</span> <span style=\"color: #000080; font-weight: bold\">675.14154164</span>\n",
       " <span style=\"color: #000080; font-weight: bold\">715.6923895</span>  <span style=\"color: #000080; font-weight: bold\">752.76008162</span> <span style=\"color: #000080; font-weight: bold\">737.06690021</span> <span style=\"color: #000080; font-weight: bold\">688.98213468</span> <span style=\"color: #000080; font-weight: bold\">644.72341206</span>\n",
       " <span style=\"color: #000080; font-weight: bold\">636.84457354</span> <span style=\"color: #000080; font-weight: bold\">656.07890783</span> <span style=\"color: #000080; font-weight: bold\">663.81451278</span> <span style=\"color: #000080; font-weight: bold\">656.74270867</span> <span style=\"color: #000080; font-weight: bold\">645.29994711</span>\n",
       " <span style=\"color: #000080; font-weight: bold\">639.44547049</span> <span style=\"color: #000080; font-weight: bold\">640.40121191</span> <span style=\"color: #000080; font-weight: bold\">645.1654017</span>  <span style=\"color: #000080; font-weight: bold\">650.59916335</span> <span style=\"color: #000080; font-weight: bold\">654.90287868</span>\n",
       " <span style=\"color: #000080; font-weight: bold\">657.49162929</span> <span style=\"color: #000080; font-weight: bold\">658.56651352</span> <span style=\"color: #000080; font-weight: bold\">658.78967865</span> <span style=\"color: #000080; font-weight: bold\">658.56651352</span> <span style=\"color: #000080; font-weight: bold\">657.49162929</span>\n",
       " <span style=\"color: #000080; font-weight: bold\">654.90287868</span> <span style=\"color: #000080; font-weight: bold\">650.59916335</span> <span style=\"color: #000080; font-weight: bold\">645.1654017</span>  <span style=\"color: #000080; font-weight: bold\">640.40121191</span> <span style=\"color: #000080; font-weight: bold\">639.44547049</span>\n",
       " <span style=\"color: #000080; font-weight: bold\">645.29994711</span> <span style=\"color: #000080; font-weight: bold\">656.74270867</span> <span style=\"color: #000080; font-weight: bold\">663.81451278</span> <span style=\"color: #000080; font-weight: bold\">656.07890783</span> <span style=\"color: #000080; font-weight: bold\">636.84457354</span>\n",
       " <span style=\"color: #000080; font-weight: bold\">627.77045698</span> <span style=\"color: #000080; font-weight: bold\">630.10616806</span> <span style=\"color: #000080; font-weight: bold\">629.31549198</span> <span style=\"color: #000080; font-weight: bold\">626.93114177</span> <span style=\"color: #000080; font-weight: bold\">626.05408917</span>\n",
       " <span style=\"color: #000080; font-weight: bold\">628.63741063</span> <span style=\"color: #000080; font-weight: bold\">634.32288644</span> <span style=\"color: #000080; font-weight: bold\">641.36738594</span> <span style=\"color: #000080; font-weight: bold\">648.09294177</span> <span style=\"color: #000080; font-weight: bold\">653.50286511</span>\n",
       " <span style=\"color: #000080; font-weight: bold\">657.17548597</span> <span style=\"color: #000080; font-weight: bold\">659.10454976</span> <span style=\"color: #000080; font-weight: bold\">659.65795083</span> <span style=\"color: #000080; font-weight: bold\">659.10454976</span> <span style=\"color: #000080; font-weight: bold\">657.17548597</span>\n",
       " <span style=\"color: #000080; font-weight: bold\">653.50286511</span> <span style=\"color: #000080; font-weight: bold\">648.09294177</span> <span style=\"color: #000080; font-weight: bold\">641.36738594</span> <span style=\"color: #000080; font-weight: bold\">634.32288644</span> <span style=\"color: #000080; font-weight: bold\">628.63741063</span>\n",
       " <span style=\"color: #000080; font-weight: bold\">626.05408917</span> <span style=\"color: #000080; font-weight: bold\">626.93114177</span> <span style=\"color: #000080; font-weight: bold\">629.31549198</span> <span style=\"color: #000080; font-weight: bold\">630.10616806</span> <span style=\"color: #000080; font-weight: bold\">627.77045698</span>\n",
       " <span style=\"color: #000080; font-weight: bold\">625.20580425</span> <span style=\"color: #000080; font-weight: bold\">623.76488194</span> <span style=\"color: #000080; font-weight: bold\">622.30240243</span> <span style=\"color: #000080; font-weight: bold\">621.7719143</span>  <span style=\"color: #000080; font-weight: bold\">623.37400287</span>\n",
       " <span style=\"color: #000080; font-weight: bold\">627.55015791</span> <span style=\"color: #000080; font-weight: bold\">633.6641067</span>  <span style=\"color: #000080; font-weight: bold\">640.53132856</span> <span style=\"color: #000080; font-weight: bold\">647.07573972</span> <span style=\"color: #000080; font-weight: bold\">652.58477219</span>\n",
       " <span style=\"color: #000080; font-weight: bold\">656.60558308</span> <span style=\"color: #000080; font-weight: bold\">658.92631132</span> <span style=\"color: #000080; font-weight: bold\">659.65368096</span> <span style=\"color: #000080; font-weight: bold\">658.92631132</span> <span style=\"color: #000080; font-weight: bold\">656.60558308</span>\n",
       " <span style=\"color: #000080; font-weight: bold\">652.58477219</span> <span style=\"color: #000080; font-weight: bold\">647.07573972</span> <span style=\"color: #000080; font-weight: bold\">640.53132856</span> <span style=\"color: #000080; font-weight: bold\">633.6641067</span>  <span style=\"color: #000080; font-weight: bold\">627.55015791</span>\n",
       " <span style=\"color: #000080; font-weight: bold\">623.37400287</span> <span style=\"color: #000080; font-weight: bold\">621.7719143</span>  <span style=\"color: #000080; font-weight: bold\">622.30240243</span> <span style=\"color: #000080; font-weight: bold\">623.76488194</span> <span style=\"color: #000080; font-weight: bold\">625.20580425</span>\n",
       " <span style=\"color: #000080; font-weight: bold\">625.1083949</span>  <span style=\"color: #000080; font-weight: bold\">623.80524952</span> <span style=\"color: #000080; font-weight: bold\">623.15566502</span> <span style=\"color: #000080; font-weight: bold\">623.8000469</span>  <span style=\"color: #000080; font-weight: bold\">626.24247182</span>\n",
       " <span style=\"color: #000080; font-weight: bold\">630.48790552</span> <span style=\"color: #000080; font-weight: bold\">636.00010552</span> <span style=\"color: #000080; font-weight: bold\">641.99601256</span> <span style=\"color: #000080; font-weight: bold\">647.76632301</span> <span style=\"color: #000080; font-weight: bold\">652.76001149</span>\n",
       " <span style=\"color: #000080; font-weight: bold\">656.53584886</span> <span style=\"color: #000080; font-weight: bold\">658.81109268</span> <span style=\"color: #000080; font-weight: bold\">659.55182378</span> <span style=\"color: #000080; font-weight: bold\">658.81109268</span> <span style=\"color: #000080; font-weight: bold\">656.53584886</span>\n",
       " <span style=\"color: #000080; font-weight: bold\">652.76001149</span> <span style=\"color: #000080; font-weight: bold\">647.76632301</span> <span style=\"color: #000080; font-weight: bold\">641.99601256</span> <span style=\"color: #000080; font-weight: bold\">636.00010552</span> <span style=\"color: #000080; font-weight: bold\">630.48790552</span>\n",
       " <span style=\"color: #000080; font-weight: bold\">626.24247182</span> <span style=\"color: #000080; font-weight: bold\">623.8000469</span>  <span style=\"color: #000080; font-weight: bold\">623.15566502</span> <span style=\"color: #000080; font-weight: bold\">623.80524952</span> <span style=\"color: #000080; font-weight: bold\">625.1083949</span>\n",
       " <span style=\"color: #000080; font-weight: bold\">625.75660066</span> <span style=\"color: #000080; font-weight: bold\">625.77997214</span> <span style=\"color: #000080; font-weight: bold\">626.44414067</span> <span style=\"color: #000080; font-weight: bold\">628.14101834</span> <span style=\"color: #000080; font-weight: bold\">631.07476992</span>\n",
       " <span style=\"color: #000080; font-weight: bold\">635.134896</span>   <span style=\"color: #000080; font-weight: bold\">639.93082291</span> <span style=\"color: #000080; font-weight: bold\">644.95988464</span> <span style=\"color: #000080; font-weight: bold\">649.74627849</span> <span style=\"color: #000080; font-weight: bold\">653.87799919</span>\n",
       " <span style=\"color: #000080; font-weight: bold\">657.01266872</span> <span style=\"color: #000080; font-weight: bold\">658.92511831</span> <span style=\"color: #000080; font-weight: bold\">659.55702359</span> <span style=\"color: #000080; font-weight: bold\">658.92511831</span> <span style=\"color: #000080; font-weight: bold\">657.01266872</span>\n",
       " <span style=\"color: #000080; font-weight: bold\">653.87799919</span> <span style=\"color: #000080; font-weight: bold\">649.74627849</span> <span style=\"color: #000080; font-weight: bold\">644.95988464</span> <span style=\"color: #000080; font-weight: bold\">639.93082291</span> <span style=\"color: #000080; font-weight: bold\">635.134896</span>\n",
       " <span style=\"color: #000080; font-weight: bold\">631.07476992</span> <span style=\"color: #000080; font-weight: bold\">628.14101834</span> <span style=\"color: #000080; font-weight: bold\">626.44414067</span> <span style=\"color: #000080; font-weight: bold\">625.77997214</span> <span style=\"color: #000080; font-weight: bold\">625.75660066</span>\n",
       " <span style=\"color: #000080; font-weight: bold\">626.58427458</span> <span style=\"color: #000080; font-weight: bold\">628.2029541</span>  <span style=\"color: #000080; font-weight: bold\">630.24644538</span> <span style=\"color: #000080; font-weight: bold\">632.91161436</span> <span style=\"color: #000080; font-weight: bold\">636.24720549</span>\n",
       " <span style=\"color: #000080; font-weight: bold\">640.12099677</span> <span style=\"color: #000080; font-weight: bold\">644.26327918</span> <span style=\"color: #000080; font-weight: bold\">648.35087754</span> <span style=\"color: #000080; font-weight: bold\">652.0746477</span>  <span style=\"color: #000080; font-weight: bold\">655.17726952</span>\n",
       " <span style=\"color: #000080; font-weight: bold\">657.47198908</span> <span style=\"color: #000080; font-weight: bold\">658.85574627</span> <span style=\"color: #000080; font-weight: bold\">659.31248577</span> <span style=\"color: #000080; font-weight: bold\">658.85574627</span> <span style=\"color: #000080; font-weight: bold\">657.47198908</span>\n",
       " <span style=\"color: #000080; font-weight: bold\">655.17726952</span> <span style=\"color: #000080; font-weight: bold\">652.0746477</span>  <span style=\"color: #000080; font-weight: bold\">648.35087754</span> <span style=\"color: #000080; font-weight: bold\">644.26327918</span> <span style=\"color: #000080; font-weight: bold\">640.12099677</span>\n",
       " <span style=\"color: #000080; font-weight: bold\">636.24720549</span> <span style=\"color: #000080; font-weight: bold\">632.91161436</span> <span style=\"color: #000080; font-weight: bold\">630.24644538</span> <span style=\"color: #000080; font-weight: bold\">628.2029541</span>  <span style=\"color: #000080; font-weight: bold\">626.58427458</span>\n",
       " <span style=\"color: #000080; font-weight: bold\">627.3296709</span>  <span style=\"color: #000080; font-weight: bold\">630.36602995</span> <span style=\"color: #000080; font-weight: bold\">633.58254483</span> <span style=\"color: #000080; font-weight: bold\">637.01887837</span> <span style=\"color: #000080; font-weight: bold\">640.62914246</span>\n",
       " <span style=\"color: #000080; font-weight: bold\">644.28102581</span> <span style=\"color: #000080; font-weight: bold\">647.78685933</span> <span style=\"color: #000080; font-weight: bold\">650.95035564</span> <span style=\"color: #000080; font-weight: bold\">653.61144628</span> <span style=\"color: #000080; font-weight: bold\">655.67521293</span>\n",
       " <span style=\"color: #000080; font-weight: bold\">657.11370117</span> <span style=\"color: #000080; font-weight: bold\">657.94678281</span> <span style=\"color: #000080; font-weight: bold\">658.21657704</span> <span style=\"color: #000080; font-weight: bold\">657.94678281</span> <span style=\"color: #000080; font-weight: bold\">657.11370117</span>\n",
       " <span style=\"color: #000080; font-weight: bold\">655.67521293</span> <span style=\"color: #000080; font-weight: bold\">653.61144628</span> <span style=\"color: #000080; font-weight: bold\">650.95035564</span> <span style=\"color: #000080; font-weight: bold\">647.78685933</span> <span style=\"color: #000080; font-weight: bold\">644.28102581</span>\n",
       " <span style=\"color: #000080; font-weight: bold\">640.62914246</span> <span style=\"color: #000080; font-weight: bold\">637.01887837</span> <span style=\"color: #000080; font-weight: bold\">633.58254483</span> <span style=\"color: #000080; font-weight: bold\">630.36602995</span> <span style=\"color: #000080; font-weight: bold\">627.3296709</span>\n",
       " <span style=\"color: #000080; font-weight: bold\">627.84218443</span> <span style=\"color: #000080; font-weight: bold\">631.84151746</span> <span style=\"color: #000080; font-weight: bold\">635.81422438</span> <span style=\"color: #000080; font-weight: bold\">639.68049318</span> <span style=\"color: #000080; font-weight: bold\">643.33089676</span>\n",
       " <span style=\"color: #000080; font-weight: bold\">646.63689956</span> <span style=\"color: #000080; font-weight: bold\">649.4750702</span>  <span style=\"color: #000080; font-weight: bold\">651.75771961</span> <span style=\"color: #000080; font-weight: bold\">653.4584684</span>  <span style=\"color: #000080; font-weight: bold\">654.61921729</span>\n",
       " <span style=\"color: #000080; font-weight: bold\">655.33151871</span> <span style=\"color: #000080; font-weight: bold\">655.70124278</span> <span style=\"color: #000080; font-weight: bold\">655.8133281</span>  <span style=\"color: #000080; font-weight: bold\">655.70124278</span> <span style=\"color: #000080; font-weight: bold\">655.33151871</span>\n",
       " <span style=\"color: #000080; font-weight: bold\">654.61921729</span> <span style=\"color: #000080; font-weight: bold\">653.4584684</span>  <span style=\"color: #000080; font-weight: bold\">651.75771961</span> <span style=\"color: #000080; font-weight: bold\">649.4750702</span>  <span style=\"color: #000080; font-weight: bold\">646.63689956</span>\n",
       " <span style=\"color: #000080; font-weight: bold\">643.33089676</span> <span style=\"color: #000080; font-weight: bold\">639.68049318</span> <span style=\"color: #000080; font-weight: bold\">635.81422438</span> <span style=\"color: #000080; font-weight: bold\">631.84151746</span> <span style=\"color: #000080; font-weight: bold\">627.84218443</span>\n",
       " <span style=\"color: #000080; font-weight: bold\">628.04756359</span> <span style=\"color: #000080; font-weight: bold\">632.41145731</span> <span style=\"color: #000080; font-weight: bold\">636.60361395</span> <span style=\"color: #000080; font-weight: bold\">640.46852152</span> <span style=\"color: #000080; font-weight: bold\">643.86326309</span>\n",
       " <span style=\"color: #000080; font-weight: bold\">646.67454355</span> <span style=\"color: #000080; font-weight: bold\">648.83817501</span> <span style=\"color: #000080; font-weight: bold\">650.35508665</span> <span style=\"color: #000080; font-weight: bold\">651.29598363</span> <span style=\"color: #000080; font-weight: bold\">651.78853514</span>\n",
       " <span style=\"color: #000080; font-weight: bold\">651.98770329</span> <span style=\"color: #000080; font-weight: bold\">652.03843912</span> <span style=\"color: #000080; font-weight: bold\">652.04299831</span> <span style=\"color: #000080; font-weight: bold\">652.03843912</span> <span style=\"color: #000080; font-weight: bold\">651.98770329</span>\n",
       " <span style=\"color: #000080; font-weight: bold\">651.78853514</span> <span style=\"color: #000080; font-weight: bold\">651.29598363</span> <span style=\"color: #000080; font-weight: bold\">650.35508665</span> <span style=\"color: #000080; font-weight: bold\">648.83817501</span> <span style=\"color: #000080; font-weight: bold\">646.67454355</span>\n",
       " <span style=\"color: #000080; font-weight: bold\">643.86326309</span> <span style=\"color: #000080; font-weight: bold\">640.46852152</span> <span style=\"color: #000080; font-weight: bold\">636.60361395</span> <span style=\"color: #000080; font-weight: bold\">632.41145731</span> <span style=\"color: #000080; font-weight: bold\">628.04756359</span>\n",
       " <span style=\"color: #000080; font-weight: bold\">627.94790948</span> <span style=\"color: #000080; font-weight: bold\">632.0830044</span>  <span style=\"color: #000080; font-weight: bold\">635.9703146</span>  <span style=\"color: #000080; font-weight: bold\">639.42699747</span> <span style=\"color: #000080; font-weight: bold\">642.30941804</span>\n",
       " <span style=\"color: #000080; font-weight: bold\">644.5315522</span>  <span style=\"color: #000080; font-weight: bold\">646.07746232</span> <span style=\"color: #000080; font-weight: bold\">647.00378718</span> <span style=\"color: #000080; font-weight: bold\">647.42948077</span> <span style=\"color: #000080; font-weight: bold\">647.51317303</span>\n",
       " <span style=\"color: #000080; font-weight: bold\">647.42250503</span> <span style=\"color: #000080; font-weight: bold\">647.30267887</span> <span style=\"color: #000080; font-weight: bold\">647.25128925</span> <span style=\"color: #000080; font-weight: bold\">647.30267887</span> <span style=\"color: #000080; font-weight: bold\">647.42250503</span>\n",
       " <span style=\"color: #000080; font-weight: bold\">647.51317303</span> <span style=\"color: #000080; font-weight: bold\">647.42948077</span> <span style=\"color: #000080; font-weight: bold\">647.00378718</span> <span style=\"color: #000080; font-weight: bold\">646.07746232</span> <span style=\"color: #000080; font-weight: bold\">644.5315522</span>\n",
       " <span style=\"color: #000080; font-weight: bold\">642.30941804</span> <span style=\"color: #000080; font-weight: bold\">639.42699747</span> <span style=\"color: #000080; font-weight: bold\">635.9703146</span>  <span style=\"color: #000080; font-weight: bold\">632.0830044</span>  <span style=\"color: #000080; font-weight: bold\">627.94790948</span>\n",
       " <span style=\"color: #000080; font-weight: bold\">627.61029276</span> <span style=\"color: #000080; font-weight: bold\">631.05881282</span> <span style=\"color: #000080; font-weight: bold\">634.24993274</span> <span style=\"color: #000080; font-weight: bold\">637.01531769</span> <span style=\"color: #000080; font-weight: bold\">639.23545425</span>\n",
       " <span style=\"color: #000080; font-weight: bold\">640.85462626</span> <span style=\"color: #000080; font-weight: bold\">641.88619718</span> <span style=\"color: #000080; font-weight: bold\">642.40671931</span> <span style=\"color: #000080; font-weight: bold\">642.53977855</span> <span style=\"color: #000080; font-weight: bold\">642.43284037</span>\n",
       " <span style=\"color: #000080; font-weight: bold\">642.23179717</span> <span style=\"color: #000080; font-weight: bold\">642.05794219</span> <span style=\"color: #000080; font-weight: bold\">641.99078766</span> <span style=\"color: #000080; font-weight: bold\">642.05794219</span> <span style=\"color: #000080; font-weight: bold\">642.23179717</span>\n",
       " <span style=\"color: #000080; font-weight: bold\">642.43284037</span> <span style=\"color: #000080; font-weight: bold\">642.53977855</span> <span style=\"color: #000080; font-weight: bold\">642.40671931</span> <span style=\"color: #000080; font-weight: bold\">641.88619718</span> <span style=\"color: #000080; font-weight: bold\">640.85462626</span>\n",
       " <span style=\"color: #000080; font-weight: bold\">639.23545425</span> <span style=\"color: #000080; font-weight: bold\">637.01531769</span> <span style=\"color: #000080; font-weight: bold\">634.24993274</span> <span style=\"color: #000080; font-weight: bold\">631.05881282</span> <span style=\"color: #000080; font-weight: bold\">627.61029276</span>\n",
       " <span style=\"color: #000080; font-weight: bold\">627.12548346</span> <span style=\"color: #000080; font-weight: bold\">629.61096254</span> <span style=\"color: #000080; font-weight: bold\">631.88324721</span> <span style=\"color: #000080; font-weight: bold\">633.81560048</span> <span style=\"color: #000080; font-weight: bold\">635.32476893</span>\n",
       " <span style=\"color: #000080; font-weight: bold\">636.38052927</span> <span style=\"color: #000080; font-weight: bold\">637.00617644</span> <span style=\"color: #000080; font-weight: bold\">637.2702444</span>  <span style=\"color: #000080; font-weight: bold\">637.27167726</span> <span style=\"color: #000080; font-weight: bold\">637.12183384</span>\n",
       " <span style=\"color: #000080; font-weight: bold\">636.92679293</span> <span style=\"color: #000080; font-weight: bold\">636.77259632</span> <span style=\"color: #000080; font-weight: bold\">636.71481266</span> <span style=\"color: #000080; font-weight: bold\">636.77259632</span> <span style=\"color: #000080; font-weight: bold\">636.92679293</span>\n",
       " <span style=\"color: #000080; font-weight: bold\">637.12183384</span> <span style=\"color: #000080; font-weight: bold\">637.27167726</span> <span style=\"color: #000080; font-weight: bold\">637.2702444</span>  <span style=\"color: #000080; font-weight: bold\">637.00617644</span> <span style=\"color: #000080; font-weight: bold\">636.38052927</span>\n",
       " <span style=\"color: #000080; font-weight: bold\">635.32476893</span> <span style=\"color: #000080; font-weight: bold\">633.81560048</span> <span style=\"color: #000080; font-weight: bold\">631.88324721</span> <span style=\"color: #000080; font-weight: bold\">629.61096254</span> <span style=\"color: #000080; font-weight: bold\">627.12548346</span>\n",
       " <span style=\"color: #000080; font-weight: bold\">626.53920004</span> <span style=\"color: #000080; font-weight: bold\">627.87547942</span> <span style=\"color: #000080; font-weight: bold\">629.084992</span>   <span style=\"color: #000080; font-weight: bold\">630.09857901</span> <span style=\"color: #000080; font-weight: bold\">630.87373743</span>\n",
       " <span style=\"color: #000080; font-weight: bold\">631.39882794</span> <span style=\"color: #000080; font-weight: bold\">631.6918131</span>  <span style=\"color: #000080; font-weight: bold\">631.79429859</span> <span style=\"color: #000080; font-weight: bold\">631.7625866</span>  <span style=\"color: #000080; font-weight: bold\">631.65777847</span>\n",
       " <span style=\"color: #000080; font-weight: bold\">631.53668405</span> <span style=\"color: #000080; font-weight: bold\">631.44464213</span> <span style=\"color: #000080; font-weight: bold\">631.41064582</span> <span style=\"color: #000080; font-weight: bold\">631.44464213</span> <span style=\"color: #000080; font-weight: bold\">631.53668405</span>\n",
       " <span style=\"color: #000080; font-weight: bold\">631.65777847</span> <span style=\"color: #000080; font-weight: bold\">631.7625866</span>  <span style=\"color: #000080; font-weight: bold\">631.79429859</span> <span style=\"color: #000080; font-weight: bold\">631.6918131</span>  <span style=\"color: #000080; font-weight: bold\">631.39882794</span>\n",
       " <span style=\"color: #000080; font-weight: bold\">630.87373743</span> <span style=\"color: #000080; font-weight: bold\">630.09857901</span> <span style=\"color: #000080; font-weight: bold\">629.084992</span>   <span style=\"color: #000080; font-weight: bold\">627.87547942</span> <span style=\"color: #000080; font-weight: bold\">626.53920004</span><span style=\"font-weight: bold\">]</span>\n",
       "</pre>\n"
      ],
      "text/plain": [
       "<rich.jupyter.JupyterRenderable at 0x7f6ad4069250>"
      ]
     },
     "metadata": {},
     "output_type": "display_data"
    },
    {
     "data": {
      "text/html": [
       "<pre style=\"white-space:pre;overflow-x:auto;line-height:normal;font-family:Menlo,'DejaVu Sans Mono',consolas,'Courier New',monospace\">dif nf <span style=\"color: #000080; font-weight: bold\">0.2431099852349898</span>\n",
       "</pre>\n"
      ],
      "text/plain": [
       "<rich.jupyter.JupyterRenderable at 0x7f6ad4069250>"
      ]
     },
     "metadata": {},
     "output_type": "display_data"
    },
    {
     "ename": "ValueError",
     "evalue": "The truth value of an array with more than one element is ambiguous. Use a.any() or a.all()",
     "output_type": "error",
     "traceback": [
      "\u001b[0;31m-------------------\u001b[0m",
      "\u001b[0;31mValueError\u001b[0mTraceback (most recent call last)",
      "\u001b[0;32m<ipython-input-3-acdc60f81003>\u001b[0m in \u001b[0;36m<module>\u001b[0;34m\u001b[0m\n\u001b[1;32m      1\u001b[0m \u001b[0mpart\u001b[0m\u001b[0;34m.\u001b[0m\u001b[0moptPartition\u001b[0m\u001b[0;34m.\u001b[0m\u001b[0misolated\u001b[0m   \u001b[0;34m=\u001b[0m \u001b[0;32mFalse\u001b[0m\u001b[0;34m\u001b[0m\u001b[0;34m\u001b[0m\u001b[0m\n\u001b[1;32m      2\u001b[0m \u001b[0;34m\u001b[0m\u001b[0m\n\u001b[0;32m----> 3\u001b[0;31m part.scf({\"disp\"       : True,\n\u001b[0m\u001b[1;32m      4\u001b[0m           \u001b[0;34m\"e_tol\"\u001b[0m      \u001b[0;34m:\u001b[0m \u001b[0;36m1e-8\u001b[0m\u001b[0;34m,\u001b[0m\u001b[0;34m\u001b[0m\u001b[0;34m\u001b[0m\u001b[0m\n\u001b[1;32m      5\u001b[0m           \"continuing\" : True})\n",
      "\u001b[0;32m/mnt/c/Users/victo/Dropbox/PHD/cadmium/CADMium/CADMium/partition/partition.py\u001b[0m in \u001b[0;36mscf\u001b[0;34m(self, optSCF)\u001b[0m\n\u001b[1;32m    359\u001b[0m \u001b[0;34m\u001b[0m\u001b[0m\n\u001b[1;32m    360\u001b[0m     \u001b[0;32mdef\u001b[0m \u001b[0mscf\u001b[0m\u001b[0;34m(\u001b[0m\u001b[0mself\u001b[0m\u001b[0;34m,\u001b[0m \u001b[0moptSCF\u001b[0m\u001b[0;34m=\u001b[0m\u001b[0;34m{\u001b[0m\u001b[0;34m}\u001b[0m\u001b[0;34m)\u001b[0m\u001b[0;34m:\u001b[0m\u001b[0;34m\u001b[0m\u001b[0;34m\u001b[0m\u001b[0m\n\u001b[0;32m--> 361\u001b[0;31m         \u001b[0mscf\u001b[0m\u001b[0;34m(\u001b[0m\u001b[0mself\u001b[0m\u001b[0;34m,\u001b[0m \u001b[0moptSCF\u001b[0m\u001b[0;34m)\u001b[0m\u001b[0;34m\u001b[0m\u001b[0;34m\u001b[0m\u001b[0m\n\u001b[0m\u001b[1;32m    362\u001b[0m \u001b[0;34m\u001b[0m\u001b[0m\n\u001b[1;32m    363\u001b[0m     \u001b[0;31m# def Ws(self):\u001b[0m\u001b[0;34m\u001b[0m\u001b[0;34m\u001b[0m\u001b[0;34m\u001b[0m\u001b[0m\n",
      "\u001b[0;32m/mnt/c/Users/victo/Dropbox/PHD/cadmium/CADMium/CADMium/partition/scf.py\u001b[0m in \u001b[0;36mscf\u001b[0;34m(self, optSCF)\u001b[0m\n\u001b[1;32m    206\u001b[0m         \u001b[0mprint\u001b[0m\u001b[0;34m(\u001b[0m\u001b[0;34m\"dif nf\"\u001b[0m\u001b[0;34m,\u001b[0m \u001b[0mdif_nf\u001b[0m\u001b[0;34m)\u001b[0m\u001b[0;34m\u001b[0m\u001b[0;34m\u001b[0m\u001b[0m\n\u001b[1;32m    207\u001b[0m \u001b[0;34m\u001b[0m\u001b[0m\n\u001b[0;32m--> 208\u001b[0;31m         \u001b[0mdif\u001b[0m    \u001b[0;34m=\u001b[0m \u001b[0mmax\u001b[0m\u001b[0;34m(\u001b[0m\u001b[0mdif_E\u001b[0m\u001b[0;34m,\u001b[0m \u001b[0mdif_nf\u001b[0m\u001b[0;34m)\u001b[0m\u001b[0;34m\u001b[0m\u001b[0;34m\u001b[0m\u001b[0m\n\u001b[0m\u001b[1;32m    209\u001b[0m         \u001b[0mold_E\u001b[0m  \u001b[0;34m=\u001b[0m \u001b[0mself\u001b[0m\u001b[0;34m.\u001b[0m\u001b[0mE\u001b[0m\u001b[0;34m.\u001b[0m\u001b[0mE\u001b[0m\u001b[0;34m\u001b[0m\u001b[0;34m\u001b[0m\u001b[0m\n\u001b[1;32m    210\u001b[0m         \u001b[0mold_nf\u001b[0m \u001b[0;34m=\u001b[0m \u001b[0mself\u001b[0m\u001b[0;34m.\u001b[0m\u001b[0mnf\u001b[0m\u001b[0;34m\u001b[0m\u001b[0;34m\u001b[0m\u001b[0m\n",
      "\u001b[0;31mValueError\u001b[0m: The truth value of an array with more than one element is ambiguous. Use a.any() or a.all()"
     ]
    }
   ],
   "source": [
    "part.optPartition.isolated   = False\n",
    "\n",
    "part.scf({\"disp\"       : True,\n",
    "          \"e_tol\"      : 1e-8,\n",
    "          \"continuing\" : True})\n",
    "\n"
   ]
  },
  {
   "cell_type": "code",
   "execution_count": null,
   "metadata": {},
   "outputs": [],
   "source": [
    "one = np.array([1,2,3,4,5])[:,None]\n",
    "two = np.repeat(one, 2, axis=1)\n",
    "two / np.repeat(one, two.shape[1], axis=1)"
   ]
  },
  {
   "cell_type": "code",
   "execution_count": null,
   "metadata": {},
   "outputs": [],
   "source": [
    "np.repeat(one, two.shape[1], axis=1)"
   ]
  },
  {
   "cell_type": "code",
   "execution_count": null,
   "metadata": {},
   "outputs": [],
   "source": [
    "full, x,y = grid.plotter(part.V.vp[:,0] + part.V.vp[:,1])\n",
    "x_axis,vp = grid.axis_plot(part.V.vp[:,0] + part.V.vp[:,1])"
   ]
  },
  {
   "cell_type": "code",
   "execution_count": null,
   "metadata": {},
   "outputs": [],
   "source": [
    "fig = plt.figure(dpi=150)\n",
    "plt.contourf(x,y,full, levels=2, cmap=\"viridis\")\n",
    "# plt.xlim([-5,5])\n",
    "# plt.ylim([-5,5])\n",
    "plt.colorbar()"
   ]
  },
  {
   "cell_type": "code",
   "execution_count": null,
   "metadata": {},
   "outputs": [],
   "source": [
    "fig = plt.figure(dpi=120)\n",
    "plt.plot(x_axis,vp)\n",
    "plt.xlim(0,5)"
   ]
  },
  {
   "cell_type": "code",
   "execution_count": null,
   "metadata": {},
   "outputs": [],
   "source": []
  }
 ],
 "metadata": {
  "kernelspec": {
   "display_name": "Python 3",
   "language": "python",
   "name": "python3"
  },
  "language_info": {
   "codemirror_mode": {
    "name": "ipython",
    "version": 3
   },
   "file_extension": ".py",
   "mimetype": "text/x-python",
   "name": "python",
   "nbconvert_exporter": "python",
   "pygments_lexer": "ipython3",
   "version": "3.8.5"
  }
 },
 "nbformat": 4,
 "nbformat_minor": 4
}

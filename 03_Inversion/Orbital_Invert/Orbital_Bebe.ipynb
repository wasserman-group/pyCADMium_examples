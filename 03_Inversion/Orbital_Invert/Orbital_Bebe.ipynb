{
 "cells": [
  {
   "cell_type": "code",
   "execution_count": 1,
   "metadata": {},
   "outputs": [],
   "source": [
    "import numpy as np\n",
    "import CADMium as cad\n",
    "import matplotlib.pyplot as plt"
   ]
  },
  {
   "cell_type": "code",
   "execution_count": 2,
   "metadata": {},
   "outputs": [
    {
     "name": "stdout",
     "output_type": "stream",
     "text": [
      " Constructing integration weights ... \n",
      "\n",
      " Building finite difference opperators ... \n",
      "\n",
      " Factorizing Laplacian ... \n",
      "\n",
      " Done\n"
     ]
    }
   ],
   "source": [
    "#Distance of the nuclei from grid center\n",
    "#a = 4.522/2 %LDA Equilibrium\n",
    "#a = 5.1967  %PBE Equilibrium\n",
    "a = 3\n",
    "\n",
    "#Nuclear charge for fragments A and B\n",
    "Za = 4\n",
    "Zb = 4\n",
    "\n",
    "#Set Polarization: Pol=1 -> Unpolarized. Pol=2 -> Polarized\n",
    "pol = 1\n",
    "\n",
    "#Number of molecular orbitals per type of electron\n",
    "Nmo_a = [[2]]\n",
    "Nmo_b = [[2]]\n",
    "\n",
    "#Number of electrons per type of electrons\n",
    "N_a   = [[4]] \n",
    "N_b   = [[4]]\n",
    "\n",
    "#Molecular electron configuration\n",
    "Nmo = [[4]]\n",
    "N   = [[8]]\n",
    "\n",
    "#Ensemble Mix\n",
    "nu_a = 1 \n",
    "nu_b = 1\n",
    "\n",
    "NP = 5\n",
    "NM = [4,4]\n",
    "L = np.arccosh(15/a)\n",
    "loc = np.array(range(-4,5))\n",
    "\n",
    "grid = cad.Psgrid(NP, NM, a, L, loc )\n",
    "grid.initialize()"
   ]
  },
  {
   "cell_type": "code",
   "execution_count": 3,
   "metadata": {},
   "outputs": [
    {
     "data": {
      "text/html": [
       "<pre style=\"white-space:pre;overflow-x:auto;line-height:normal;font-family:Menlo,'DejaVu Sans Mono',consolas,'Courier New',monospace\">                Total Energy <span style=\"font-weight: bold\">(</span> a.u.<span style=\"font-weight: bold\">)</span>                               Inversion                \n",
       "\n",
       "</pre>\n"
      ],
      "text/plain": [
       "<rich.jupyter.JupyterRenderable at 0x7ffa9921dcd0>"
      ]
     },
     "metadata": {},
     "output_type": "display_data"
    },
    {
     "data": {
      "text/html": [
       "<pre style=\"white-space:pre;overflow-x:auto;line-height:normal;font-family:Menlo,'DejaVu Sans Mono',consolas,'Courier New',monospace\">                __________________                ____________________________________     \n",
       "\n",
       "</pre>\n"
      ],
      "text/plain": [
       "<rich.jupyter.JupyterRenderable at 0x7ffa9921d730>"
      ]
     },
     "metadata": {},
     "output_type": "display_data"
    },
    {
     "data": {
      "text/html": [
       "<pre style=\"white-space:pre;overflow-x:auto;line-height:normal;font-family:Menlo,'DejaVu Sans Mono',consolas,'Courier New',monospace\">Iteration         A              B                  iters      optimality        res       \n",
       "\n",
       "</pre>\n"
      ],
      "text/plain": [
       "<rich.jupyter.JupyterRenderable at 0x7ffa9921dcd0>"
      ]
     },
     "metadata": {},
     "output_type": "display_data"
    },
    {
     "data": {
      "text/html": [
       "<pre style=\"white-space:pre;overflow-x:auto;line-height:normal;font-family:Menlo,'DejaVu Sans Mono',consolas,'Courier New',monospace\">___________________________________________________________________________________________ \n",
       "\n",
       "</pre>\n"
      ],
      "text/plain": [
       "<rich.jupyter.JupyterRenderable at 0x7ffa9921da60>"
      ]
     },
     "metadata": {},
     "output_type": "display_data"
    },
    {
     "data": {
      "text/html": [
       "<pre style=\"white-space:pre;overflow-x:auto;line-height:normal;font-family:Menlo,'DejaVu Sans Mono',consolas,'Courier New',monospace\">    <span style=\"color: #000080; font-weight: bold\">1</span>          <span style=\"color: #000080; font-weight: bold\">-17.03677</span>    <span style=\"color: #000080; font-weight: bold\">-17.03677</span>       <span style=\"color: #000080; font-weight: bold\">1.000e+00</span> \n",
       "</pre>\n"
      ],
      "text/plain": [
       "<rich.jupyter.JupyterRenderable at 0x7ffa9494be80>"
      ]
     },
     "metadata": {},
     "output_type": "display_data"
    },
    {
     "data": {
      "text/html": [
       "<pre style=\"white-space:pre;overflow-x:auto;line-height:normal;font-family:Menlo,'DejaVu Sans Mono',consolas,'Courier New',monospace\">    <span style=\"color: #000080; font-weight: bold\">2</span>          <span style=\"color: #000080; font-weight: bold\">-15.03085</span>    <span style=\"color: #000080; font-weight: bold\">-15.03085</span>       <span style=\"color: #000080; font-weight: bold\">1.464e-01</span> \n",
       "</pre>\n"
      ],
      "text/plain": [
       "<rich.jupyter.JupyterRenderable at 0x7ffa9496f7f0>"
      ]
     },
     "metadata": {},
     "output_type": "display_data"
    },
    {
     "data": {
      "text/html": [
       "<pre style=\"white-space:pre;overflow-x:auto;line-height:normal;font-family:Menlo,'DejaVu Sans Mono',consolas,'Courier New',monospace\">    <span style=\"color: #000080; font-weight: bold\">3</span>          <span style=\"color: #000080; font-weight: bold\">-14.66283</span>    <span style=\"color: #000080; font-weight: bold\">-14.66283</span>       <span style=\"color: #000080; font-weight: bold\">2.761e-02</span> \n",
       "</pre>\n"
      ],
      "text/plain": [
       "<rich.jupyter.JupyterRenderable at 0x7ffa9496f9a0>"
      ]
     },
     "metadata": {},
     "output_type": "display_data"
    },
    {
     "data": {
      "text/html": [
       "<pre style=\"white-space:pre;overflow-x:auto;line-height:normal;font-family:Menlo,'DejaVu Sans Mono',consolas,'Courier New',monospace\">    <span style=\"color: #000080; font-weight: bold\">4</span>          <span style=\"color: #000080; font-weight: bold\">-14.59201</span>    <span style=\"color: #000080; font-weight: bold\">-14.59201</span>       <span style=\"color: #000080; font-weight: bold\">5.341e-03</span> \n",
       "</pre>\n"
      ],
      "text/plain": [
       "<rich.jupyter.JupyterRenderable at 0x7ffa9496f7f0>"
      ]
     },
     "metadata": {},
     "output_type": "display_data"
    },
    {
     "data": {
      "text/html": [
       "<pre style=\"white-space:pre;overflow-x:auto;line-height:normal;font-family:Menlo,'DejaVu Sans Mono',consolas,'Courier New',monospace\">    <span style=\"color: #000080; font-weight: bold\">5</span>          <span style=\"color: #000080; font-weight: bold\">-14.57710</span>    <span style=\"color: #000080; font-weight: bold\">-14.57710</span>       <span style=\"color: #000080; font-weight: bold\">1.345e-03</span> \n",
       "</pre>\n"
      ],
      "text/plain": [
       "<rich.jupyter.JupyterRenderable at 0x7ffa9494bd30>"
      ]
     },
     "metadata": {},
     "output_type": "display_data"
    },
    {
     "data": {
      "text/html": [
       "<pre style=\"white-space:pre;overflow-x:auto;line-height:normal;font-family:Menlo,'DejaVu Sans Mono',consolas,'Courier New',monospace\">    <span style=\"color: #000080; font-weight: bold\">6</span>          <span style=\"color: #000080; font-weight: bold\">-14.57519</span>    <span style=\"color: #000080; font-weight: bold\">-14.57519</span>       <span style=\"color: #000080; font-weight: bold\">6.377e-04</span> \n",
       "</pre>\n"
      ],
      "text/plain": [
       "<rich.jupyter.JupyterRenderable at 0x7ffa9496f7f0>"
      ]
     },
     "metadata": {},
     "output_type": "display_data"
    },
    {
     "data": {
      "text/html": [
       "<pre style=\"white-space:pre;overflow-x:auto;line-height:normal;font-family:Menlo,'DejaVu Sans Mono',consolas,'Courier New',monospace\">    <span style=\"color: #000080; font-weight: bold\">7</span>          <span style=\"color: #000080; font-weight: bold\">-14.57524</span>    <span style=\"color: #000080; font-weight: bold\">-14.57524</span>       <span style=\"color: #000080; font-weight: bold\">2.776e-04</span> \n",
       "</pre>\n"
      ],
      "text/plain": [
       "<rich.jupyter.JupyterRenderable at 0x7ffa9496f130>"
      ]
     },
     "metadata": {},
     "output_type": "display_data"
    },
    {
     "data": {
      "text/html": [
       "<pre style=\"white-space:pre;overflow-x:auto;line-height:normal;font-family:Menlo,'DejaVu Sans Mono',consolas,'Courier New',monospace\">    <span style=\"color: #000080; font-weight: bold\">8</span>          <span style=\"color: #000080; font-weight: bold\">-14.57550</span>    <span style=\"color: #000080; font-weight: bold\">-14.57550</span>       <span style=\"color: #000080; font-weight: bold\">1.189e-04</span> \n",
       "</pre>\n"
      ],
      "text/plain": [
       "<rich.jupyter.JupyterRenderable at 0x7ffa9496f130>"
      ]
     },
     "metadata": {},
     "output_type": "display_data"
    },
    {
     "data": {
      "text/html": [
       "<pre style=\"white-space:pre;overflow-x:auto;line-height:normal;font-family:Menlo,'DejaVu Sans Mono',consolas,'Courier New',monospace\">    <span style=\"color: #000080; font-weight: bold\">9</span>          <span style=\"color: #000080; font-weight: bold\">-14.57565</span>    <span style=\"color: #000080; font-weight: bold\">-14.57565</span>       <span style=\"color: #000080; font-weight: bold\">4.909e-05</span> \n",
       "</pre>\n"
      ],
      "text/plain": [
       "<rich.jupyter.JupyterRenderable at 0x7ffa9494be80>"
      ]
     },
     "metadata": {},
     "output_type": "display_data"
    },
    {
     "data": {
      "text/html": [
       "<pre style=\"white-space:pre;overflow-x:auto;line-height:normal;font-family:Menlo,'DejaVu Sans Mono',consolas,'Courier New',monospace\">   <span style=\"color: #000080; font-weight: bold\">10</span>          <span style=\"color: #000080; font-weight: bold\">-14.57572</span>    <span style=\"color: #000080; font-weight: bold\">-14.57572</span>       <span style=\"color: #000080; font-weight: bold\">2.028e-05</span> \n",
       "</pre>\n"
      ],
      "text/plain": [
       "<rich.jupyter.JupyterRenderable at 0x7ffa9496f130>"
      ]
     },
     "metadata": {},
     "output_type": "display_data"
    },
    {
     "data": {
      "text/html": [
       "<pre style=\"white-space:pre;overflow-x:auto;line-height:normal;font-family:Menlo,'DejaVu Sans Mono',consolas,'Courier New',monospace\">   <span style=\"color: #000080; font-weight: bold\">11</span>          <span style=\"color: #000080; font-weight: bold\">-14.57575</span>    <span style=\"color: #000080; font-weight: bold\">-14.57575</span>       <span style=\"color: #000080; font-weight: bold\">8.210e-06</span> \n",
       "</pre>\n"
      ],
      "text/plain": [
       "<rich.jupyter.JupyterRenderable at 0x7ffa9494be80>"
      ]
     },
     "metadata": {},
     "output_type": "display_data"
    },
    {
     "data": {
      "text/html": [
       "<pre style=\"white-space:pre;overflow-x:auto;line-height:normal;font-family:Menlo,'DejaVu Sans Mono',consolas,'Courier New',monospace\">   <span style=\"color: #000080; font-weight: bold\">12</span>          <span style=\"color: #000080; font-weight: bold\">-14.57576</span>    <span style=\"color: #000080; font-weight: bold\">-14.57576</span>       <span style=\"color: #000080; font-weight: bold\">3.340e-06</span> \n",
       "</pre>\n"
      ],
      "text/plain": [
       "<rich.jupyter.JupyterRenderable at 0x7ffa9494be80>"
      ]
     },
     "metadata": {},
     "output_type": "display_data"
    },
    {
     "data": {
      "text/html": [
       "<pre style=\"white-space:pre;overflow-x:auto;line-height:normal;font-family:Menlo,'DejaVu Sans Mono',consolas,'Courier New',monospace\">   <span style=\"color: #000080; font-weight: bold\">13</span>          <span style=\"color: #000080; font-weight: bold\">-14.57577</span>    <span style=\"color: #000080; font-weight: bold\">-14.57577</span>       <span style=\"color: #000080; font-weight: bold\">1.342e-06</span> \n",
       "</pre>\n"
      ],
      "text/plain": [
       "<rich.jupyter.JupyterRenderable at 0x7ffa9494be80>"
      ]
     },
     "metadata": {},
     "output_type": "display_data"
    },
    {
     "data": {
      "text/html": [
       "<pre style=\"white-space:pre;overflow-x:auto;line-height:normal;font-family:Menlo,'DejaVu Sans Mono',consolas,'Courier New',monospace\">   <span style=\"color: #000080; font-weight: bold\">14</span>          <span style=\"color: #000080; font-weight: bold\">-14.57577</span>    <span style=\"color: #000080; font-weight: bold\">-14.57577</span>       <span style=\"color: #000080; font-weight: bold\">5.422e-07</span> \n",
       "</pre>\n"
      ],
      "text/plain": [
       "<rich.jupyter.JupyterRenderable at 0x7ffa9496f7f0>"
      ]
     },
     "metadata": {},
     "output_type": "display_data"
    }
   ],
   "source": [
    "part = cad.Partition( grid, Za, Zb, pol, Nmo_a, N_a, nu_a, Nmo_b, N_b, nu_b, {\"kinetic_part_type\" : \"inversion\",\n",
    "                                                                             \"k_family\"           : 'lda', \n",
    "                                                                             \"ke_func_id\"         : 50, \n",
    "                                                                             \"interaction_type\"   : 'dft',\n",
    "                                                                             \"AB_SYM\"             : True,})\n",
    "#Solver for Full Molecule\n",
    "mol_solver = cad.Pssolver( grid, Nmo, N,  {\"iter_lin_solver\" : True,\n",
    "                                           \"Tol_orbital\"     : 1e-10,\n",
    "                                           \"Tol_lin_solver\"  : 1e-4\n",
    "                                            })\n",
    "#Feed invertert object to partition. \n",
    "#Probably should default this\n",
    "part.inverter = cad.Inverter(grid, mol_solver, { \"invert_type\"     : 'orbitalinvert', \n",
    "                                                 \"use_iterative\"   : False,\n",
    "                                                 \"tol_lin_solver\"  : 1e-3,\n",
    "                                                 \"tol_Invert\"      : 1e-9,\n",
    "                                                 \"max_iter_invert\" : 50,\n",
    "                                                 \"res_factor\"      : 0,\n",
    "                                                 \"ab_sym\"          : True,\n",
    "                                                 \"disp\"            : False,\n",
    "                                                })\n",
    "\n",
    "#Run the scf calculation isolated\n",
    "# part.ISOLATED = True\n",
    "\n",
    "part.optPartition.isolated = True\n",
    "\n",
    "part.scf({\"Alpha\" : [0.6],\n",
    "          \"DISP\" : True,\n",
    "          \"e_tol\" : 1e-6, \n",
    "          \"ITERATIVE\" : False})\n",
    "\n",
    "\n"
   ]
  },
  {
   "cell_type": "code",
   "execution_count": 4,
   "metadata": {},
   "outputs": [
    {
     "data": {
      "text/html": [
       "<pre style=\"white-space:pre;overflow-x:auto;line-height:normal;font-family:Menlo,'DejaVu Sans Mono',consolas,'Courier New',monospace\">                Total Energy <span style=\"font-weight: bold\">(</span> a.u.<span style=\"font-weight: bold\">)</span>                               Inversion                \n",
       "\n",
       "</pre>\n"
      ],
      "text/plain": [
       "<rich.jupyter.JupyterRenderable at 0x7ffa99317b80>"
      ]
     },
     "metadata": {},
     "output_type": "display_data"
    },
    {
     "data": {
      "text/html": [
       "<pre style=\"white-space:pre;overflow-x:auto;line-height:normal;font-family:Menlo,'DejaVu Sans Mono',consolas,'Courier New',monospace\">                __________________                ____________________________________     \n",
       "\n",
       "</pre>\n"
      ],
      "text/plain": [
       "<rich.jupyter.JupyterRenderable at 0x7ffac4c56df0>"
      ]
     },
     "metadata": {},
     "output_type": "display_data"
    },
    {
     "data": {
      "text/html": [
       "<pre style=\"white-space:pre;overflow-x:auto;line-height:normal;font-family:Menlo,'DejaVu Sans Mono',consolas,'Courier New',monospace\">Iteration         A              B                  iters      optimality        res       \n",
       "\n",
       "</pre>\n"
      ],
      "text/plain": [
       "<rich.jupyter.JupyterRenderable at 0x7ffac4c56df0>"
      ]
     },
     "metadata": {},
     "output_type": "display_data"
    },
    {
     "data": {
      "text/html": [
       "<pre style=\"white-space:pre;overflow-x:auto;line-height:normal;font-family:Menlo,'DejaVu Sans Mono',consolas,'Courier New',monospace\">___________________________________________________________________________________________ \n",
       "\n",
       "</pre>\n"
      ],
      "text/plain": [
       "<rich.jupyter.JupyterRenderable at 0x7ffac4c56df0>"
      ]
     },
     "metadata": {},
     "output_type": "display_data"
    },
    {
     "data": {
      "text/html": [
       "<pre style=\"white-space:pre;overflow-x:auto;line-height:normal;font-family:Menlo,'DejaVu Sans Mono',consolas,'Courier New',monospace\">    <span style=\"color: #000080; font-weight: bold\">1</span>           <span style=\"color: #000080; font-weight: bold\">-14.58900</span>       <span style=\"color: #000080; font-weight: bold\">-14.58900</span>             <span style=\"color: #000080; font-weight: bold\">5</span>       +<span style=\"color: #000080; font-weight: bold\">4.695e-13</span>      +<span style=\"color: #000080; font-weight: bold\">1.000e+00</span>\n",
       "</pre>\n"
      ],
      "text/plain": [
       "<rich.jupyter.JupyterRenderable at 0x7ffac43da070>"
      ]
     },
     "metadata": {},
     "output_type": "display_data"
    },
    {
     "data": {
      "text/html": [
       "<pre style=\"white-space:pre;overflow-x:auto;line-height:normal;font-family:Menlo,'DejaVu Sans Mono',consolas,'Courier New',monospace\">    <span style=\"color: #000080; font-weight: bold\">2</span>           <span style=\"color: #000080; font-weight: bold\">-14.59428</span>       <span style=\"color: #000080; font-weight: bold\">-14.59428</span>             <span style=\"color: #000080; font-weight: bold\">4</span>       +<span style=\"color: #000080; font-weight: bold\">1.195e-12</span>      +<span style=\"color: #000080; font-weight: bold\">7.531e-04</span>\n",
       "</pre>\n"
      ],
      "text/plain": [
       "<rich.jupyter.JupyterRenderable at 0x7ffac4c563d0>"
      ]
     },
     "metadata": {},
     "output_type": "display_data"
    },
    {
     "data": {
      "text/html": [
       "<pre style=\"white-space:pre;overflow-x:auto;line-height:normal;font-family:Menlo,'DejaVu Sans Mono',consolas,'Courier New',monospace\">    <span style=\"color: #000080; font-weight: bold\">3</span>           <span style=\"color: #000080; font-weight: bold\">-14.59024</span>       <span style=\"color: #000080; font-weight: bold\">-14.59024</span>             <span style=\"color: #000080; font-weight: bold\">4</span>       +<span style=\"color: #000080; font-weight: bold\">9.483e-12</span>      +<span style=\"color: #000080; font-weight: bold\">6.970e-04</span>\n",
       "</pre>\n"
      ],
      "text/plain": [
       "<rich.jupyter.JupyterRenderable at 0x7ffac43da070>"
      ]
     },
     "metadata": {},
     "output_type": "display_data"
    },
    {
     "data": {
      "text/html": [
       "<pre style=\"white-space:pre;overflow-x:auto;line-height:normal;font-family:Menlo,'DejaVu Sans Mono',consolas,'Courier New',monospace\">    <span style=\"color: #000080; font-weight: bold\">4</span>           <span style=\"color: #000080; font-weight: bold\">-14.58317</span>       <span style=\"color: #000080; font-weight: bold\">-14.58317</span>             <span style=\"color: #000080; font-weight: bold\">4</span>       +<span style=\"color: #000080; font-weight: bold\">1.806e-11</span>      +<span style=\"color: #000080; font-weight: bold\">4.838e-04</span>\n",
       "</pre>\n"
      ],
      "text/plain": [
       "<rich.jupyter.JupyterRenderable at 0x7ffac4c563d0>"
      ]
     },
     "metadata": {},
     "output_type": "display_data"
    },
    {
     "data": {
      "text/html": [
       "<pre style=\"white-space:pre;overflow-x:auto;line-height:normal;font-family:Menlo,'DejaVu Sans Mono',consolas,'Courier New',monospace\">    <span style=\"color: #000080; font-weight: bold\">5</span>           <span style=\"color: #000080; font-weight: bold\">-14.57611</span>       <span style=\"color: #000080; font-weight: bold\">-14.57611</span>             <span style=\"color: #000080; font-weight: bold\">4</span>       +<span style=\"color: #000080; font-weight: bold\">1.552e-11</span>      +<span style=\"color: #000080; font-weight: bold\">1.995e-04</span>\n",
       "</pre>\n"
      ],
      "text/plain": [
       "<rich.jupyter.JupyterRenderable at 0x7ffac43da070>"
      ]
     },
     "metadata": {},
     "output_type": "display_data"
    },
    {
     "data": {
      "text/html": [
       "<pre style=\"white-space:pre;overflow-x:auto;line-height:normal;font-family:Menlo,'DejaVu Sans Mono',consolas,'Courier New',monospace\">    <span style=\"color: #000080; font-weight: bold\">6</span>           <span style=\"color: #000080; font-weight: bold\">-14.57063</span>       <span style=\"color: #000080; font-weight: bold\">-14.57063</span>             <span style=\"color: #000080; font-weight: bold\">4</span>       +<span style=\"color: #000080; font-weight: bold\">6.393e-12</span>      +<span style=\"color: #000080; font-weight: bold\">1.726e-04</span>\n",
       "</pre>\n"
      ],
      "text/plain": [
       "<rich.jupyter.JupyterRenderable at 0x7ffac4c563d0>"
      ]
     },
     "metadata": {},
     "output_type": "display_data"
    },
    {
     "data": {
      "text/html": [
       "<pre style=\"white-space:pre;overflow-x:auto;line-height:normal;font-family:Menlo,'DejaVu Sans Mono',consolas,'Courier New',monospace\">    <span style=\"color: #000080; font-weight: bold\">7</span>           <span style=\"color: #000080; font-weight: bold\">-14.56789</span>       <span style=\"color: #000080; font-weight: bold\">-14.56789</span>             <span style=\"color: #000080; font-weight: bold\">4</span>       +<span style=\"color: #000080; font-weight: bold\">1.190e-11</span>      +<span style=\"color: #000080; font-weight: bold\">1.896e-04</span>\n",
       "</pre>\n"
      ],
      "text/plain": [
       "<rich.jupyter.JupyterRenderable at 0x7ffac43da070>"
      ]
     },
     "metadata": {},
     "output_type": "display_data"
    },
    {
     "data": {
      "text/html": [
       "<pre style=\"white-space:pre;overflow-x:auto;line-height:normal;font-family:Menlo,'DejaVu Sans Mono',consolas,'Courier New',monospace\">    <span style=\"color: #000080; font-weight: bold\">8</span>           <span style=\"color: #000080; font-weight: bold\">-14.56757</span>       <span style=\"color: #000080; font-weight: bold\">-14.56757</span>             <span style=\"color: #000080; font-weight: bold\">4</span>       +<span style=\"color: #000080; font-weight: bold\">1.845e-11</span>      +<span style=\"color: #000080; font-weight: bold\">2.172e-04</span>\n",
       "</pre>\n"
      ],
      "text/plain": [
       "<rich.jupyter.JupyterRenderable at 0x7ffac4c563d0>"
      ]
     },
     "metadata": {},
     "output_type": "display_data"
    },
    {
     "data": {
      "text/html": [
       "<pre style=\"white-space:pre;overflow-x:auto;line-height:normal;font-family:Menlo,'DejaVu Sans Mono',consolas,'Courier New',monospace\">    <span style=\"color: #000080; font-weight: bold\">9</span>           <span style=\"color: #000080; font-weight: bold\">-14.56868</span>       <span style=\"color: #000080; font-weight: bold\">-14.56868</span>             <span style=\"color: #000080; font-weight: bold\">4</span>       +<span style=\"color: #000080; font-weight: bold\">4.235e-12</span>      +<span style=\"color: #000080; font-weight: bold\">1.943e-04</span>\n",
       "</pre>\n"
      ],
      "text/plain": [
       "<rich.jupyter.JupyterRenderable at 0x7ffac43da070>"
      ]
     },
     "metadata": {},
     "output_type": "display_data"
    },
    {
     "data": {
      "text/html": [
       "<pre style=\"white-space:pre;overflow-x:auto;line-height:normal;font-family:Menlo,'DejaVu Sans Mono',consolas,'Courier New',monospace\">   <span style=\"color: #000080; font-weight: bold\">10</span>           <span style=\"color: #000080; font-weight: bold\">-14.57046</span>       <span style=\"color: #000080; font-weight: bold\">-14.57046</span>             <span style=\"color: #000080; font-weight: bold\">4</span>       +<span style=\"color: #000080; font-weight: bold\">1.692e-11</span>      +<span style=\"color: #000080; font-weight: bold\">1.338e-04</span>\n",
       "</pre>\n"
      ],
      "text/plain": [
       "<rich.jupyter.JupyterRenderable at 0x7ffac43da070>"
      ]
     },
     "metadata": {},
     "output_type": "display_data"
    },
    {
     "data": {
      "text/html": [
       "<pre style=\"white-space:pre;overflow-x:auto;line-height:normal;font-family:Menlo,'DejaVu Sans Mono',consolas,'Courier New',monospace\">   <span style=\"color: #000080; font-weight: bold\">11</span>           <span style=\"color: #000080; font-weight: bold\">-14.57239</span>       <span style=\"color: #000080; font-weight: bold\">-14.57239</span>             <span style=\"color: #000080; font-weight: bold\">4</span>       +<span style=\"color: #000080; font-weight: bold\">7.662e-12</span>      +<span style=\"color: #000080; font-weight: bold\">6.103e-05</span>\n",
       "</pre>\n"
      ],
      "text/plain": [
       "<rich.jupyter.JupyterRenderable at 0x7ffac4c563d0>"
      ]
     },
     "metadata": {},
     "output_type": "display_data"
    },
    {
     "data": {
      "text/html": [
       "<pre style=\"white-space:pre;overflow-x:auto;line-height:normal;font-family:Menlo,'DejaVu Sans Mono',consolas,'Courier New',monospace\">   <span style=\"color: #000080; font-weight: bold\">12</span>           <span style=\"color: #000080; font-weight: bold\">-14.57403</span>       <span style=\"color: #000080; font-weight: bold\">-14.57403</span>             <span style=\"color: #000080; font-weight: bold\">5</span>       +<span style=\"color: #000080; font-weight: bold\">7.427e-10</span>      +<span style=\"color: #000080; font-weight: bold\">4.622e-05</span>\n",
       "</pre>\n"
      ],
      "text/plain": [
       "<rich.jupyter.JupyterRenderable at 0x7ffac43da070>"
      ]
     },
     "metadata": {},
     "output_type": "display_data"
    },
    {
     "data": {
      "text/html": [
       "<pre style=\"white-space:pre;overflow-x:auto;line-height:normal;font-family:Menlo,'DejaVu Sans Mono',consolas,'Courier New',monospace\">   <span style=\"color: #000080; font-weight: bold\">13</span>           <span style=\"color: #000080; font-weight: bold\">-14.57507</span>       <span style=\"color: #000080; font-weight: bold\">-14.57507</span>            <span style=\"color: #000080; font-weight: bold\">13</span>       +<span style=\"color: #000080; font-weight: bold\">5.860e-10</span>      +<span style=\"color: #000080; font-weight: bold\">5.404e-05</span>\n",
       "</pre>\n"
      ],
      "text/plain": [
       "<rich.jupyter.JupyterRenderable at 0x7ffac43da070>"
      ]
     },
     "metadata": {},
     "output_type": "display_data"
    },
    {
     "data": {
      "text/html": [
       "<pre style=\"white-space:pre;overflow-x:auto;line-height:normal;font-family:Menlo,'DejaVu Sans Mono',consolas,'Courier New',monospace\">   <span style=\"color: #000080; font-weight: bold\">14</span>           <span style=\"color: #000080; font-weight: bold\">-14.57539</span>       <span style=\"color: #000080; font-weight: bold\">-14.57539</span>             <span style=\"color: #000080; font-weight: bold\">3</span>       +<span style=\"color: #000080; font-weight: bold\">3.846e-10</span>      +<span style=\"color: #000080; font-weight: bold\">6.905e-05</span>\n",
       "</pre>\n"
      ],
      "text/plain": [
       "<rich.jupyter.JupyterRenderable at 0x7ffac43da070>"
      ]
     },
     "metadata": {},
     "output_type": "display_data"
    },
    {
     "data": {
      "text/html": [
       "<pre style=\"white-space:pre;overflow-x:auto;line-height:normal;font-family:Menlo,'DejaVu Sans Mono',consolas,'Courier New',monospace\">   <span style=\"color: #000080; font-weight: bold\">15</span>           <span style=\"color: #000080; font-weight: bold\">-14.57512</span>       <span style=\"color: #000080; font-weight: bold\">-14.57512</span>             <span style=\"color: #000080; font-weight: bold\">3</span>       +<span style=\"color: #000080; font-weight: bold\">6.042e-10</span>      +<span style=\"color: #000080; font-weight: bold\">6.246e-05</span>\n",
       "</pre>\n"
      ],
      "text/plain": [
       "<rich.jupyter.JupyterRenderable at 0x7ffac4c563d0>"
      ]
     },
     "metadata": {},
     "output_type": "display_data"
    },
    {
     "data": {
      "text/html": [
       "<pre style=\"white-space:pre;overflow-x:auto;line-height:normal;font-family:Menlo,'DejaVu Sans Mono',consolas,'Courier New',monospace\">   <span style=\"color: #000080; font-weight: bold\">16</span>           <span style=\"color: #000080; font-weight: bold\">-14.57450</span>       <span style=\"color: #000080; font-weight: bold\">-14.57450</span>             <span style=\"color: #000080; font-weight: bold\">3</span>       +<span style=\"color: #000080; font-weight: bold\">9.230e-10</span>      +<span style=\"color: #000080; font-weight: bold\">4.283e-05</span>\n",
       "</pre>\n"
      ],
      "text/plain": [
       "<rich.jupyter.JupyterRenderable at 0x7ffac4c56550>"
      ]
     },
     "metadata": {},
     "output_type": "display_data"
    },
    {
     "data": {
      "text/html": [
       "<pre style=\"white-space:pre;overflow-x:auto;line-height:normal;font-family:Menlo,'DejaVu Sans Mono',consolas,'Courier New',monospace\">   <span style=\"color: #000080; font-weight: bold\">17</span>           <span style=\"color: #000080; font-weight: bold\">-14.57382</span>       <span style=\"color: #000080; font-weight: bold\">-14.57382</span>             <span style=\"color: #000080; font-weight: bold\">3</span>       +<span style=\"color: #000080; font-weight: bold\">6.090e-10</span>      +<span style=\"color: #000080; font-weight: bold\">1.991e-05</span>\n",
       "</pre>\n"
      ],
      "text/plain": [
       "<rich.jupyter.JupyterRenderable at 0x7ffac4c563d0>"
      ]
     },
     "metadata": {},
     "output_type": "display_data"
    },
    {
     "data": {
      "text/html": [
       "<pre style=\"white-space:pre;overflow-x:auto;line-height:normal;font-family:Menlo,'DejaVu Sans Mono',consolas,'Courier New',monospace\">   <span style=\"color: #000080; font-weight: bold\">18</span>           <span style=\"color: #000080; font-weight: bold\">-14.57329</span>       <span style=\"color: #000080; font-weight: bold\">-14.57329</span>             <span style=\"color: #000080; font-weight: bold\">3</span>       +<span style=\"color: #000080; font-weight: bold\">2.544e-10</span>      +<span style=\"color: #000080; font-weight: bold\">1.424e-05</span>\n",
       "</pre>\n"
      ],
      "text/plain": [
       "<rich.jupyter.JupyterRenderable at 0x7ffac4c56550>"
      ]
     },
     "metadata": {},
     "output_type": "display_data"
    },
    {
     "data": {
      "text/html": [
       "<pre style=\"white-space:pre;overflow-x:auto;line-height:normal;font-family:Menlo,'DejaVu Sans Mono',consolas,'Courier New',monospace\">   <span style=\"color: #000080; font-weight: bold\">19</span>           <span style=\"color: #000080; font-weight: bold\">-14.57301</span>       <span style=\"color: #000080; font-weight: bold\">-14.57301</span>             <span style=\"color: #000080; font-weight: bold\">3</span>       +<span style=\"color: #000080; font-weight: bold\">2.413e-11</span>      +<span style=\"color: #000080; font-weight: bold\">1.555e-05</span>\n",
       "</pre>\n"
      ],
      "text/plain": [
       "<rich.jupyter.JupyterRenderable at 0x7ffac43da070>"
      ]
     },
     "metadata": {},
     "output_type": "display_data"
    },
    {
     "data": {
      "text/html": [
       "<pre style=\"white-space:pre;overflow-x:auto;line-height:normal;font-family:Menlo,'DejaVu Sans Mono',consolas,'Courier New',monospace\">   <span style=\"color: #000080; font-weight: bold\">20</span>           <span style=\"color: #000080; font-weight: bold\">-14.57295</span>       <span style=\"color: #000080; font-weight: bold\">-14.57295</span>             <span style=\"color: #000080; font-weight: bold\">3</span>       +<span style=\"color: #000080; font-weight: bold\">1.667e-11</span>      +<span style=\"color: #000080; font-weight: bold\">2.000e-05</span>\n",
       "</pre>\n"
      ],
      "text/plain": [
       "<rich.jupyter.JupyterRenderable at 0x7ffac43da070>"
      ]
     },
     "metadata": {},
     "output_type": "display_data"
    },
    {
     "data": {
      "text/html": [
       "<pre style=\"white-space:pre;overflow-x:auto;line-height:normal;font-family:Menlo,'DejaVu Sans Mono',consolas,'Courier New',monospace\">   <span style=\"color: #000080; font-weight: bold\">21</span>           <span style=\"color: #000080; font-weight: bold\">-14.57306</span>       <span style=\"color: #000080; font-weight: bold\">-14.57306</span>             <span style=\"color: #000080; font-weight: bold\">3</span>       +<span style=\"color: #000080; font-weight: bold\">1.229e-11</span>      +<span style=\"color: #000080; font-weight: bold\">1.843e-05</span>\n",
       "</pre>\n"
      ],
      "text/plain": [
       "<rich.jupyter.JupyterRenderable at 0x7ffac4c56550>"
      ]
     },
     "metadata": {},
     "output_type": "display_data"
    },
    {
     "data": {
      "text/html": [
       "<pre style=\"white-space:pre;overflow-x:auto;line-height:normal;font-family:Menlo,'DejaVu Sans Mono',consolas,'Courier New',monospace\">   <span style=\"color: #000080; font-weight: bold\">22</span>           <span style=\"color: #000080; font-weight: bold\">-14.57324</span>       <span style=\"color: #000080; font-weight: bold\">-14.57324</span>             <span style=\"color: #000080; font-weight: bold\">3</span>       +<span style=\"color: #000080; font-weight: bold\">1.684e-11</span>      +<span style=\"color: #000080; font-weight: bold\">1.307e-05</span>\n",
       "</pre>\n"
      ],
      "text/plain": [
       "<rich.jupyter.JupyterRenderable at 0x7ffac43da070>"
      ]
     },
     "metadata": {},
     "output_type": "display_data"
    },
    {
     "data": {
      "text/html": [
       "<pre style=\"white-space:pre;overflow-x:auto;line-height:normal;font-family:Menlo,'DejaVu Sans Mono',consolas,'Courier New',monospace\">   <span style=\"color: #000080; font-weight: bold\">23</span>           <span style=\"color: #000080; font-weight: bold\">-14.57344</span>       <span style=\"color: #000080; font-weight: bold\">-14.57344</span>             <span style=\"color: #000080; font-weight: bold\">3</span>       +<span style=\"color: #000080; font-weight: bold\">1.160e-11</span>      +<span style=\"color: #000080; font-weight: bold\">7.080e-06</span>\n",
       "</pre>\n"
      ],
      "text/plain": [
       "<rich.jupyter.JupyterRenderable at 0x7ffac4c56550>"
      ]
     },
     "metadata": {},
     "output_type": "display_data"
    },
    {
     "data": {
      "text/html": [
       "<pre style=\"white-space:pre;overflow-x:auto;line-height:normal;font-family:Menlo,'DejaVu Sans Mono',consolas,'Courier New',monospace\">   <span style=\"color: #000080; font-weight: bold\">24</span>           <span style=\"color: #000080; font-weight: bold\">-14.57358</span>       <span style=\"color: #000080; font-weight: bold\">-14.57358</span>             <span style=\"color: #000080; font-weight: bold\">3</span>       +<span style=\"color: #000080; font-weight: bold\">4.469e-12</span>      +<span style=\"color: #000080; font-weight: bold\">3.677e-06</span>\n",
       "</pre>\n"
      ],
      "text/plain": [
       "<rich.jupyter.JupyterRenderable at 0x7ffac43da070>"
      ]
     },
     "metadata": {},
     "output_type": "display_data"
    },
    {
     "data": {
      "text/html": [
       "<pre style=\"white-space:pre;overflow-x:auto;line-height:normal;font-family:Menlo,'DejaVu Sans Mono',consolas,'Courier New',monospace\">   <span style=\"color: #000080; font-weight: bold\">25</span>           <span style=\"color: #000080; font-weight: bold\">-14.57366</span>       <span style=\"color: #000080; font-weight: bold\">-14.57366</span>             <span style=\"color: #000080; font-weight: bold\">3</span>       +<span style=\"color: #000080; font-weight: bold\">1.466e-12</span>      +<span style=\"color: #000080; font-weight: bold\">4.407e-06</span>\n",
       "</pre>\n"
      ],
      "text/plain": [
       "<rich.jupyter.JupyterRenderable at 0x7ffac4c56550>"
      ]
     },
     "metadata": {},
     "output_type": "display_data"
    },
    {
     "data": {
      "text/html": [
       "<pre style=\"white-space:pre;overflow-x:auto;line-height:normal;font-family:Menlo,'DejaVu Sans Mono',consolas,'Courier New',monospace\">   <span style=\"color: #000080; font-weight: bold\">26</span>           <span style=\"color: #000080; font-weight: bold\">-14.57367</span>       <span style=\"color: #000080; font-weight: bold\">-14.57367</span>             <span style=\"color: #000080; font-weight: bold\">3</span>       +<span style=\"color: #000080; font-weight: bold\">1.084e-11</span>      +<span style=\"color: #000080; font-weight: bold\">5.430e-06</span>\n",
       "</pre>\n"
      ],
      "text/plain": [
       "<rich.jupyter.JupyterRenderable at 0x7ffac4c56550>"
      ]
     },
     "metadata": {},
     "output_type": "display_data"
    },
    {
     "data": {
      "text/html": [
       "<pre style=\"white-space:pre;overflow-x:auto;line-height:normal;font-family:Menlo,'DejaVu Sans Mono',consolas,'Courier New',monospace\">   <span style=\"color: #000080; font-weight: bold\">27</span>           <span style=\"color: #000080; font-weight: bold\">-14.57364</span>       <span style=\"color: #000080; font-weight: bold\">-14.57364</span>             <span style=\"color: #000080; font-weight: bold\">3</span>       +<span style=\"color: #000080; font-weight: bold\">1.451e-11</span>      +<span style=\"color: #000080; font-weight: bold\">5.320e-06</span>\n",
       "</pre>\n"
      ],
      "text/plain": [
       "<rich.jupyter.JupyterRenderable at 0x7ffac4c4b250>"
      ]
     },
     "metadata": {},
     "output_type": "display_data"
    },
    {
     "data": {
      "text/html": [
       "<pre style=\"white-space:pre;overflow-x:auto;line-height:normal;font-family:Menlo,'DejaVu Sans Mono',consolas,'Courier New',monospace\">   <span style=\"color: #000080; font-weight: bold\">28</span>           <span style=\"color: #000080; font-weight: bold\">-14.57360</span>       <span style=\"color: #000080; font-weight: bold\">-14.57360</span>             <span style=\"color: #000080; font-weight: bold\">3</span>       +<span style=\"color: #000080; font-weight: bold\">2.093e-13</span>      +<span style=\"color: #000080; font-weight: bold\">4.231e-06</span>\n",
       "</pre>\n"
      ],
      "text/plain": [
       "<rich.jupyter.JupyterRenderable at 0x7ffac4c4b250>"
      ]
     },
     "metadata": {},
     "output_type": "display_data"
    },
    {
     "data": {
      "text/html": [
       "<pre style=\"white-space:pre;overflow-x:auto;line-height:normal;font-family:Menlo,'DejaVu Sans Mono',consolas,'Courier New',monospace\">   <span style=\"color: #000080; font-weight: bold\">29</span>           <span style=\"color: #000080; font-weight: bold\">-14.57355</span>       <span style=\"color: #000080; font-weight: bold\">-14.57355</span>             <span style=\"color: #000080; font-weight: bold\">3</span>       +<span style=\"color: #000080; font-weight: bold\">3.855e-13</span>      +<span style=\"color: #000080; font-weight: bold\">2.963e-06</span>\n",
       "</pre>\n"
      ],
      "text/plain": [
       "<rich.jupyter.JupyterRenderable at 0x7ffac4c56550>"
      ]
     },
     "metadata": {},
     "output_type": "display_data"
    },
    {
     "data": {
      "text/html": [
       "<pre style=\"white-space:pre;overflow-x:auto;line-height:normal;font-family:Menlo,'DejaVu Sans Mono',consolas,'Courier New',monospace\">   <span style=\"color: #000080; font-weight: bold\">30</span>           <span style=\"color: #000080; font-weight: bold\">-14.57352</span>       <span style=\"color: #000080; font-weight: bold\">-14.57352</span>             <span style=\"color: #000080; font-weight: bold\">4</span>       +<span style=\"color: #000080; font-weight: bold\">9.129e-12</span>      +<span style=\"color: #000080; font-weight: bold\">2.113e-06</span>\n",
       "</pre>\n"
      ],
      "text/plain": [
       "<rich.jupyter.JupyterRenderable at 0x7ffac4c56550>"
      ]
     },
     "metadata": {},
     "output_type": "display_data"
    },
    {
     "data": {
      "text/html": [
       "<pre style=\"white-space:pre;overflow-x:auto;line-height:normal;font-family:Menlo,'DejaVu Sans Mono',consolas,'Courier New',monospace\">   <span style=\"color: #000080; font-weight: bold\">31</span>           <span style=\"color: #000080; font-weight: bold\">-14.57350</span>       <span style=\"color: #000080; font-weight: bold\">-14.57350</span>             <span style=\"color: #000080; font-weight: bold\">3</span>       +<span style=\"color: #000080; font-weight: bold\">2.425e-13</span>      +<span style=\"color: #000080; font-weight: bold\">1.495e-06</span>\n",
       "</pre>\n"
      ],
      "text/plain": [
       "<rich.jupyter.JupyterRenderable at 0x7ffac4c56550>"
      ]
     },
     "metadata": {},
     "output_type": "display_data"
    },
    {
     "data": {
      "text/html": [
       "<pre style=\"white-space:pre;overflow-x:auto;line-height:normal;font-family:Menlo,'DejaVu Sans Mono',consolas,'Courier New',monospace\">   <span style=\"color: #000080; font-weight: bold\">32</span>           <span style=\"color: #000080; font-weight: bold\">-14.57349</span>       <span style=\"color: #000080; font-weight: bold\">-14.57349</span>             <span style=\"color: #000080; font-weight: bold\">3</span>       +<span style=\"color: #000080; font-weight: bold\">7.137e-12</span>      +<span style=\"color: #000080; font-weight: bold\">1.391e-06</span>\n",
       "</pre>\n"
      ],
      "text/plain": [
       "<rich.jupyter.JupyterRenderable at 0x7ffac43da070>"
      ]
     },
     "metadata": {},
     "output_type": "display_data"
    },
    {
     "data": {
      "text/html": [
       "<pre style=\"white-space:pre;overflow-x:auto;line-height:normal;font-family:Menlo,'DejaVu Sans Mono',consolas,'Courier New',monospace\">   <span style=\"color: #000080; font-weight: bold\">33</span>           <span style=\"color: #000080; font-weight: bold\">-14.57349</span>       <span style=\"color: #000080; font-weight: bold\">-14.57349</span>             <span style=\"color: #000080; font-weight: bold\">3</span>       +<span style=\"color: #000080; font-weight: bold\">1.436e-12</span>      +<span style=\"color: #000080; font-weight: bold\">1.646e-06</span>\n",
       "</pre>\n"
      ],
      "text/plain": [
       "<rich.jupyter.JupyterRenderable at 0x7ffac4c4b250>"
      ]
     },
     "metadata": {},
     "output_type": "display_data"
    },
    {
     "data": {
      "text/html": [
       "<pre style=\"white-space:pre;overflow-x:auto;line-height:normal;font-family:Menlo,'DejaVu Sans Mono',consolas,'Courier New',monospace\">   <span style=\"color: #000080; font-weight: bold\">34</span>           <span style=\"color: #000080; font-weight: bold\">-14.57349</span>       <span style=\"color: #000080; font-weight: bold\">-14.57349</span>             <span style=\"color: #000080; font-weight: bold\">3</span>       +<span style=\"color: #000080; font-weight: bold\">1.942e-12</span>      +<span style=\"color: #000080; font-weight: bold\">1.625e-06</span>\n",
       "</pre>\n"
      ],
      "text/plain": [
       "<rich.jupyter.JupyterRenderable at 0x7ffac4c4b250>"
      ]
     },
     "metadata": {},
     "output_type": "display_data"
    },
    {
     "data": {
      "text/html": [
       "<pre style=\"white-space:pre;overflow-x:auto;line-height:normal;font-family:Menlo,'DejaVu Sans Mono',consolas,'Courier New',monospace\">   <span style=\"color: #000080; font-weight: bold\">35</span>           <span style=\"color: #000080; font-weight: bold\">-14.57350</span>       <span style=\"color: #000080; font-weight: bold\">-14.57350</span>             <span style=\"color: #000080; font-weight: bold\">3</span>       +<span style=\"color: #000080; font-weight: bold\">4.014e-12</span>      +<span style=\"color: #000080; font-weight: bold\">1.453e-06</span>\n",
       "</pre>\n"
      ],
      "text/plain": [
       "<rich.jupyter.JupyterRenderable at 0x7ffac4c56550>"
      ]
     },
     "metadata": {},
     "output_type": "display_data"
    },
    {
     "data": {
      "text/html": [
       "<pre style=\"white-space:pre;overflow-x:auto;line-height:normal;font-family:Menlo,'DejaVu Sans Mono',consolas,'Courier New',monospace\">   <span style=\"color: #000080; font-weight: bold\">36</span>           <span style=\"color: #000080; font-weight: bold\">-14.57351</span>       <span style=\"color: #000080; font-weight: bold\">-14.57351</span>             <span style=\"color: #000080; font-weight: bold\">3</span>       +<span style=\"color: #000080; font-weight: bold\">9.440e-12</span>      +<span style=\"color: #000080; font-weight: bold\">1.044e-06</span>\n",
       "</pre>\n"
      ],
      "text/plain": [
       "<rich.jupyter.JupyterRenderable at 0x7ffac43da070>"
      ]
     },
     "metadata": {},
     "output_type": "display_data"
    },
    {
     "data": {
      "text/html": [
       "<pre style=\"white-space:pre;overflow-x:auto;line-height:normal;font-family:Menlo,'DejaVu Sans Mono',consolas,'Courier New',monospace\">   <span style=\"color: #000080; font-weight: bold\">37</span>           <span style=\"color: #000080; font-weight: bold\">-14.57352</span>       <span style=\"color: #000080; font-weight: bold\">-14.57352</span>             <span style=\"color: #000080; font-weight: bold\">3</span>       +<span style=\"color: #000080; font-weight: bold\">3.508e-11</span>      +<span style=\"color: #000080; font-weight: bold\">6.097e-07</span>\n",
       "</pre>\n"
      ],
      "text/plain": [
       "<rich.jupyter.JupyterRenderable at 0x7ffac4c56550>"
      ]
     },
     "metadata": {},
     "output_type": "display_data"
    }
   ],
   "source": [
    "#Run the Full PDFT Calculation\n",
    "part.optPartition.isolated = False\n",
    "\n",
    "\n",
    "part.scf({\"disp\"       : True,\n",
    "          \"alpha\"      : [0.3],\n",
    "          \"e_tol\"      : 1e-6,\n",
    "          \"continuing\" : True, \n",
    "          \"iterative\"  : False,\n",
    "          \"max_iter\"   : 100})"
   ]
  },
  {
   "cell_type": "code",
   "execution_count": 6,
   "metadata": {},
   "outputs": [
    {
     "data": {
      "text/plain": [
       "mappingproxy({'__module__': 'CADMium.partition.partition',\n",
       "              '__dict__': <attribute '__dict__' of 'E' objects>,\n",
       "              '__weakref__': <attribute '__weakref__' of 'E' objects>,\n",
       "              '__doc__': 'E()',\n",
       "              '__dataclass_params__': _DataclassParams(init=True,repr=True,eq=True,order=False,unsafe_hash=False,frozen=False),\n",
       "              '__dataclass_fields__': {},\n",
       "              '__init__': <function CADMium.partition.partition.__create_fn__.<locals>.__init__(self) -> None>,\n",
       "              '__repr__': <function CADMium.partition.partition.__create_fn__.<locals>.__repr__(self)>,\n",
       "              '__eq__': <function CADMium.partition.partition.__create_fn__.<locals>.__eq__(self, other)>,\n",
       "              '__hash__': None,\n",
       "              'Ea': -14.573518053820795,\n",
       "              'Eb': -14.573518053820795,\n",
       "              'Ef': -29.14703610764159,\n",
       "              'Tsf': 29.73754119181355,\n",
       "              'Eksf': array([[-16.36639367]]),\n",
       "              'Enucf': -68.0861363132759,\n",
       "              'Exf': -4.687734488522692,\n",
       "              'Ecf': -0.4501658037198592,\n",
       "              'Ehf': 14.339459306063315,\n",
       "              'Vhxcf': 21.920976725196393,\n",
       "              'Ep': -2.6867993790023346,\n",
       "              'Ep_pot': -5.35581622031151,\n",
       "              'Ep_kin': 0.011458878010198958,\n",
       "              'Ep_hxc': 2.6575579632989768,\n",
       "              'Et': -31.833835486643924,\n",
       "              'Vnn': 2.6666666666666665,\n",
       "              'E': -29.167168819977256,\n",
       "              'evals_a': array([], dtype=float64),\n",
       "              'evals_b': array([], dtype=float64),\n",
       "              'Ep_h': 2.6746847516064243,\n",
       "              'Ep_x': -0.014909107288865187,\n",
       "              'Ep_c': -0.0022176810185823292})"
      ]
     },
     "execution_count": 6,
     "metadata": {},
     "output_type": "execute_result"
    }
   ],
   "source": [
    "part.E.__dict__\n",
    "#Like wtf why is EP zero?"
   ]
  },
  {
   "cell_type": "code",
   "execution_count": 7,
   "metadata": {},
   "outputs": [],
   "source": [
    "full, x,y = grid.plotter(part.V.vp[:,0] + part.V.vp[:,1])\n",
    "x_axis,vp = grid.axis_plot(part.V.vp[:,0] + part.V.vp[:,1])"
   ]
  },
  {
   "cell_type": "code",
   "execution_count": 8,
   "metadata": {},
   "outputs": [
    {
     "data": {
      "text/plain": [
       "<matplotlib.colorbar.Colorbar at 0x7ffa94715b20>"
      ]
     },
     "execution_count": 8,
     "metadata": {},
     "output_type": "execute_result"
    },
    {
     "data": {
      "image/png": "[encoded data removed]",
      "text/plain": [
       "<Figure size 900x600 with 2 Axes>"
      ]
     },
     "metadata": {
      "needs_background": "light"
     },
     "output_type": "display_data"
    }
   ],
   "source": [
    "fig = plt.figure(dpi=150)\n",
    "plt.contourf(x,y,full, levels=100, cmap=\"viridis\")\n",
    "# plt.xlim([-2,2])\n",
    "# plt.ylim([-2,2])\n",
    "plt.colorbar()"
   ]
  },
  {
   "cell_type": "code",
   "execution_count": 9,
   "metadata": {},
   "outputs": [
    {
     "data": {
      "text/plain": [
       "[<matplotlib.lines.Line2D at 0x7ffa94609190>]"
      ]
     },
     "execution_count": 9,
     "metadata": {},
     "output_type": "execute_result"
    },
    {
     "data": {
      "image/png": "[encoded data removed]",
      "text/plain": [
       "<Figure size 720x480 with 1 Axes>"
      ]
     },
     "metadata": {
      "needs_background": "light"
     },
     "output_type": "display_data"
    }
   ],
   "source": [
    "fig = plt.figure(dpi=120)\n",
    "plt.plot(x_axis,vp)\n",
    "# plt.xlim([0,6])\n",
    "# plt.ylim([-5,1])"
   ]
  },
  {
   "cell_type": "code",
   "execution_count": null,
   "metadata": {},
   "outputs": [],
   "source": []
  }
 ],
 "metadata": {
  "kernelspec": {
   "display_name": "Python 3",
   "language": "python",
   "name": "python3"
  },
  "language_info": {
   "codemirror_mode": {
    "name": "ipython",
    "version": 3
   },
   "file_extension": ".py",
   "mimetype": "text/x-python",
   "name": "python",
   "nbconvert_exporter": "python",
   "pygments_lexer": "ipython3",
   "version": "3.8.5"
  }
 },
 "nbformat": 4,
 "nbformat_minor": 4
}
